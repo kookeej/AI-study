{
  "nbformat": 4,
  "nbformat_minor": 0,
  "metadata": {
    "colab": {
      "name": "pandas01.ipynb",
      "provenance": [],
      "authorship_tag": "ABX9TyM+TXNYukP+6e2qXi3VqwBS",
      "include_colab_link": true
    },
    "kernelspec": {
      "name": "python3",
      "display_name": "Python 3"
    },
    "language_info": {
      "name": "python"
    }
  },
  "cells": [
    {
      "cell_type": "markdown",
      "metadata": {
        "id": "view-in-github",
        "colab_type": "text"
      },
      "source": [
        "<a href=\"https://colab.research.google.com/github/kookeej/AI-study/blob/main/Library/pandas01.ipynb\" target=\"_parent\"><img src=\"https://colab.research.google.com/assets/colab-badge.svg\" alt=\"Open In Colab\"/></a>"
      ]
    },
    {
      "cell_type": "markdown",
      "metadata": {
        "id": "YyqBA7WXzO7X"
      },
      "source": [
        "Pandas\n",
        "===\n",
        "*이 내용은 [위키독스](https://wikidocs.net/)의 [금융 데이터 분석을 위한 파이썬 Pandas](https://wikidocs.net/book/3488)으로 데이터 시각화하기를 보며 직접 실습하며 필기한 내용입니다.*\n",
        "\n",
        "## 목차\n",
        "\n",
        "# 1. 헷갈리는 파이썬 문법 복습\n",
        "## 1.1. 클래스\n",
        "파이썬의 ```클래스```는 **타입을 만들 때 사용하는 키워드**이다. 파이썬의 기본 데이터 타입인 int, float, str과 데이터 저장에 사용되는 리스트, 튜플, 딕셔너리 등이 모두 클래스로 이루어진 타입이다.\n"
      ]
    },
    {
      "cell_type": "code",
      "metadata": {
        "colab": {
          "base_uri": "https://localhost:8080/"
        },
        "id": "4RnZgOeyz9IK",
        "outputId": "a0d20478-f42a-4ccb-ea82-e8acf1f612d2"
      },
      "source": [
        "# 직접 타입을 확인해보면 클래스라는 것을 확인 할 수 있다.\n",
        "a = 3\n",
        "b = 'hihello'\n",
        "\n",
        "print(type(a))\n",
        "print(type(b))"
      ],
      "execution_count": 1,
      "outputs": [
        {
          "output_type": "stream",
          "text": [
            "<class 'int'>\n",
            "<class 'str'>\n"
          ],
          "name": "stdout"
        }
      ]
    },
    {
      "cell_type": "markdown",
      "metadata": {
        "id": "HbPlgX7o24s4"
      },
      "source": [
        "파이썬 클래스는 데이터와 데이터를 처리하는 함수를 하나의 공간에 정의한 것이다. 이 클래스 안에 정의된 함수를 ```메소드```라고 한다. \n",
        "* 메소드: 클래스 안에 정의된 함수\n",
        "* 클래스: 데이터 + 함수 -> 새로운 타입    \n",
        "\n",
        "'붕어빵틀'이라는 클래스를 만들어본다. 기능을 적지 않고 그냥 ```pass```라고만 적어주면 문법 에러는 나지 않는다. "
      ]
    },
    {
      "cell_type": "code",
      "metadata": {
        "id": "vvYASj9C4wx2"
      },
      "source": [
        "class 붕어빵틀:\n",
        "    pass    # 기능은 나중에 구현할 것!"
      ],
      "execution_count": 2,
      "outputs": []
    },
    {
      "cell_type": "markdown",
      "metadata": {
        "id": "3BGBRSuk432L"
      },
      "source": [
        "이제 우리는 이 클래스가 어떤 행동을 할 것인지 고민해볼 필요가 있다. 붕어빵을 넣을 때 앙꼬를 넣기 때문에 '앙꼬넣기'라는 함수를 추가해본다. "
      ]
    },
    {
      "cell_type": "code",
      "metadata": {
        "id": "XlH_V5Hd4_q7"
      },
      "source": [
        "class 붕어빵틀:\n",
        "    def 앙꼬넣기(self, 앙꼬):\n",
        "        self.앙꼬 = 앙꼬"
      ],
      "execution_count": 3,
      "outputs": []
    },
    {
      "cell_type": "markdown",
      "metadata": {
        "id": "bJp5pqZZ5G0h"
      },
      "source": [
        "여기서 사용되는 ```self```는 메소드의 첫 번째 인자로 관례적으로 들어간다. 우리는 붕어빵틀을 정의했기 때문에 이제 붕어빵을 만들 수 있다."
      ]
    },
    {
      "cell_type": "code",
      "metadata": {
        "id": "VUp1fFZi5X7S"
      },
      "source": [
        "붕어빵1 = 붕어빵틀()           # 붕어빵틀 타입의 객체를 하나 만들고 이를 붕어빵1이라는 변수에 바인딩 한다.\n",
        "붕어빵2 = 붕어빵틀()           # 붕어빵틀 타입의 객체를 하나 만들고 이를 붕어빵2라는 변수에 바인딩 한다."
      ],
      "execution_count": 4,
      "outputs": []
    },
    {
      "cell_type": "markdown",
      "metadata": {
        "id": "_3dY0f4R54BQ"
      },
      "source": [
        "메모리의 상태는 아래 그림과 같이 된다.    \n",
        "![](https://wikidocs.net/images/page/45601/03.png)    \n",
        "\n",
        "1개의 클래스 객체와 2개의 인스턴스가 생성된다. 클래스 객체 내에는 앙꼬넣기라는 메소드가 존재하고 인스턴스 2개에는 아무 값도 존재하지 않는다. 앙꼬넣기라는 메소드를 호출하여 인스턴스 안에 \"무언가\"를 만들어보도록 한다.\n",
        "\n"
      ]
    },
    {
      "cell_type": "code",
      "metadata": {
        "id": "CQLO_HreAtml"
      },
      "source": [
        "붕어빵틀.앙꼬넣기(붕어빵1, \"초코맛\")\n",
        "붕어빵틀.앙꼬넣기(붕어빵2, \"딸기맛\")"
      ],
      "execution_count": 5,
      "outputs": []
    },
    {
      "cell_type": "markdown",
      "metadata": {
        "id": "TgaLmZORA1x4"
      },
      "source": [
        "![](https://wikidocs.net/images/page/45601/04.png)    \n",
        "\n",
        "* 위 코드를 수행하면 메소드 호출 시 전달된 \"앙꼬\"가 인스턴스에 저장된다. 파이썬에서는 객체에 데이터가 **딕셔너리**로 저장된다. 딕셔너리의 'key'에 변수 이름, 'value'에 값이 저장된다.    \n",
        "* 함수 호출의 마지막 단계는 '리턴'이다. 함수가 리턴되면 코드의 실행 흐름이 함수 호출부로 이동된다. 동시에 함수의 return 키워드가 리턴하는 값이 같이 함수 호출부로 전달된다. 하지만 우리가 만든 클래스 '붕어빵틀'은 return이라는 키워드가 없기 때문에 파이썬은 알아서 None값을 반환한다. 함수가 반환되면 함수 내에서 생성된 모든 변수가 소멸한다.    \n",
        "* 클래스를 사용하는 객체 지향 프로그래밍에서도 객체가 생성될 때, 초기화를 할 수 있다. 이런 역할을 하는 메소드를 우리는 특별히 **생성자**라고 한다. 생성자는 객체가 생성될 때 자동으로 호출되는 메소드다.\n"
      ]
    },
    {
      "cell_type": "code",
      "metadata": {
        "colab": {
          "base_uri": "https://localhost:8080/"
        },
        "id": "pL9zdlLvCeMP",
        "outputId": "2b36e7dd-f2fe-42be-c84d-31b1ef012351"
      },
      "source": [
        "class 붕어빵틀:\n",
        "    def __init__(self):\n",
        "        print(\"붕어빵 구워짐\")\n",
        "\n",
        "붕어빵 = 붕어빵틀()"
      ],
      "execution_count": 6,
      "outputs": [
        {
          "output_type": "stream",
          "text": [
            "붕어빵 구워짐\n"
          ],
          "name": "stdout"
        }
      ]
    },
    {
      "cell_type": "markdown",
      "metadata": {
        "id": "axnuPHPACrub"
      },
      "source": [
        "```__init__(self)```\n",
        "는 붕어빵 클래스로부터 객체가 생성될 때 자동으로 호출되는 메소드다. 아니나 다를까 '붕어빵'이라는 인스턴스를 생성하자 '붕어빵 구워짐'이 출력되는 것을 확인할 수 있다. 이와 같이 **객체가 생성된 직후 자동으로 파이썬 인터프리터에 의해 호출되는 메소드를 생성자라고 한다.**"
      ]
    },
    {
      "cell_type": "code",
      "metadata": {
        "id": "esnjIIi5DPGR"
      },
      "source": [
        "class 붕어빵틀:\n",
        "    # self, 앙꼬 두 가지 인자를 입력받는다. \n",
        "    def __init__(self, 앙꼬):\n",
        "        self.앙꼬 = 앙꼬\n",
        "\n",
        "붕어빵1 = 붕어빵틀(\"초코맛\")\n",
        "붕어빵2 = 붕어빵틀(\"딸기맛\")"
      ],
      "execution_count": 7,
      "outputs": []
    },
    {
      "cell_type": "markdown",
      "metadata": {
        "id": "hIddYk0CDjY8"
      },
      "source": [
        "위 코드가 수행되면 아래 그림과 같이 생성된 인스턴스에 '초코맛'과 '딸기맛'이라는 두 가지 앙꼬가 저장된다.    \n",
        "\n",
        "![](https://wikidocs.net/images/page/45601/08.png)"
      ]
    },
    {
      "cell_type": "code",
      "metadata": {
        "colab": {
          "base_uri": "https://localhost:8080/",
          "height": 172
        },
        "id": "Fg6Io6tdDydL",
        "outputId": "42e9eeca-74da-44a0-f543-0a6ca033b70f"
      },
      "source": [
        "붕어빵3 = 붕어빵틀()"
      ],
      "execution_count": 8,
      "outputs": [
        {
          "output_type": "error",
          "ename": "TypeError",
          "evalue": "ignored",
          "traceback": [
            "\u001b[0;31m---------------------------------------------------------------------------\u001b[0m",
            "\u001b[0;31mTypeError\u001b[0m                                 Traceback (most recent call last)",
            "\u001b[0;32m<ipython-input-8-f8d4b2b03c8d>\u001b[0m in \u001b[0;36m<module>\u001b[0;34m()\u001b[0m\n\u001b[0;32m----> 1\u001b[0;31m \u001b[0m붕어빵3\u001b[0m \u001b[0;34m=\u001b[0m \u001b[0m붕어빵틀\u001b[0m\u001b[0;34m(\u001b[0m\u001b[0;34m)\u001b[0m\u001b[0;34m\u001b[0m\u001b[0;34m\u001b[0m\u001b[0m\n\u001b[0m",
            "\u001b[0;31mTypeError\u001b[0m: __init__() missing 1 required positional argument: '앙꼬'"
          ]
        }
      ]
    },
    {
      "cell_type": "markdown",
      "metadata": {
        "id": "NVgVnkOxD38L"
      },
      "source": [
        "인자로 어떤 값도 젅달하지 않으면 에러가 발생한다. "
      ]
    },
    {
      "cell_type": "code",
      "metadata": {
        "colab": {
          "base_uri": "https://localhost:8080/"
        },
        "id": "NwJmSE-VD9WP",
        "outputId": "41aec26b-7ac1-4763-c66b-89f8b3c3e25c"
      },
      "source": [
        "print(붕어빵1.앙꼬)\n",
        "print(붕어빵2.앙꼬)"
      ],
      "execution_count": 9,
      "outputs": [
        {
          "output_type": "stream",
          "text": [
            "초코맛\n",
            "딸기맛\n"
          ],
          "name": "stdout"
        }
      ]
    },
    {
      "cell_type": "markdown",
      "metadata": {
        "id": "1CDhbToSEF3Z"
      },
      "source": [
        "객체에 값이 있으면 ```객체.값```을 통해 해당 값에 접근할 수 있다. 우리는 붕어빵 객체에 '앙꼬'라는 값을 저장해 뒀으므로 저장된 값을 출력할 수 있다. ```붕어빵1.앙꼬```라는 표현은 붕어빵1이 바인딩하는 객체로 간 후, '앙꼬'라는 키가 딕셔너리에 존재하는지 확인한다. 딕셔너리에 '앙꼬'라는 키가 있고 이에 대응하는 value인 '초코맛'이 존재하므로 이를 반환한다."
      ]
    },
    {
      "cell_type": "markdown",
      "metadata": {
        "id": "kFOqp0u6EeT_"
      },
      "source": [
        "***\n",
        "다음으로는 주식 종목을 관리하기 위한 클래스를 정의해볼 것이다."
      ]
    },
    {
      "cell_type": "code",
      "metadata": {
        "id": "iozD2T-5EjoB"
      },
      "source": [
        "class StockItem:\n",
        "    # 생성자\n",
        "    def __init__(self, code, name, market):\n",
        "        self.code = code\n",
        "        self.name = name\n",
        "        self.market = market\n",
        "\n",
        "    def get_name(self):\n",
        "        return self.name\n",
        "    \n",
        "    def get_code(self):\n",
        "        return self.code\n",
        "    \n",
        "    def get_market(self):\n",
        "        return self.market"
      ],
      "execution_count": 10,
      "outputs": []
    },
    {
      "cell_type": "markdown",
      "metadata": {
        "id": "O1nqMgFHE73D"
      },
      "source": [
        "여기에는 1개의 생성자와 3개의 메소드가 존재한다. "
      ]
    },
    {
      "cell_type": "code",
      "metadata": {
        "colab": {
          "base_uri": "https://localhost:8080/"
        },
        "id": "33eLkfK2FFO5",
        "outputId": "aabff57b-20b7-4238-f36d-d8ca3d660742"
      },
      "source": [
        "a = StockItem(\"000020\", \"동화약품\", \"코스피\")\n",
        "b = StockItem(\"000040\", \"KR모터스\", \"코스피\")\n",
        "\n",
        "print(a.get_name())\n",
        "print(b.get_market())"
      ],
      "execution_count": 11,
      "outputs": [
        {
          "output_type": "stream",
          "text": [
            "동화약품\n",
            "코스피\n"
          ],
          "name": "stdout"
        }
      ]
    },
    {
      "cell_type": "markdown",
      "metadata": {
        "id": "JiZMhg3zFhro"
      },
      "source": [
        "위 코드가 실행되면 메모리는 아래 그림과 같이 구성된다.    \n",
        "\n",
        "![](https://wikidocs.net/images/page/45601/09.png)    \n",
        "\n",
        "* 클래스 객체에는 보통 데이터를 저장하지 않고 클래스의 인스턴스들이 공통으로 사용하는 함수인 **메소드**를 포함하고 있다.\n",
        "* 반면에 인스턴스 또는 객체에서는 주로 고유 데이터가 저장된다. 인스턴스/객체에는 메소드가 없고 오직 데이터만 존재한다."
      ]
    },
    {
      "cell_type": "markdown",
      "metadata": {
        "id": "UWoNkPMOHR2M"
      },
      "source": [
        "이번에는 앞에서 보았던 클래스와는 조금 다른 모습의 클래스다. 앞에서는 변수 이름 앞에 ```self```가 붙어있었지만 이번에는 self가 붙어있지 않다."
      ]
    },
    {
      "cell_type": "code",
      "metadata": {
        "id": "zK1xGY9pHzw9"
      },
      "source": [
        "class MyClass:\n",
        "    data = 3"
      ],
      "execution_count": 12,
      "outputs": []
    },
    {
      "cell_type": "markdown",
      "metadata": {
        "id": "lxff1PXWH270"
      },
      "source": [
        "아주 가끔 모든 객체에서 참조해야만 하는 데이터가 있는데 이를 저장하는 용도로 주로 사용된다. 하지만 대부분은 앞에서 배웠던 내용들에서 처럼, self.data와 같은 표현을 통해 self가 가리키는 특정 인스턴스 공간에 데이터를 저장하는 것이 일반적이다."
      ]
    },
    {
      "cell_type": "code",
      "metadata": {
        "colab": {
          "base_uri": "https://localhost:8080/"
        },
        "id": "r1L0Co4qICrl",
        "outputId": "27f8922b-9ad1-4195-95d8-90043d0af5bb"
      },
      "source": [
        "a = MyClass()\n",
        "b = MyClass()\n",
        "print(a.data)\n",
        "print(b.data)"
      ],
      "execution_count": 13,
      "outputs": [
        {
          "output_type": "stream",
          "text": [
            "3\n",
            "3\n"
          ],
          "name": "stdout"
        }
      ]
    },
    {
      "cell_type": "markdown",
      "metadata": {
        "id": "eqjppzvvJQa8"
      },
      "source": [
        "클래스에 있는 변수나 메소드를 ```attribute```라고 한다. 클래스에서 점(.)을 찍으면 해당 클래스에 있는 attribute를 참조한다는 뜻이다."
      ]
    },
    {
      "cell_type": "code",
      "metadata": {
        "colab": {
          "base_uri": "https://localhost:8080/"
        },
        "id": "crwKIvLrJc9w",
        "outputId": "80140141-84a3-47c0-b5e6-3dc54b0d4b3a"
      },
      "source": [
        "class MyClass:\n",
        "    data = 3\n",
        "\n",
        "a = MyClass()\n",
        "b = MyClass()\n",
        "a.data = 5\n",
        "\n",
        "print(a.data)\n",
        "print(b.data)"
      ],
      "execution_count": 14,
      "outputs": [
        {
          "output_type": "stream",
          "text": [
            "5\n",
            "3\n"
          ],
          "name": "stdout"
        }
      ]
    },
    {
      "cell_type": "markdown",
      "metadata": {
        "id": "4fIsIWmbJqgg"
      },
      "source": [
        "***\n",
        "\n",
        "# 2. 예외처리\n",
        "아래 코드를 실행하면 파이썬 인터프리터가 에러를 출력한다."
      ]
    },
    {
      "cell_type": "code",
      "metadata": {
        "colab": {
          "base_uri": "https://localhost:8080/",
          "height": 226
        },
        "id": "Ekcvl5ONJwL1",
        "outputId": "137d3573-81c4-41d2-c33e-63f970bd34f6"
      },
      "source": [
        "a = 4\n",
        "b = 0\n",
        "c = a / b\n",
        "print(c)"
      ],
      "execution_count": 15,
      "outputs": [
        {
          "output_type": "error",
          "ename": "ZeroDivisionError",
          "evalue": "ignored",
          "traceback": [
            "\u001b[0;31m---------------------------------------------------------------------------\u001b[0m",
            "\u001b[0;31mZeroDivisionError\u001b[0m                         Traceback (most recent call last)",
            "\u001b[0;32m<ipython-input-15-b5a92779c44a>\u001b[0m in \u001b[0;36m<module>\u001b[0;34m()\u001b[0m\n\u001b[1;32m      1\u001b[0m \u001b[0ma\u001b[0m \u001b[0;34m=\u001b[0m \u001b[0;36m4\u001b[0m\u001b[0;34m\u001b[0m\u001b[0;34m\u001b[0m\u001b[0m\n\u001b[1;32m      2\u001b[0m \u001b[0mb\u001b[0m \u001b[0;34m=\u001b[0m \u001b[0;36m0\u001b[0m\u001b[0;34m\u001b[0m\u001b[0;34m\u001b[0m\u001b[0m\n\u001b[0;32m----> 3\u001b[0;31m \u001b[0mc\u001b[0m \u001b[0;34m=\u001b[0m \u001b[0ma\u001b[0m \u001b[0;34m/\u001b[0m \u001b[0mb\u001b[0m\u001b[0;34m\u001b[0m\u001b[0;34m\u001b[0m\u001b[0m\n\u001b[0m\u001b[1;32m      4\u001b[0m \u001b[0mprint\u001b[0m\u001b[0;34m(\u001b[0m\u001b[0mc\u001b[0m\u001b[0;34m)\u001b[0m\u001b[0;34m\u001b[0m\u001b[0;34m\u001b[0m\u001b[0m\n",
            "\u001b[0;31mZeroDivisionError\u001b[0m: division by zero"
          ]
        }
      ]
    },
    {
      "cell_type": "markdown",
      "metadata": {
        "id": "rwDTXCzklK0u"
      },
      "source": [
        "이렇게 의도치 않은 부분에서 발생하는 에러를 처리하는 것을 **예외 처리**라고 한다. 안정적으로 동작하는 프로그램을 만들기 위해서는 예외처리를 하는 것이 중요하다.    \n",
        "예외처리를 하는 방법으로는 단순히 예외가 발생할 만한 부분의 코드를 ```try ~except```구문을 통해서 처리하는 것이다. 먼저 시도(try)를 해보고 예외가 발생하면 except절에 있는 코드가 실행된다. 여기서 중요한 점은 **에러를 해결하는 것이 아니라 단지 예외를 처리해줌으로써 파이썬 인터프리터가 해당 라인에서 죽지 않고 다른 코드를 계속해서 실행할 수 있도록 해주는 것이다.** 아래 코드를 실행해보면 코드가 끝까지 수행되는 것을 확인할 수 있다."
      ]
    },
    {
      "cell_type": "code",
      "metadata": {
        "colab": {
          "base_uri": "https://localhost:8080/"
        },
        "id": "N8_8af0Jl3yF",
        "outputId": "9dc5daf7-ffb5-4ab7-e74a-a5b3ffcee375"
      },
      "source": [
        "a = 4\n",
        "b = 0\n",
        "\n",
        "try:\n",
        "    c = a / b\n",
        "except:\n",
        "    print(\"0으로 나눌 수 없습니다.\")\n",
        "\n",
        "print(\"finish!\")"
      ],
      "execution_count": 16,
      "outputs": [
        {
          "output_type": "stream",
          "text": [
            "0으로 나눌 수 없습니다.\n",
            "finish!\n"
          ],
          "name": "stdout"
        }
      ]
    },
    {
      "cell_type": "markdown",
      "metadata": {
        "id": "HnF1UHeKmNOE"
      },
      "source": [
        "# 3. Numpy\n",
        "넘파이는 행렬 연산에 특화된 파이썬 라이브러리다. "
      ]
    },
    {
      "cell_type": "code",
      "metadata": {
        "colab": {
          "base_uri": "https://localhost:8080/"
        },
        "id": "XXP_Lzunm1Rr",
        "outputId": "5906c068-dd00-42e3-de1f-80c818b03ef6"
      },
      "source": [
        "# 1번\n",
        "data = [1, 2, 3]\n",
        "new_data = []\n",
        "\n",
        "for x in data:\n",
        "    new_data.append(x*10)\n",
        "\n",
        "print(new_data)\n",
        "\n",
        "# 2번\n",
        "new_data = data * 10\n",
        "print(new_data)"
      ],
      "execution_count": 18,
      "outputs": [
        {
          "output_type": "stream",
          "text": [
            "[10, 20, 30]\n",
            "[1, 2, 3, 1, 2, 3, 1, 2, 3, 1, 2, 3, 1, 2, 3, 1, 2, 3, 1, 2, 3, 1, 2, 3, 1, 2, 3, 1, 2, 3]\n"
          ],
          "name": "stdout"
        }
      ]
    },
    {
      "cell_type": "markdown",
      "metadata": {
        "id": "eBMfGUI7nKZV"
      },
      "source": [
        "굳이 1번 방법이 아니라 2번 방식을 사용하여 행렬 연산을 수행할 수 있다면 정말 간편할 것이다. 하지만 실제로는 우리가 원하는 리스트가 제대로 나오지 않는다. 하지만 파이썬의 리스트 대신에 numpy의 array를 사용하면 우리가 원하는 방식으로 구현할 수 있다."
      ]
    },
    {
      "cell_type": "code",
      "metadata": {
        "colab": {
          "base_uri": "https://localhost:8080/"
        },
        "id": "fmjHE2UHnXSK",
        "outputId": "fe1b6173-e6a5-4834-9638-b68e9ad7ff5e"
      },
      "source": [
        "import numpy as np\n",
        "\n",
        "data = [1, 2, 3]\n",
        "arr = np.array(data)\n",
        "data2 = arr*10\n",
        "print(data2)"
      ],
      "execution_count": 19,
      "outputs": [
        {
          "output_type": "stream",
          "text": [
            "[10 20 30]\n"
          ],
          "name": "stdout"
        }
      ]
    },
    {
      "cell_type": "markdown",
      "metadata": {
        "id": "Al0KJYRRnkt_"
      },
      "source": [
        "영업일 5일간의 고가와 저가의 차이를 계산하고 싶다. 만약 파이썬의 리스트로 계산을 한다면 for문을 사용하여 고가와 저가를 일일히 빼주어야 한다. 하지만 numpy의 array를 사용한다면 아주 간단하게 계산할 수 있다."
      ]
    },
    {
      "cell_type": "code",
      "metadata": {
        "colab": {
          "base_uri": "https://localhost:8080/"
        },
        "id": "N6xlRlKRnucp",
        "outputId": "cc0641a5-3317-4609-b3de-aa16a5877aeb"
      },
      "source": [
        "# python의 list\n",
        "high = [92700, 92400, 92100, 94300, 92300]\n",
        "low = [90000, 91100, 91700, 92100, 90900]\n",
        "\n",
        "# numpy의 array로 변환해준다.\n",
        "arr_high = np.array(high)\n",
        "arr_low = np.array(low)\n",
        "\n",
        "arr_diff = arr_high - arr_low\n",
        "print(arr_diff)"
      ],
      "execution_count": 20,
      "outputs": [
        {
          "output_type": "stream",
          "text": [
            "[2700 1300  400 2200 1400]\n"
          ],
          "name": "stdout"
        }
      ]
    },
    {
      "cell_type": "markdown",
      "metadata": {
        "id": "6rgbnfjNoF2n"
      },
      "source": [
        "***\n",
        "\n",
        "# 2. Pandas Series\n",
        "파이썬에는 리스트, 튜플, 딕셔너리라는 기본 자료구조가 있다. 리스트와 튜플은 둘 다 순서가 있는 자료구조다. 그 중 리스트는 수정가능하고, 튜플은 수정 불가능하다. 딕셔너리는 데이터에 레이블을 붙여서 저장하고자 할 때 사용한다. 레이블을 key, 데이터를 value라고 한다.    \n",
        "\n",
        "Pandas는 크게 ```Series```와 ```DataFrame```이라는 자료구조를 제공한다. 시리즈는 일차원 구조의 데이터를 저장할 때 사용되고, 이차원 구조의 데이터를 저장할 때 사용되는 것은 데이터프레임이다. 즉, 데이터프레임은 \"표\"로 된 데이터 형식이다. 일차원 구조의 데이터는 표에서 한 행, 또는 한 열을 의미한다.\n",
        "\n",
        "## 2.1. Series 생성\n",
        "Series는 파이썬이 제공하는 기본 자료구조가 아니라 Pandas library가 제공하는 자료구조다. 따라서 먼저 pandas를 import 해주어야 한다."
      ]
    },
    {
      "cell_type": "code",
      "metadata": {
        "id": "fkChh-dMqE_N"
      },
      "source": [
        "from pandas import Series"
      ],
      "execution_count": 21,
      "outputs": []
    },
    {
      "cell_type": "markdown",
      "metadata": {
        "id": "2rCt8Dg0qMC6"
      },
      "source": [
        "Series 객체 생성 방법이다. 데이터를 파이썬 리스트 형식으로 표현한 후, 해당 리스트를 Series의 인자로 넘겨준다."
      ]
    },
    {
      "cell_type": "code",
      "metadata": {
        "colab": {
          "base_uri": "https://localhost:8080/"
        },
        "id": "DG1MkcjZqLr6",
        "outputId": "db90405c-4217-463b-dfdd-4f51393c02d0"
      },
      "source": [
        "data = [1, 2, 3]\n",
        "s = Series(data)\n",
        "print(s)"
      ],
      "execution_count": 22,
      "outputs": [
        {
          "output_type": "stream",
          "text": [
            "0    1\n",
            "1    2\n",
            "2    3\n",
            "dtype: int64\n"
          ],
          "name": "stdout"
        }
      ]
    },
    {
      "cell_type": "markdown",
      "metadata": {
        "id": "Ih5ESRgmqcD2"
      },
      "source": [
        "특이한 형태로 출력된다. Pandas의 Series는 일차원 데이터 구조를 효과적으로 다루기 위해 0부터 시작하는 정수 index가 자동으로 할당된다. 따라서 출력 형태를 보고 2차원이라고 착각해서는 안된다.    \n",
        "\n",
        "하지만 파이썬의 리스트와 같은 성질인 것처럼 보인다. 그럼에도 불구하고 우리가 굳이 Series를 사용하는 이유는 앞에서 배웠던 numpy의 array와 같이 ```브로드캐스팅```과 같은 편리한 기능을 사용할 수 있기 때문이다. 따라서 1차원 데이터에 연산을 한 번에 적용할 수 있다."
      ]
    },
    {
      "cell_type": "code",
      "metadata": {
        "colab": {
          "base_uri": "https://localhost:8080/"
        },
        "id": "V5dJiU_OqYUm",
        "outputId": "7e2253e0-4fb9-4697-b356-34dbdcfb4650"
      },
      "source": [
        "print(s)\n",
        "print(s*10)"
      ],
      "execution_count": 24,
      "outputs": [
        {
          "output_type": "stream",
          "text": [
            "0    1\n",
            "1    2\n",
            "2    3\n",
            "dtype: int64\n",
            "0    10\n",
            "1    20\n",
            "2    30\n",
            "dtype: int64\n"
          ],
          "name": "stdout"
        }
      ]
    },
    {
      "cell_type": "markdown",
      "metadata": {
        "id": "93sl6gbwrAye"
      },
      "source": [
        "딕셔너리를 사용하여 데이터에 레이블을 붙여서 저장했던 것처럼 시리즈도 각 데이터에 인덱스를 설정할 수 있다. "
      ]
    },
    {
      "cell_type": "code",
      "metadata": {
        "colab": {
          "base_uri": "https://localhost:8080/"
        },
        "id": "lp2hvKxWrHTB",
        "outputId": "88d7d079-d3f3-4066-eea3-ea8ddf098253"
      },
      "source": [
        "data = [1000, 2000, 3000]\n",
        "index = [\"메로나\", \"구구콘\", \"배스킨라빈스\"]\n",
        "\n",
        "s = Series(data=data, index=index)\n",
        "print(s)"
      ],
      "execution_count": 25,
      "outputs": [
        {
          "output_type": "stream",
          "text": [
            "메로나       1000\n",
            "구구콘       2000\n",
            "배스킨라빈스    3000\n",
            "dtype: int64\n"
          ],
          "name": "stdout"
        }
      ]
    },
    {
      "cell_type": "markdown",
      "metadata": {
        "id": "1PUr2IKNrQVO"
      },
      "source": [
        "이렇게 인덱스가 숫자 대신에 레이블로 설정된 것을 확인할 수 있다. 하지만 그렇다고 숫자 인덱스가 문자열 인덱스로 대체된 것이 아니다. 번호와 문자열 인덱스를 모두 사용할 수 있다."
      ]
    },
    {
      "cell_type": "code",
      "metadata": {
        "colab": {
          "base_uri": "https://localhost:8080/"
        },
        "id": "tw_xCASorcdn",
        "outputId": "71689d12-e7ef-4911-e9fd-a45c36a1c884"
      },
      "source": [
        "print(s[0])\n",
        "print(s[\"메로나\"])"
      ],
      "execution_count": 27,
      "outputs": [
        {
          "output_type": "stream",
          "text": [
            "1000\n",
            "1000\n"
          ],
          "name": "stdout"
        }
      ]
    },
    {
      "cell_type": "markdown",
      "metadata": {
        "id": "SfuE2aiZrjSj"
      },
      "source": [
        "아래의 삼성전자의 5일 종가 데이터를 시리즈 객체로 표현해보자. 인덱스는 문자열로 표현된 날짜를 사용한다.    \n",
        "\n",
        "![](https://wikidocs.net/images/page/45643/01.png)\n"
      ]
    },
    {
      "cell_type": "code",
      "metadata": {
        "colab": {
          "base_uri": "https://localhost:8080/"
        },
        "id": "IqYWW7a2ruXK",
        "outputId": "1093168b-08d6-4187-f0c0-1198fc05b69a"
      },
      "source": [
        "from pandas import Series\n",
        "\n",
        "close = [42500, 42550, 41800, 42550, 42650]\n",
        "date = [\"2019-05-31\", \"2019-05-30\", \"2019-05-29\", \"2019-05-28\", \"2019-05-27\"]\n",
        "\n",
        "s = Series(data=close, index=date)\n",
        "print(s)"
      ],
      "execution_count": 28,
      "outputs": [
        {
          "output_type": "stream",
          "text": [
            "2019-05-31    42500\n",
            "2019-05-30    42550\n",
            "2019-05-29    41800\n",
            "2019-05-28    42550\n",
            "2019-05-27    42650\n",
            "dtype: int64\n"
          ],
          "name": "stdout"
        }
      ]
    },
    {
      "cell_type": "markdown",
      "metadata": {
        "id": "WJMt5WLlsKeV"
      },
      "source": [
        "딕셔너리 객체에서 keys()와 values()를 사용하여 레이블과 값을 확인하는 것처럼 Series에서도 ```index```와 ```values```라는 속성을 통해 인덱스와 값을 각각 얻어올 수 있다."
      ]
    },
    {
      "cell_type": "code",
      "metadata": {
        "colab": {
          "base_uri": "https://localhost:8080/"
        },
        "id": "oBekyo7wsYDt",
        "outputId": "742eb477-c5f8-4347-9df8-d58a6f06e2c1"
      },
      "source": [
        "s.index"
      ],
      "execution_count": 29,
      "outputs": [
        {
          "output_type": "execute_result",
          "data": {
            "text/plain": [
              "Index(['2019-05-31', '2019-05-30', '2019-05-29', '2019-05-28', '2019-05-27'], dtype='object')"
            ]
          },
          "metadata": {
            "tags": []
          },
          "execution_count": 29
        }
      ]
    },
    {
      "cell_type": "code",
      "metadata": {
        "colab": {
          "base_uri": "https://localhost:8080/"
        },
        "id": "o4aFZEfWsZ1M",
        "outputId": "2b43eaf2-fdfc-4348-e16f-2a7f1a2ee4de"
      },
      "source": [
        "s.values"
      ],
      "execution_count": 30,
      "outputs": [
        {
          "output_type": "execute_result",
          "data": {
            "text/plain": [
              "array([42500, 42550, 41800, 42550, 42650])"
            ]
          },
          "metadata": {
            "tags": []
          },
          "execution_count": 30
        }
      ]
    },
    {
      "cell_type": "markdown",
      "metadata": {
        "id": "urf-awyosdZw"
      },
      "source": [
        "## 2.2. Series 인덱싱\n",
        "```인덱싱```이란, 자료구조에서 어떤 값에 접근하는 것을 뜻한다. 시리즈 객체는 행 번호와 인덱스를 사용하므로 두 가지 방법을 사용하여 인덱싱할 수 있다. 파이썬 리스트처럼 저웃 값으로 인덱싱할 수도 있고, 파이썬 딕셔너리처럼 key값으로 인덱싱할 수도 있다.   \n",
        "\n",
        "시리즈 객체의 인덱싱은 아래를 사용하여 수행할 수 있다.\n",
        "* ```iloc```: Series의 행 번호를 사용하여 인덱싱할 때 사용\n",
        "* ```loc```: 인덱스를 사용할 때 사용\n",
        "* ```[]```: 행 번호, 인덱스 둘 다 사용 가능\n",
        "\n"
      ]
    },
    {
      "cell_type": "code",
      "metadata": {
        "id": "r1wBVqJttgEr"
      },
      "source": [
        "from pandas import Series\n",
        "\n",
        "data = [1000, 2000, 3000]\n",
        "index = [\"메로나\", \"구구콘\", \"하겐다즈\"]\n",
        "s = Series(data=data, index=index)"
      ],
      "execution_count": 41,
      "outputs": []
    },
    {
      "cell_type": "code",
      "metadata": {
        "colab": {
          "base_uri": "https://localhost:8080/"
        },
        "id": "8ltS-1yruGfx",
        "outputId": "4023f3c9-e6a4-4623-ba13-1869468db6f8"
      },
      "source": [
        "print(s.iloc[0])           # 1000\n",
        "print(s.loc[\"메로나\"])      # 1000\n",
        "print(s.loc[0])             # error!\n",
        "print(s[0])                 # 1000\n",
        "print(s[\"메로나\"])          # 1000"
      ],
      "execution_count": 45,
      "outputs": [
        {
          "output_type": "stream",
          "text": [
            "1000\n",
            "1000\n",
            "1000\n",
            "1000\n"
          ],
          "name": "stdout"
        }
      ]
    },
    {
      "cell_type": "markdown",
      "metadata": {
        "id": "BZb9Fih6upSQ"
      },
      "source": [
        "위 코드를 통해 알 수 있듯이, loc은 인덱스가 아니면 인덱싱을 수행할 수 없다. "
      ]
    },
    {
      "cell_type": "markdown",
      "metadata": {
        "id": "hm5mzK8bv3Mg"
      },
      "source": [
        "여기서 중요한 차이점이 하나 있다. ```iloc```의 경우 ```iloc[0:2]```일 경우, 0, 1인덱스만 가져오고 2인덱스는 가져오지 않는다. 반면에 ```loc[\"메로나\":\"구구콘\"]```의 경우, 끝 인덱스까지 포함하여 가져오는 것을 확인할 수 있다."
      ]
    },
    {
      "cell_type": "code",
      "metadata": {
        "colab": {
          "base_uri": "https://localhost:8080/"
        },
        "id": "WAHVGKO8wIcG",
        "outputId": "cb0b4b82-87c5-4ec8-bbfb-fdee2b00edf5"
      },
      "source": [
        "print(s.iloc[0:2])\n",
        "print(s.loc[\"메로나\":\"구구콘\"])"
      ],
      "execution_count": 47,
      "outputs": [
        {
          "output_type": "stream",
          "text": [
            "메로나    1000\n",
            "구구콘    2000\n",
            "dtype: int64\n",
            "메로나    1000\n",
            "구구콘    2000\n",
            "dtype: int64\n"
          ],
          "name": "stdout"
        }
      ]
    },
    {
      "cell_type": "markdown",
      "metadata": {
        "id": "5bb-8uxowVmW"
      },
      "source": [
        "추가로 연속적이지 않은 값들에 대해서도 슬라이싱할 수 있다."
      ]
    },
    {
      "cell_type": "code",
      "metadata": {
        "colab": {
          "base_uri": "https://localhost:8080/"
        },
        "id": "vgqHumMZwZmh",
        "outputId": "fcf38412-45ac-4848-f0e7-b8962ace3daa"
      },
      "source": [
        "print(s.iloc[ [0, 2] ])\n",
        "print(s.loc[ [\"메로나\", \"하겐다즈\"] ])"
      ],
      "execution_count": 48,
      "outputs": [
        {
          "output_type": "stream",
          "text": [
            "메로나     1000\n",
            "하겐다즈    3000\n",
            "dtype: int64\n",
            "메로나     1000\n",
            "하겐다즈    3000\n",
            "dtype: int64\n"
          ],
          "name": "stdout"
        }
      ]
    },
    {
      "cell_type": "markdown",
      "metadata": {
        "id": "wXPQh8LjxWJI"
      },
      "source": [
        "## 2.3. Series 수정/추가/삭제\n",
        ">### 2.3.1. 수정\n",
        "Series의 수정은 간단하다. loc, iloc, []로 특정 위치로 접근하여 변경할 값을 넣어주면 된다."
      ]
    },
    {
      "cell_type": "code",
      "metadata": {
        "colab": {
          "base_uri": "https://localhost:8080/"
        },
        "id": "IiZiPKI5xpI4",
        "outputId": "9e2a54fb-157e-49a0-b8c6-7f983bf00876"
      },
      "source": [
        "from pandas import Series\n",
        "\n",
        "data = [1000, 2000, 3000]\n",
        "index = [\"메로나\", \"구구콘\", \"하겐다즈\"]\n",
        "s = Series(data=data, index=index)\n",
        "\n",
        "s.loc['메로나'] = 500\n",
        "print(s)\n",
        "\n",
        "s.iloc[0] = 300\n",
        "print(s)\n",
        "\n",
        "s['메로나'] = 1500\n",
        "print(s)"
      ],
      "execution_count": 50,
      "outputs": [
        {
          "output_type": "stream",
          "text": [
            "메로나      500\n",
            "구구콘     2000\n",
            "하겐다즈    3000\n",
            "dtype: int64\n",
            "메로나      300\n",
            "구구콘     2000\n",
            "하겐다즈    3000\n",
            "dtype: int64\n",
            "메로나     1500\n",
            "구구콘     2000\n",
            "하겐다즈    3000\n",
            "dtype: int64\n"
          ],
          "name": "stdout"
        }
      ]
    },
    {
      "cell_type": "markdown",
      "metadata": {
        "id": "8_y6nDXtyBw-"
      },
      "source": [
        "모두 정상적으로 수정되는 것을 확인할 수 있다.    \n",
        "\n",
        ">### 2.3.2. 추가\n",
        "Series에 값을 추가하려면 ```loc``` 속성을 사용하여 인덱스와 함께 값을 넣어주면 된다. '수정'과 같은 방식인 것 같지만, 시리즈의 인덱스에 해당하는 값이 있으면 수정되고 없으면 추가된다."
      ]
    },
    {
      "cell_type": "code",
      "metadata": {
        "colab": {
          "base_uri": "https://localhost:8080/"
        },
        "id": "cSfih87uyW0L",
        "outputId": "0637e1b3-6249-409a-c041-7d1ef5ca3bb8"
      },
      "source": [
        "s.loc['비비빅'] = 500\n",
        "print(s)"
      ],
      "execution_count": 54,
      "outputs": [
        {
          "output_type": "stream",
          "text": [
            "메로나     1500\n",
            "구구콘     2000\n",
            "하겐다즈    3000\n",
            "비비빅      500\n",
            "dtype: int64\n"
          ],
          "name": "stdout"
        }
      ]
    },
    {
      "cell_type": "markdown",
      "metadata": {
        "id": "oiJv-bY1yj2U"
      },
      "source": [
        ">### 2.3.3. 삭제\n",
        "Series에서 값을 삭제하려면 ```drop```메소드를 사용한다. 메소드의 인자로 인덱스를 넣어주면 해당 인덱스의 값이 삭제된다. 이 drop 메소드에는 Series의 인덱스를 사용해야 한다. 행 번호를 넘겨주면 에러가 발생한다.     \n",
        "또한, 이 drop 메소드는 시리즈의 데이터를 제거하지 않고 제거된 새로운 시리즈 객체를 반환한다. 이는 실수로 원본 데이터를 수정해버리는 것을 방지하기 위한 일종의 안전장치이다."
      ]
    },
    {
      "cell_type": "code",
      "metadata": {
        "colab": {
          "base_uri": "https://localhost:8080/"
        },
        "id": "BFVcmm_mzB2A",
        "outputId": "9c6f23b4-29cf-4157-ddf1-a3e4988df9eb"
      },
      "source": [
        "print(s.drop('메로나'))\n",
        "print(s)"
      ],
      "execution_count": 56,
      "outputs": [
        {
          "output_type": "stream",
          "text": [
            "구구콘     2000\n",
            "하겐다즈    3000\n",
            "비비빅      500\n",
            "dtype: int64\n",
            "메로나     1500\n",
            "구구콘     2000\n",
            "하겐다즈    3000\n",
            "비비빅      500\n",
            "dtype: int64\n"
          ],
          "name": "stdout"
        }
      ]
    },
    {
      "cell_type": "markdown",
      "metadata": {
        "id": "kj46itn6zO1x"
      },
      "source": [
        "위 결과에서 볼 수 있듯이 s를 출력했더니 메로나는 삭제되지 않고 그대로 남아있음을 확인할 수 있다."
      ]
    },
    {
      "cell_type": "markdown",
      "metadata": {
        "id": "PvPU9tbVzUtI"
      },
      "source": [
        "## 2.4. Series 연산\n",
        "Series는 **같은 인덱스**를 갖는 모든 데이터에 연산을 적용한다. 아래 예시 코드를 살펴보자."
      ]
    },
    {
      "cell_type": "code",
      "metadata": {
        "colab": {
          "base_uri": "https://localhost:8080/"
        },
        "id": "-t0CCRwMzjc2",
        "outputId": "6e66a902-1c73-43ba-fc93-7fb4fb85145b"
      },
      "source": [
        "from pandas import Series\n",
        "\n",
        "# 아래는 보유하고 있는 주식이다. data와 index에 파이썬의 리스트를 직접 넣어주었다.\n",
        "mine = Series([10, 20, 30], index=['NAVER', 'SKT', 'KT'])\n",
        "wife = Series([10, 30, 20], index=['SKT', 'KT', 'NAVER'])\n",
        "total = mine + wife\n",
        "\n",
        "print(total)"
      ],
      "execution_count": 57,
      "outputs": [
        {
          "output_type": "stream",
          "text": [
            "KT       60\n",
            "NAVER    30\n",
            "SKT      30\n",
            "dtype: int64\n"
          ],
          "name": "stdout"
        }
      ]
    },
    {
      "cell_type": "markdown",
      "metadata": {
        "id": "Fq51LgFsz_h5"
      },
      "source": [
        "위 코드의 결과를 살펴보면 데이터의 위치에 상관없이 같은 인덱스를 갖는 종목끼리 덧셈이 수행된 것을 확인할 수 있다."
      ]
    },
    {
      "cell_type": "code",
      "metadata": {
        "colab": {
          "base_uri": "https://localhost:8080/"
        },
        "id": "p2dmW8_n0Lz6",
        "outputId": "a277e7f9-6411-4c6e-fa4b-cb5e060c0cbc"
      },
      "source": [
        "data1 = Series([10, 20, 30], index=['NAVER', 'SKT', 'KT'])\n",
        "data2 = data1 * 10\n",
        "print(data2)"
      ],
      "execution_count": 58,
      "outputs": [
        {
          "output_type": "stream",
          "text": [
            "NAVER    100\n",
            "SKT      200\n",
            "KT       300\n",
            "dtype: int64\n"
          ],
          "name": "stdout"
        }
      ]
    },
    {
      "cell_type": "markdown",
      "metadata": {
        "id": "GRulOrG50UMf"
      },
      "source": [
        "파이썬의 리스트처럼 for문을 사용할 필요없이 직관적으로 우리가 원하는 작업을 수행할 수 있다.    \n",
        "\n",
        "이번에는 삼성전자의 5일 일봉 데이터에서 고가와 저가가 있을 때 각 거래일의 변동폭을 계산해본다. 여기서 변동폭이란 '고가와 저가의 차분값'이다."
      ]
    },
    {
      "cell_type": "code",
      "metadata": {
        "colab": {
          "base_uri": "https://localhost:8080/"
        },
        "id": "7Kq6RTFm0jXw",
        "outputId": "2ffc1d52-e84a-4a77-8fbc-fdc027a8a53e"
      },
      "source": [
        "high = Series([42800, 42700, 42100, 42950, 43000])\n",
        "low = Series([42150, 42150, 41300, 42150, 42350])\n",
        "\n",
        "diff = high - low\n",
        "print(diff)"
      ],
      "execution_count": 59,
      "outputs": [
        {
          "output_type": "stream",
          "text": [
            "0    650\n",
            "1    550\n",
            "2    800\n",
            "3    800\n",
            "4    650\n",
            "dtype: int64\n"
          ],
          "name": "stdout"
        }
      ]
    },
    {
      "cell_type": "markdown",
      "metadata": {
        "id": "LY6LR4KW0vnc"
      },
      "source": [
        "여기서 변동폭이 가장 큰 값을 찾아본다. Series가 제공하는 ```max()```를 사용하면 손쉽게 구할 수 있다. python이 제공하는  max()도 있지만 시리즈 객체를 사용할 때는 시리즈와 호환성이 좋은 시리즈 max()를 사용한다."
      ]
    },
    {
      "cell_type": "code",
      "metadata": {
        "colab": {
          "base_uri": "https://localhost:8080/"
        },
        "id": "dI1h3rO-0_Yx",
        "outputId": "30eb7220-d6f9-49d6-8060-1b484477671e"
      },
      "source": [
        "print(diff.max())       # Series\n",
        "print(max(diff))        # python"
      ],
      "execution_count": 62,
      "outputs": [
        {
          "output_type": "stream",
          "text": [
            "800\n",
            "800\n"
          ],
          "name": "stdout"
        }
      ]
    },
    {
      "cell_type": "markdown",
      "metadata": {
        "id": "H-C77XqK1Wcg"
      },
      "source": [
        "# 2.5. Series 필터링\n",
        "Series 객체에 대한 비교연산을 적용해본다. 간단한 예를 통하여 비교 연산을 익혀본다. 여기서는 특히 ```불리언 색인 기능```이 매우 유용하다."
      ]
    },
    {
      "cell_type": "code",
      "metadata": {
        "colab": {
          "base_uri": "https://localhost:8080/"
        },
        "id": "sLc6r2fF1zcB",
        "outputId": "dde6c3e2-d746-4dcd-ffed-32b80b67e328"
      },
      "source": [
        "from pandas import Series\n",
        "\n",
        "data = [42500, 42550, 41800, 42550, 42650]\n",
        "index = ['2019-05-31', '2019-05-30', '2019-05-29', '2019-05-28', '2019-05-27']\n",
        "s = Series(data=data, index=index)\n",
        "cond = s > 42000\n",
        "print(cond)"
      ],
      "execution_count": 63,
      "outputs": [
        {
          "output_type": "stream",
          "text": [
            "2019-05-31     True\n",
            "2019-05-30     True\n",
            "2019-05-29    False\n",
            "2019-05-28     True\n",
            "2019-05-27     True\n",
            "dtype: bool\n"
          ],
          "name": "stdout"
        }
      ]
    },
    {
      "cell_type": "markdown",
      "metadata": {
        "id": "nEpQpEEx17Nj"
      },
      "source": [
        "cond 변수가 바인딩하는 값을 출력해보면 Series 객체의 각 값이 42000보다 큰 경우 True, 그렇지 않은 경우 False가 저장된 것을 확인할 수 있다. 비교 연산의 결과값 역시 모든 데이터에 대해 적용되며 bool값이 시리즈 타입으로 표현된다.    \n",
        "이를 이용하여 색인하는 것을 ```불리언 색인```이라고 한다. 이는 Series 객체에서 매우 유용한 기능 중 하나이다. 삼성전자의 종가가 42000원 이상인 거래일만 출력해야 하는 경우를 생각해보자. 이 경우 시리즈의 대괄호 연산자에 True 또는 False가 저장된 시리즈 객체를 넘겨주면 된다."
      ]
    },
    {
      "cell_type": "code",
      "metadata": {
        "colab": {
          "base_uri": "https://localhost:8080/"
        },
        "id": "1tInELZp2_rZ",
        "outputId": "da5617d5-46cb-4870-a8b7-d39ad7192230"
      },
      "source": [
        "from pandas import Series\n",
        "\n",
        "data = [42500, 42550, 41800, 42550, 42650]\n",
        "index = ['2019-05-31', '2019-05-30', '2019-05-29', '2019-05-28', '2019-05-27']\n",
        "s = Series(data=data, index=index)\n",
        "\n",
        "cond = s > 42000        # s > 42000인 것\n",
        "print(s[cond])          # 불리언 색인 기능"
      ],
      "execution_count": 64,
      "outputs": [
        {
          "output_type": "stream",
          "text": [
            "2019-05-31    42500\n",
            "2019-05-30    42550\n",
            "2019-05-28    42550\n",
            "2019-05-27    42650\n",
            "dtype: int64\n"
          ],
          "name": "stdout"
        }
      ]
    },
    {
      "cell_type": "markdown",
      "metadata": {
        "id": "GXB05Qv03Mhz"
      },
      "source": [
        "불리언 색인 기능을 위와 같이 작동한다. **True인 경우에만 값을 가져오고 False인 경우에는 값을 가져오지 않는다.**    \n",
        "\n",
        "이번에는 시가와 종가를 시리즈 객체로 표현한 후 종가가 시가보다 큰지를 비교해보자."
      ]
    },
    {
      "cell_type": "code",
      "metadata": {
        "colab": {
          "base_uri": "https://localhost:8080/"
        },
        "id": "loF74by5DToF",
        "outputId": "fb624d0f-4c0c-494e-9bca-aefc0a0e3dd8"
      },
      "source": [
        "close = [42500, 42550, 41800, 42550, 42650]\n",
        "open = [42600, 42200, 41850, 42550, 42500]\n",
        "index = ['2019-05-31', '2019-05-30', '2019-05-29', '2019-05-28', '2019-05-27']\n",
        "open = Series(data=open, index=index)\n",
        "close = Series(data=close, index=index)\n",
        "cond = close > open\n",
        "print(cond)"
      ],
      "execution_count": 65,
      "outputs": [
        {
          "output_type": "stream",
          "text": [
            "2019-05-31    False\n",
            "2019-05-30     True\n",
            "2019-05-29    False\n",
            "2019-05-28    False\n",
            "2019-05-27     True\n",
            "dtype: bool\n"
          ],
          "name": "stdout"
        }
      ]
    },
    {
      "cell_type": "markdown",
      "metadata": {
        "id": "Qa31xzdnDhd7"
      },
      "source": [
        "거래일별로 비교 연산의 결과가 Series로 저장되어 있다. 출력값이 True일 경우가 종가가 시가보다 높았던 날이다. 그렇다면 종가가 시가보다 높았던 날의 종가를 출력해보자. 불리언 색인 기능을 사용하면 된다."
      ]
    },
    {
      "cell_type": "code",
      "metadata": {
        "colab": {
          "base_uri": "https://localhost:8080/"
        },
        "id": "4Ou9xn_dDuOq",
        "outputId": "e138ba35-ef6f-467e-b40b-7f41c58d707b"
      },
      "source": [
        "print(close[cond])"
      ],
      "execution_count": 66,
      "outputs": [
        {
          "output_type": "stream",
          "text": [
            "2019-05-30    42550\n",
            "2019-05-27    42650\n",
            "dtype: int64\n"
          ],
          "name": "stdout"
        }
      ]
    },
    {
      "cell_type": "markdown",
      "metadata": {
        "id": "OD51dqWwD1SS"
      },
      "source": [
        "다음으로는 종가가 시가보다 높은 거래일에 변동폭을 출력해본다. 변동폭은 '종가-시가'이다. 역시 불리언 색인 기능을 사용하면 쉽게 원하는 결과를 얻을 수 있다."
      ]
    },
    {
      "cell_type": "code",
      "metadata": {
        "colab": {
          "base_uri": "https://localhost:8080/"
        },
        "id": "K3xf0HC9EBPE",
        "outputId": "f7636b30-2e73-4de4-8afa-21714d87ad05"
      },
      "source": [
        "diff = close - open\n",
        "cond = close > open\n",
        "print(diff[cond])"
      ],
      "execution_count": 67,
      "outputs": [
        {
          "output_type": "stream",
          "text": [
            "2019-05-30    350\n",
            "2019-05-27    150\n",
            "dtype: int64\n"
          ],
          "name": "stdout"
        }
      ]
    },
    {
      "cell_type": "markdown",
      "metadata": {
        "id": "EBCevEJYEQ9_"
      },
      "source": [
        "## 2.6. 정렬 및 순위\n",
        "Series 객체의 정렬을 알아본다. 아래 코드에서 data 기준으로 오름차순 정렬을 해보자."
      ]
    },
    {
      "cell_type": "code",
      "metadata": {
        "colab": {
          "base_uri": "https://localhost:8080/"
        },
        "id": "6SMza1UQEmty",
        "outputId": "0efc3902-d14c-4586-f0c1-787210e73aea"
      },
      "source": [
        "from pandas import Series\n",
        "\n",
        "data = [3.1, 2.0, 10.1, 5.1]\n",
        "index = ['000010', '000020', '000030', '000040']\n",
        "s = Series(data=data, index=index)\n",
        "print(s)"
      ],
      "execution_count": 68,
      "outputs": [
        {
          "output_type": "stream",
          "text": [
            "000010     3.1\n",
            "000020     2.0\n",
            "000030    10.1\n",
            "000040     5.1\n",
            "dtype: float64\n"
          ],
          "name": "stdout"
        }
      ]
    },
    {
      "cell_type": "code",
      "metadata": {
        "colab": {
          "base_uri": "https://localhost:8080/"
        },
        "id": "ze8_A_WqE1KF",
        "outputId": "d0680189-36d2-4656-9c6f-89611a25621c"
      },
      "source": [
        "# 정렬 오름차순\n",
        "s1 = s.sort_values()\n",
        "print(s1)"
      ],
      "execution_count": 69,
      "outputs": [
        {
          "output_type": "stream",
          "text": [
            "000020     2.0\n",
            "000010     3.1\n",
            "000040     5.1\n",
            "000030    10.1\n",
            "dtype: float64\n"
          ],
          "name": "stdout"
        }
      ]
    },
    {
      "cell_type": "code",
      "metadata": {
        "colab": {
          "base_uri": "https://localhost:8080/"
        },
        "id": "ZafviJoNE7Sb",
        "outputId": "71c2b36b-afd8-44c9-9fc5-c65bea6644b0"
      },
      "source": [
        "# 정렬 내림차순\n",
        "s2 = s.sort_values(ascending=False)\n",
        "print(s2)"
      ],
      "execution_count": 70,
      "outputs": [
        {
          "output_type": "stream",
          "text": [
            "000030    10.1\n",
            "000040     5.1\n",
            "000010     3.1\n",
            "000020     2.0\n",
            "dtype: float64\n"
          ],
          "name": "stdout"
        }
      ]
    },
    {
      "cell_type": "markdown",
      "metadata": {
        "id": "2j6FHSDTFCSx"
      },
      "source": [
        "Series 객체는 ```sort_values()```라는 자체 정렬 메소드를 가진다. 따라서 정렬하고 싶은 시리즈 객체에서 sort_values()를 호출해주기만 하면 데이터를 기준으로 오름차순 정렬된다. 만약 내림차순 정렬을 원한다면 ```sort_values(ascending=False)```를 해준다."
      ]
    },
    {
      "cell_type": "markdown",
      "metadata": {
        "id": "VGzNfSJAFYPb"
      },
      "source": [
        "이번에는 시리즈 객체의 데이터 값을 기준으로 순위를 매겨보자. data값이 낮은 순으로 순위를 매기고 싶다. 앞에서 배운 정렬과 달리 **데이터의 위치는 그대로 유지한 채 순위만 매겨보고 싶다는 것이다.**    \n",
        "\n",
        "```rank()``` 메소드는 Series 객체가 제공하는 순위를 매기기 위한 메소드다. rank()는 **값이 작은** 데이터를 1순위로 지정한다."
      ]
    },
    {
      "cell_type": "code",
      "metadata": {
        "colab": {
          "base_uri": "https://localhost:8080/"
        },
        "id": "X9gRuetPGpvK",
        "outputId": "03a5b647-af96-4aee-bccc-0a92377e90f3"
      },
      "source": [
        "print(s.rank())\n",
        "# 결과를 살펴보면 data의 값이 가장 작은 '000020'의 순위값이 1임을 알 수 있다."
      ],
      "execution_count": 71,
      "outputs": [
        {
          "output_type": "stream",
          "text": [
            "000010    2.0\n",
            "000020    1.0\n",
            "000030    4.0\n",
            "000040    3.0\n",
            "dtype: float64\n"
          ],
          "name": "stdout"
        }
      ]
    },
    {
      "cell_type": "code",
      "metadata": {
        "colab": {
          "base_uri": "https://localhost:8080/"
        },
        "id": "grsoEx4DG_34",
        "outputId": "2caea00a-c55c-4d9b-a6b0-dcb7f70245ca"
      },
      "source": [
        "# 만약 큰 데이터에 대해 1등으로 순위를 매기려면 아래와 같이 호출한다.\n",
        "print(s.rank(ascending=False))"
      ],
      "execution_count": 72,
      "outputs": [
        {
          "output_type": "stream",
          "text": [
            "000010    3.0\n",
            "000020    4.0\n",
            "000030    1.0\n",
            "000040    2.0\n",
            "dtype: float64\n"
          ],
          "name": "stdout"
        }
      ]
    },
    {
      "cell_type": "markdown",
      "metadata": {
        "id": "KE8NdVhyHNSk"
      },
      "source": [
        "# 2.7. 엑셀 파일로 저장하기\n",
        "Series 객체로 표현된 데이터는 엑셀로 저장하려면 ```to_excel``` 메소드를 사용하면 된다. 이때 to_excel의 인자로 저장할 파일 이름을 문자열로 넘겨주면 된다. 디렉토리 경로를 지정하지 않으면 소스코드와 같은 디렉토리에 엑셀 파일이 생성된다."
      ]
    },
    {
      "cell_type": "code",
      "metadata": {
        "id": "_30bVIifHbOp"
      },
      "source": [
        "from pandas import Series\n",
        "data = [1000, 2000, 3000]\n",
        "index = [\"메로나\", \"구구콘\", \"하겐다즈\"]\n",
        "s = Series(data=data, index=index)\n",
        "\n",
        "s.to_excel(\"data.xlsx\")"
      ],
      "execution_count": 73,
      "outputs": []
    },
    {
      "cell_type": "markdown",
      "metadata": {
        "id": "s52F151LHu92"
      },
      "source": [
        "![](https://wikidocs.net/images/page/45650/01.png)"
      ]
    },
    {
      "cell_type": "markdown",
      "metadata": {
        "id": "QxSBPKu1Hxv4"
      },
      "source": [
        "## 2.8. Series 인덱스 수정\n",
        "이번에는 Series 객체의 인덱스를 수정해보자. "
      ]
    },
    {
      "cell_type": "code",
      "metadata": {
        "id": "m_TPvQEwH4_G"
      },
      "source": [
        "from pandas import Series\n",
        "\n",
        "data = [3.1, 2.0, 10.1, 5.1]\n",
        "index = ['000010', '000020', '000030', '000040']\n",
        "s = Series(data=data, index=index)"
      ],
      "execution_count": 77,
      "outputs": []
    },
    {
      "cell_type": "markdown",
      "metadata": {
        "id": "Y16TOHYQH7He"
      },
      "source": [
        "인덱스는 종목코드다. 국내 주식의 종목코드는 6자리 문자열로 구성된다. 주식 데이터를 여러 사이트로부터 가져오다보면 어떤 종목코드 앞에 알파벳 'A'를 붙여서 사용하는 경우가 있다. 이런 경우를 대비하여 앞서 만든 시리즈 객체의 인덱스에 'A'를 추가해준다."
      ]
    },
    {
      "cell_type": "code",
      "metadata": {
        "colab": {
          "base_uri": "https://localhost:8080/"
        },
        "id": "XRT-bcsxIYjv",
        "outputId": "d34381c6-080c-44f1-95cd-248f1eeb7585"
      },
      "source": [
        "s.index = 'A' + s.index\n",
        "print(s)"
      ],
      "execution_count": 78,
      "outputs": [
        {
          "output_type": "stream",
          "text": [
            "A000010     3.1\n",
            "A000020     2.0\n",
            "A000030    10.1\n",
            "A000040     5.1\n",
            "dtype: float64\n"
          ],
          "name": "stdout"
        }
      ]
    },
    {
      "cell_type": "markdown",
      "metadata": {
        "id": "A36upEGMIdCf"
      },
      "source": [
        "문자열 연산을 다루는 것처럼 처리해준 후 다시 인덱스에 대입해주면 된다.\n",
        "\n",
        "***\n",
        "\n",
        "여기까지 파이썬의 기본 문법(클래스, 인스턴스, 예외처리)와 Pandas의 Series까지 살펴보았다. 다음 pandas02.ipynb에서는 DataFrame과 시계열 데이터를 다뤄본다."
      ]
    }
  ]
}