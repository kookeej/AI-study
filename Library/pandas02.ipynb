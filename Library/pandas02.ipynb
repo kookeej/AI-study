{
  "nbformat": 4,
  "nbformat_minor": 0,
  "metadata": {
    "colab": {
      "name": "pandas02.ipynb",
      "provenance": [],
      "collapsed_sections": [],
      "toc_visible": true,
      "authorship_tag": "ABX9TyPnQ5rEvdoF2AEWPludEZh6",
      "include_colab_link": true
    },
    "kernelspec": {
      "name": "python3",
      "display_name": "Python 3"
    },
    "language_info": {
      "name": "python"
    }
  },
  "cells": [
    {
      "cell_type": "markdown",
      "metadata": {
        "id": "view-in-github",
        "colab_type": "text"
      },
      "source": [
        "<a href=\"https://colab.research.google.com/github/kookeej/AI-study/blob/main/Library/pandas02.ipynb\" target=\"_parent\"><img src=\"https://colab.research.google.com/assets/colab-badge.svg\" alt=\"Open In Colab\"/></a>"
      ]
    },
    {
      "cell_type": "markdown",
      "metadata": {
        "id": "8s77IakKWE-s"
      },
      "source": [
        "Pandas\n",
        "===\n",
        "*이 내용은 [위키독스](https://wikidocs.net/)의 [금융 데이터 분석을 위한 파이썬 Pandas](https://wikidocs.net/book/3488)으로 데이터 시각화하기를 보며 직접 실습하며 필기한 내용이므로 내용이 상당 부분 겹칩니다.*\n",
        "\n",
        "## 목차\n",
        "\n",
        "# 1. DataFrame\n",
        "```DataFrame```은 Pandas가 제공하는 2차원 데이터 자료구조다. 쉽게 말하면 표, 또는 엑셀 프로그램에서 하나의 Sheet라고 보면 된다.     \n",
        "\n",
        "![](https://wikidocs.net/images/page/46828/01.png)    \n",
        "\n",
        "위 그림에서 보면 '종목코드', '종목명', '현재가', '대비', '등락률'이라는 5개의 columns로 이루어져 있다. 이 2차원 데이터를 DataFrame으로 표현해보자. DataFrame을 생성하기 위해서는,\n",
        "* 2차원 데이터 자체를 파이썬 리스트, 또는 딕셔너리로 표현해야 한다.\n",
        "* DataFrame 클래스 생성자를 호출하여 객체를 생성한다.    \n",
        "\n",
        "아래 표를 DataFrame으로 나타내보자.    \n",
        "![](https://wikidocs.net/images/page/46828/02.png)    \n",
        "\n",
        "DataFrame의 생성은 아래 세 가지 방법을 많이 사용한다.\n",
        "* 딕셔너리로 데이터프레임 생성\n",
        "* 리스트로 데이터프레임 생성\n",
        "* 리스트와 딕셔너리로 데이터프레임 생성\n",
        "\n",
        "> ### 딕셔너리로 데이터프레임 생성\n",
        "\n"
      ]
    },
    {
      "cell_type": "code",
      "metadata": {
        "colab": {
          "base_uri": "https://localhost:8080/",
          "height": 142
        },
        "id": "4x9_9NrcZ7FD",
        "outputId": "d8167f29-c1d1-4c6b-ae34-45a72fed69e3"
      },
      "source": [
        "from pandas import DataFrame\n",
        "\n",
        "data = {\n",
        "    '종목코드': ['037730', '036360', '005760'],\n",
        "    '종목명': ['3R', '3SOFT', 'ACTS'],\n",
        "    '현재가': [1510, 1790, 1185]\n",
        "}\n",
        "\n",
        "df = DataFrame(data)        # DataFrame 클래스의 객체 생성(생성자 호출)\n",
        "df"
      ],
      "execution_count": null,
      "outputs": [
        {
          "output_type": "execute_result",
          "data": {
            "text/html": [
              "<div>\n",
              "<style scoped>\n",
              "    .dataframe tbody tr th:only-of-type {\n",
              "        vertical-align: middle;\n",
              "    }\n",
              "\n",
              "    .dataframe tbody tr th {\n",
              "        vertical-align: top;\n",
              "    }\n",
              "\n",
              "    .dataframe thead th {\n",
              "        text-align: right;\n",
              "    }\n",
              "</style>\n",
              "<table border=\"1\" class=\"dataframe\">\n",
              "  <thead>\n",
              "    <tr style=\"text-align: right;\">\n",
              "      <th></th>\n",
              "      <th>종목코드</th>\n",
              "      <th>종목명</th>\n",
              "      <th>현재가</th>\n",
              "    </tr>\n",
              "  </thead>\n",
              "  <tbody>\n",
              "    <tr>\n",
              "      <th>0</th>\n",
              "      <td>037730</td>\n",
              "      <td>3R</td>\n",
              "      <td>1510</td>\n",
              "    </tr>\n",
              "    <tr>\n",
              "      <th>1</th>\n",
              "      <td>036360</td>\n",
              "      <td>3SOFT</td>\n",
              "      <td>1790</td>\n",
              "    </tr>\n",
              "    <tr>\n",
              "      <th>2</th>\n",
              "      <td>005760</td>\n",
              "      <td>ACTS</td>\n",
              "      <td>1185</td>\n",
              "    </tr>\n",
              "  </tbody>\n",
              "</table>\n",
              "</div>"
            ],
            "text/plain": [
              "     종목코드    종목명   현재가\n",
              "0  037730     3R  1510\n",
              "1  036360  3SOFT  1790\n",
              "2  005760   ACTS  1185"
            ]
          },
          "metadata": {
            "tags": []
          },
          "execution_count": 2
        }
      ]
    },
    {
      "cell_type": "markdown",
      "metadata": {
        "id": "9oDLxWA6a3Ou"
      },
      "source": [
        "> ### 리스트로 데이터프레임 생성"
      ]
    },
    {
      "cell_type": "code",
      "metadata": {
        "colab": {
          "base_uri": "https://localhost:8080/",
          "height": 142
        },
        "id": "KzUEzEPja8Sd",
        "outputId": "87a5237a-70c1-4fc7-c0b3-dd4aa11b9b3f"
      },
      "source": [
        "# 2차원 데이터의 각 행을 리스트로 표현한 후 리스트 안에 리스트를 넣어준다.\n",
        "data = [\n",
        "        [\"037730\", \"3R\", 1510],\n",
        "        [\"036360\", \"3SOFT\", 1790],\n",
        "        [\"005760\", \"ACTS\", 1185]\n",
        "]\n",
        "\n",
        "# 데이터프레임의 칼럼 인자로 칼럼 레이블을 넘겨준다.\n",
        "columns = [\"종목코드\", \"종목명\", \"현재가\"]\n",
        "\n",
        "# 데이터프레임 객체 생성\n",
        "df = DataFrame(data=data, columns=columns)\n",
        "df"
      ],
      "execution_count": null,
      "outputs": [
        {
          "output_type": "execute_result",
          "data": {
            "text/html": [
              "<div>\n",
              "<style scoped>\n",
              "    .dataframe tbody tr th:only-of-type {\n",
              "        vertical-align: middle;\n",
              "    }\n",
              "\n",
              "    .dataframe tbody tr th {\n",
              "        vertical-align: top;\n",
              "    }\n",
              "\n",
              "    .dataframe thead th {\n",
              "        text-align: right;\n",
              "    }\n",
              "</style>\n",
              "<table border=\"1\" class=\"dataframe\">\n",
              "  <thead>\n",
              "    <tr style=\"text-align: right;\">\n",
              "      <th></th>\n",
              "      <th>종목코드</th>\n",
              "      <th>종목명</th>\n",
              "      <th>현재가</th>\n",
              "    </tr>\n",
              "  </thead>\n",
              "  <tbody>\n",
              "    <tr>\n",
              "      <th>0</th>\n",
              "      <td>037730</td>\n",
              "      <td>3R</td>\n",
              "      <td>1510</td>\n",
              "    </tr>\n",
              "    <tr>\n",
              "      <th>1</th>\n",
              "      <td>036360</td>\n",
              "      <td>3SOFT</td>\n",
              "      <td>1790</td>\n",
              "    </tr>\n",
              "    <tr>\n",
              "      <th>2</th>\n",
              "      <td>005760</td>\n",
              "      <td>ACTS</td>\n",
              "      <td>1185</td>\n",
              "    </tr>\n",
              "  </tbody>\n",
              "</table>\n",
              "</div>"
            ],
            "text/plain": [
              "     종목코드    종목명   현재가\n",
              "0  037730     3R  1510\n",
              "1  036360  3SOFT  1790\n",
              "2  005760   ACTS  1185"
            ]
          },
          "metadata": {
            "tags": []
          },
          "execution_count": 3
        }
      ]
    },
    {
      "cell_type": "markdown",
      "metadata": {
        "id": "XK-6fQ4UbnpG"
      },
      "source": [
        "> ### 리스트와 딕셔너리로 데이터프레임 생성"
      ]
    },
    {
      "cell_type": "code",
      "metadata": {
        "colab": {
          "base_uri": "https://localhost:8080/",
          "height": 142
        },
        "id": "2Qo4KpODbvdA",
        "outputId": "44a86945-41ef-4b39-d12c-b6d10d60c898"
      },
      "source": [
        "# 리스트로 행 단위로 데이터를 표현하면서 데이터에 레이블을 붙여 각 행을 하나의 딕셔너리로 표현\n",
        "data = [\n",
        "        {\"종목코드\": \"037730\", \"종목명\": \"3R\", \"현재가\": 1510},\n",
        "        {\"종목코드\": \"036360\", \"종목명\": \"3SOFT\", \"현재가\": 1790},\n",
        "        {\"종목코드\": \"005760\", \"종목명\": \"ACTS\", \"현재가\": 1185}\n",
        "]\n",
        "\n",
        "df = DataFrame(data=data)\n",
        "df"
      ],
      "execution_count": null,
      "outputs": [
        {
          "output_type": "execute_result",
          "data": {
            "text/html": [
              "<div>\n",
              "<style scoped>\n",
              "    .dataframe tbody tr th:only-of-type {\n",
              "        vertical-align: middle;\n",
              "    }\n",
              "\n",
              "    .dataframe tbody tr th {\n",
              "        vertical-align: top;\n",
              "    }\n",
              "\n",
              "    .dataframe thead th {\n",
              "        text-align: right;\n",
              "    }\n",
              "</style>\n",
              "<table border=\"1\" class=\"dataframe\">\n",
              "  <thead>\n",
              "    <tr style=\"text-align: right;\">\n",
              "      <th></th>\n",
              "      <th>종목코드</th>\n",
              "      <th>종목명</th>\n",
              "      <th>현재가</th>\n",
              "    </tr>\n",
              "  </thead>\n",
              "  <tbody>\n",
              "    <tr>\n",
              "      <th>0</th>\n",
              "      <td>037730</td>\n",
              "      <td>3R</td>\n",
              "      <td>1510</td>\n",
              "    </tr>\n",
              "    <tr>\n",
              "      <th>1</th>\n",
              "      <td>036360</td>\n",
              "      <td>3SOFT</td>\n",
              "      <td>1790</td>\n",
              "    </tr>\n",
              "    <tr>\n",
              "      <th>2</th>\n",
              "      <td>005760</td>\n",
              "      <td>ACTS</td>\n",
              "      <td>1185</td>\n",
              "    </tr>\n",
              "  </tbody>\n",
              "</table>\n",
              "</div>"
            ],
            "text/plain": [
              "     종목코드    종목명   현재가\n",
              "0  037730     3R  1510\n",
              "1  036360  3SOFT  1790\n",
              "2  005760   ACTS  1185"
            ]
          },
          "metadata": {
            "tags": []
          },
          "execution_count": 5
        }
      ]
    },
    {
      "cell_type": "markdown",
      "metadata": {
        "id": "knOSETb8cdPM"
      },
      "source": [
        "## 1.1. 인덱싱\n",
        "인덱스 단위로 Series에 접근해서 데이터를 가져오는 일이 빈번하므로 하나의 행을 대표하는 인덱스를 지정하는 것은 매우 중요하다. "
      ]
    },
    {
      "cell_type": "code",
      "metadata": {
        "colab": {
          "base_uri": "https://localhost:8080/",
          "height": 142
        },
        "id": "AO8-i-_ZdTHQ",
        "outputId": "1e2280f6-b37a-450d-e2ee-db3bc715b4f4"
      },
      "source": [
        "data = [\n",
        "        [\"037730\", \"3R\", 1510],\n",
        "        [\"036360\", \"3SOFT\", 1790],\n",
        "        [\"005760\", \"ACTS\", 1185]\n",
        "]\n",
        "\n",
        "# 데이터프레임의 칼럼 인자로 칼럼 레이블을 넘겨준다.\n",
        "columns = [\"종목코드\", \"종목명\", \"현재가\"]\n",
        "\n",
        "# 데이터프레임 객체 생성\n",
        "df = DataFrame(data=data, columns=columns)\n",
        "df"
      ],
      "execution_count": null,
      "outputs": [
        {
          "output_type": "execute_result",
          "data": {
            "text/html": [
              "<div>\n",
              "<style scoped>\n",
              "    .dataframe tbody tr th:only-of-type {\n",
              "        vertical-align: middle;\n",
              "    }\n",
              "\n",
              "    .dataframe tbody tr th {\n",
              "        vertical-align: top;\n",
              "    }\n",
              "\n",
              "    .dataframe thead th {\n",
              "        text-align: right;\n",
              "    }\n",
              "</style>\n",
              "<table border=\"1\" class=\"dataframe\">\n",
              "  <thead>\n",
              "    <tr style=\"text-align: right;\">\n",
              "      <th></th>\n",
              "      <th>종목코드</th>\n",
              "      <th>종목명</th>\n",
              "      <th>현재가</th>\n",
              "    </tr>\n",
              "  </thead>\n",
              "  <tbody>\n",
              "    <tr>\n",
              "      <th>0</th>\n",
              "      <td>037730</td>\n",
              "      <td>3R</td>\n",
              "      <td>1510</td>\n",
              "    </tr>\n",
              "    <tr>\n",
              "      <th>1</th>\n",
              "      <td>036360</td>\n",
              "      <td>3SOFT</td>\n",
              "      <td>1790</td>\n",
              "    </tr>\n",
              "    <tr>\n",
              "      <th>2</th>\n",
              "      <td>005760</td>\n",
              "      <td>ACTS</td>\n",
              "      <td>1185</td>\n",
              "    </tr>\n",
              "  </tbody>\n",
              "</table>\n",
              "</div>"
            ],
            "text/plain": [
              "     종목코드    종목명   현재가\n",
              "0  037730     3R  1510\n",
              "1  036360  3SOFT  1790\n",
              "2  005760   ACTS  1185"
            ]
          },
          "metadata": {
            "tags": []
          },
          "execution_count": 6
        }
      ]
    },
    {
      "cell_type": "markdown",
      "metadata": {
        "id": "TfhDo1eVdUts"
      },
      "source": [
        "데이터프레임에 자동으로 생성된 0, 1, 2라는 인덱스 대신 행을 대표하는 종목코드로 인덱스를 변경해보자. ```set_index()``` 메소드를 사용하면 원본 데이터를 변경하지 않고 새로운 인덱스가 설정된 새로운 데이터프레임을 리턴한다. 따라서 결과값을 변수에 바인딩해야 한다."
      ]
    },
    {
      "cell_type": "code",
      "metadata": {
        "colab": {
          "base_uri": "https://localhost:8080/",
          "height": 173
        },
        "id": "mfOdXdKLdmFG",
        "outputId": "1e914fb4-7103-4524-f40f-9a62f5d43095"
      },
      "source": [
        "df = df.set_index('종목코드')\n",
        "df"
      ],
      "execution_count": null,
      "outputs": [
        {
          "output_type": "execute_result",
          "data": {
            "text/html": [
              "<div>\n",
              "<style scoped>\n",
              "    .dataframe tbody tr th:only-of-type {\n",
              "        vertical-align: middle;\n",
              "    }\n",
              "\n",
              "    .dataframe tbody tr th {\n",
              "        vertical-align: top;\n",
              "    }\n",
              "\n",
              "    .dataframe thead th {\n",
              "        text-align: right;\n",
              "    }\n",
              "</style>\n",
              "<table border=\"1\" class=\"dataframe\">\n",
              "  <thead>\n",
              "    <tr style=\"text-align: right;\">\n",
              "      <th></th>\n",
              "      <th>종목명</th>\n",
              "      <th>현재가</th>\n",
              "    </tr>\n",
              "    <tr>\n",
              "      <th>종목코드</th>\n",
              "      <th></th>\n",
              "      <th></th>\n",
              "    </tr>\n",
              "  </thead>\n",
              "  <tbody>\n",
              "    <tr>\n",
              "      <th>037730</th>\n",
              "      <td>3R</td>\n",
              "      <td>1510</td>\n",
              "    </tr>\n",
              "    <tr>\n",
              "      <th>036360</th>\n",
              "      <td>3SOFT</td>\n",
              "      <td>1790</td>\n",
              "    </tr>\n",
              "    <tr>\n",
              "      <th>005760</th>\n",
              "      <td>ACTS</td>\n",
              "      <td>1185</td>\n",
              "    </tr>\n",
              "  </tbody>\n",
              "</table>\n",
              "</div>"
            ],
            "text/plain": [
              "          종목명   현재가\n",
              "종목코드               \n",
              "037730     3R  1510\n",
              "036360  3SOFT  1790\n",
              "005760   ACTS  1185"
            ]
          },
          "metadata": {
            "tags": []
          },
          "execution_count": 7
        }
      ]
    },
    {
      "cell_type": "markdown",
      "metadata": {
        "id": "DB6Hr-RDdsyE"
      },
      "source": [
        "데이터프레임 객체를 생성함과 동시에 인덱스를 지정할 수도 있다. 인덱스로 사용할 값들을 별도의 리스트로 구성한다."
      ]
    },
    {
      "cell_type": "code",
      "metadata": {
        "colab": {
          "base_uri": "https://localhost:8080/",
          "height": 173
        },
        "id": "b1xBTBZTdz69",
        "outputId": "72fbc8d6-f048-48a0-c37f-5a96ea87cc79"
      },
      "source": [
        "data = [\n",
        "        [\"037730\", \"3R\", 1510],\n",
        "        [\"036360\", \"3SOFT\", 1790],\n",
        "        [\"005760\", \"ACTS\", 1185]\n",
        "]\n",
        "\n",
        "index = [\"037730\", \"036360\", \"005760\"]\n",
        "columns = [\"종목코드\", \"종목명\", \"현재가\"]\n",
        "\n",
        "# 데이터프레임 객체 생성\n",
        "df = DataFrame(data=data, index=index, columns=columns)\n",
        "df.index.name=\"종목코드\"\n",
        "df"
      ],
      "execution_count": null,
      "outputs": [
        {
          "output_type": "execute_result",
          "data": {
            "text/html": [
              "<div>\n",
              "<style scoped>\n",
              "    .dataframe tbody tr th:only-of-type {\n",
              "        vertical-align: middle;\n",
              "    }\n",
              "\n",
              "    .dataframe tbody tr th {\n",
              "        vertical-align: top;\n",
              "    }\n",
              "\n",
              "    .dataframe thead th {\n",
              "        text-align: right;\n",
              "    }\n",
              "</style>\n",
              "<table border=\"1\" class=\"dataframe\">\n",
              "  <thead>\n",
              "    <tr style=\"text-align: right;\">\n",
              "      <th></th>\n",
              "      <th>종목코드</th>\n",
              "      <th>종목명</th>\n",
              "      <th>현재가</th>\n",
              "    </tr>\n",
              "    <tr>\n",
              "      <th>종목코드</th>\n",
              "      <th></th>\n",
              "      <th></th>\n",
              "      <th></th>\n",
              "    </tr>\n",
              "  </thead>\n",
              "  <tbody>\n",
              "    <tr>\n",
              "      <th>037730</th>\n",
              "      <td>037730</td>\n",
              "      <td>3R</td>\n",
              "      <td>1510</td>\n",
              "    </tr>\n",
              "    <tr>\n",
              "      <th>036360</th>\n",
              "      <td>036360</td>\n",
              "      <td>3SOFT</td>\n",
              "      <td>1790</td>\n",
              "    </tr>\n",
              "    <tr>\n",
              "      <th>005760</th>\n",
              "      <td>005760</td>\n",
              "      <td>ACTS</td>\n",
              "      <td>1185</td>\n",
              "    </tr>\n",
              "  </tbody>\n",
              "</table>\n",
              "</div>"
            ],
            "text/plain": [
              "          종목코드    종목명   현재가\n",
              "종목코드                       \n",
              "037730  037730     3R  1510\n",
              "036360  036360  3SOFT  1790\n",
              "005760  005760   ACTS  1185"
            ]
          },
          "metadata": {
            "tags": []
          },
          "execution_count": 8
        }
      ]
    },
    {
      "cell_type": "markdown",
      "metadata": {
        "id": "qEasqoWEeIGy"
      },
      "source": [
        "## 1.2. Columns\n",
        "데이터프레임은 columns 또는 row 단위로 인덱싱할 수 있다. 데이터프레임 객체에 []안에 칼럼 이름을 넣으면 해당 칼럼의 데이터를 모두 선택한다.\n"
      ]
    },
    {
      "cell_type": "code",
      "metadata": {
        "colab": {
          "base_uri": "https://localhost:8080/"
        },
        "id": "64D4ddogeVr2",
        "outputId": "0e06e32c-2c27-4650-cfb7-5e9aee970b1e"
      },
      "source": [
        "data = [\n",
        "        [\"037730\", \"3R\", 1510, 7.36],\n",
        "        [\"036360\", \"3SOFT\", 1790, 1.65],\n",
        "        [\"005760\", \"ACTS\", 1185, 1.28]\n",
        "]\n",
        "\n",
        "# 데이터프레임의 칼럼 인자로 칼럼 레이블을 넘겨준다.\n",
        "columns = [\"종목코드\", \"종목명\", \"현재가\", \"등락률\"]\n",
        "\n",
        "# 데이터프레임 객체 생성\n",
        "df = DataFrame(data=data, columns=columns)\n",
        "df = df.set_index('종목코드')\n",
        "df[\"현재가\"]"
      ],
      "execution_count": null,
      "outputs": [
        {
          "output_type": "execute_result",
          "data": {
            "text/plain": [
              "종목코드\n",
              "037730    1510\n",
              "036360    1790\n",
              "005760    1185\n",
              "Name: 현재가, dtype: int64"
            ]
          },
          "metadata": {
            "tags": []
          },
          "execution_count": 14
        }
      ]
    },
    {
      "cell_type": "markdown",
      "metadata": {
        "id": "zkZ8NyKfekMi"
      },
      "source": [
        "종목코드를 인덱스로 하는 현재가 칼럼이 Series로 출력된다. 데이터프레임과 같은 문자열 인덱스가 시리즈의 인덱스로 사용된다.    \n",
        "\n",
        "데이터 프레임은 시리즈와 동일하게  여러 개의 칼럼을 슬라이싱할 수 있다. "
      ]
    },
    {
      "cell_type": "code",
      "metadata": {
        "colab": {
          "base_uri": "https://localhost:8080/",
          "height": 173
        },
        "id": "y9EWskJwe4bM",
        "outputId": "161298ef-5996-4b4a-b5cf-40be269e5da7"
      },
      "source": [
        "L = [\"현재가\", \"등락률\"]\n",
        "df[L]"
      ],
      "execution_count": null,
      "outputs": [
        {
          "output_type": "execute_result",
          "data": {
            "text/html": [
              "<div>\n",
              "<style scoped>\n",
              "    .dataframe tbody tr th:only-of-type {\n",
              "        vertical-align: middle;\n",
              "    }\n",
              "\n",
              "    .dataframe tbody tr th {\n",
              "        vertical-align: top;\n",
              "    }\n",
              "\n",
              "    .dataframe thead th {\n",
              "        text-align: right;\n",
              "    }\n",
              "</style>\n",
              "<table border=\"1\" class=\"dataframe\">\n",
              "  <thead>\n",
              "    <tr style=\"text-align: right;\">\n",
              "      <th></th>\n",
              "      <th>현재가</th>\n",
              "      <th>등락률</th>\n",
              "    </tr>\n",
              "    <tr>\n",
              "      <th>종목코드</th>\n",
              "      <th></th>\n",
              "      <th></th>\n",
              "    </tr>\n",
              "  </thead>\n",
              "  <tbody>\n",
              "    <tr>\n",
              "      <th>037730</th>\n",
              "      <td>1510</td>\n",
              "      <td>7.36</td>\n",
              "    </tr>\n",
              "    <tr>\n",
              "      <th>036360</th>\n",
              "      <td>1790</td>\n",
              "      <td>1.65</td>\n",
              "    </tr>\n",
              "    <tr>\n",
              "      <th>005760</th>\n",
              "      <td>1185</td>\n",
              "      <td>1.28</td>\n",
              "    </tr>\n",
              "  </tbody>\n",
              "</table>\n",
              "</div>"
            ],
            "text/plain": [
              "         현재가   등락률\n",
              "종목코드              \n",
              "037730  1510  7.36\n",
              "036360  1790  1.65\n",
              "005760  1185  1.28"
            ]
          },
          "metadata": {
            "tags": []
          },
          "execution_count": 17
        }
      ]
    },
    {
      "cell_type": "markdown",
      "metadata": {
        "id": "cjZ9kFAHf3JL"
      },
      "source": [
        "이렇게 불연속적인 데이터도 쉽게 슬라이싱하여 나타낼 수 있다."
      ]
    },
    {
      "cell_type": "markdown",
      "metadata": {
        "id": "YnxotqKwgsQN"
      },
      "source": [
        "## 1.3. Rows\n",
        "데이터프레임에서 row 단위로 인덱싱하려면 ```loc```, ```iloc```를 사용해야 한다.\n",
        "* ```loc```: 인덱스를 기준으로 row 데이터 추출\n",
        "* ```iloc```: 행 번호를 기준으로 row 데이터 추출    \n",
        "\n",
        "출력 결과를 확인해보면 인덱싱한 row는 Series다.\n"
      ]
    },
    {
      "cell_type": "code",
      "metadata": {
        "colab": {
          "base_uri": "https://localhost:8080/"
        },
        "id": "Xs0oLOtrhGbp",
        "outputId": "dd8565a4-abd6-4fee-aaee-1653e3de426f"
      },
      "source": [
        "data = [\n",
        "    [\"037730\", \"3R\", 1510, 7.36],\n",
        "    [\"036360\", \"3SOFT\", 1790, 1.65],\n",
        "    [\"005760\", \"ACTS\", 1185, 1.28],\n",
        "]\n",
        "\n",
        "columns = [\"종목코드\", \"종목명\", \"현재가\", \"등락률\"]\n",
        "df = DataFrame(data=data, columns=columns)\n",
        "df = df.set_index('종목코드')\n",
        "\n",
        "df.loc[\"037730\"]"
      ],
      "execution_count": null,
      "outputs": [
        {
          "output_type": "execute_result",
          "data": {
            "text/plain": [
              "종목명      3R\n",
              "현재가    1510\n",
              "등락률    7.36\n",
              "Name: 037730, dtype: object"
            ]
          },
          "metadata": {
            "tags": []
          },
          "execution_count": 19
        }
      ]
    },
    {
      "cell_type": "code",
      "metadata": {
        "colab": {
          "base_uri": "https://localhost:8080/"
        },
        "id": "BbnVEaTOhiby",
        "outputId": "db3739bf-c275-4158-a58a-4d95d028f8e5"
      },
      "source": [
        "print(df.iloc[0])\n",
        "print(df.iloc[-1])          # iloc를 사용하여 음수 인덱스까지 활용할 수 있다."
      ],
      "execution_count": null,
      "outputs": [
        {
          "output_type": "stream",
          "text": [
            "종목명      3R\n",
            "현재가    1510\n",
            "등락률    7.36\n",
            "Name: 037730, dtype: object\n",
            "종목명    ACTS\n",
            "현재가    1185\n",
            "등락률    1.28\n",
            "Name: 005760, dtype: object\n"
          ],
          "name": "stdout"
        }
      ]
    },
    {
      "cell_type": "code",
      "metadata": {
        "colab": {
          "base_uri": "https://localhost:8080/",
          "height": 142
        },
        "id": "97jsfJQhhzui",
        "outputId": "43cc63c3-a9d1-47ac-b6c4-a9218498a048"
      },
      "source": [
        "df.loc[[\"037730\", \"036360\"]]\n",
        "df.iloc[[0, 1]]"
      ],
      "execution_count": null,
      "outputs": [
        {
          "output_type": "execute_result",
          "data": {
            "text/html": [
              "<div>\n",
              "<style scoped>\n",
              "    .dataframe tbody tr th:only-of-type {\n",
              "        vertical-align: middle;\n",
              "    }\n",
              "\n",
              "    .dataframe tbody tr th {\n",
              "        vertical-align: top;\n",
              "    }\n",
              "\n",
              "    .dataframe thead th {\n",
              "        text-align: right;\n",
              "    }\n",
              "</style>\n",
              "<table border=\"1\" class=\"dataframe\">\n",
              "  <thead>\n",
              "    <tr style=\"text-align: right;\">\n",
              "      <th></th>\n",
              "      <th>종목명</th>\n",
              "      <th>현재가</th>\n",
              "      <th>등락률</th>\n",
              "    </tr>\n",
              "    <tr>\n",
              "      <th>종목코드</th>\n",
              "      <th></th>\n",
              "      <th></th>\n",
              "      <th></th>\n",
              "    </tr>\n",
              "  </thead>\n",
              "  <tbody>\n",
              "    <tr>\n",
              "      <th>037730</th>\n",
              "      <td>3R</td>\n",
              "      <td>1510</td>\n",
              "      <td>7.36</td>\n",
              "    </tr>\n",
              "    <tr>\n",
              "      <th>036360</th>\n",
              "      <td>3SOFT</td>\n",
              "      <td>1790</td>\n",
              "      <td>1.65</td>\n",
              "    </tr>\n",
              "  </tbody>\n",
              "</table>\n",
              "</div>"
            ],
            "text/plain": [
              "          종목명   현재가   등락률\n",
              "종목코드                     \n",
              "037730     3R  1510  7.36\n",
              "036360  3SOFT  1790  1.65"
            ]
          },
          "metadata": {
            "tags": []
          },
          "execution_count": 28
        }
      ]
    },
    {
      "cell_type": "markdown",
      "metadata": {
        "id": "L4fj_Gr8BIFk"
      },
      "source": [
        "## 1.4. 특정 값 가져오기\n",
        "데이터프레임에서 특정 하나의 값에 접근할 수 있다. 인덱스를 먼저 지정하고 해당 칼럼을 지정해서 얻을 수 있고, 또는 해당 칼럼을 먼저 지정하고 인덱스를 지정해서 얻을 수 있다.    "
      ]
    },
    {
      "cell_type": "code",
      "metadata": {
        "colab": {
          "base_uri": "https://localhost:8080/"
        },
        "id": "zp9de3T9BmIi",
        "outputId": "25a4d3af-e026-445d-c232-4ae156db785c"
      },
      "source": [
        "from pandas import DataFrame\n",
        "\n",
        "data = [\n",
        "    [\"037730\", \"3R\", 1510, 7.36],\n",
        "    [\"036360\", \"3SOFT\", 1790, 1.65],\n",
        "    [\"005760\", \"ACTS\", 1185, 1.28],\n",
        "]\n",
        "columns = [\"종목코드\", \"종목명\", \"현재가\", \"등락률\"]\n",
        "df = DataFrame(data=data, columns=columns)\n",
        "df = df.set_index(\"종목코드\")\n",
        "\n",
        "print(df.iloc[0])\n",
        "print(df.loc[\"037730\"])"
      ],
      "execution_count": null,
      "outputs": [
        {
          "output_type": "stream",
          "text": [
            "종목명      3R\n",
            "현재가    1510\n",
            "등락률    7.36\n",
            "Name: 037730, dtype: object\n",
            "종목명      3R\n",
            "현재가    1510\n",
            "등락률    7.36\n",
            "Name: 037730, dtype: object\n"
          ],
          "name": "stdout"
        }
      ]
    },
    {
      "cell_type": "markdown",
      "metadata": {
        "id": "uKFh8G5qCCQo"
      },
      "source": [
        "이제 시리즈의 문자열 인덱싱 또는 시리즈의 정수 인덱싱을 사용하면 하느이 값을 얻을 수 있을 것이다."
      ]
    },
    {
      "cell_type": "code",
      "metadata": {
        "colab": {
          "base_uri": "https://localhost:8080/"
        },
        "id": "GWYN8wtfCIzP",
        "outputId": "33df6778-0e0f-4774-d747-77e4f3e2f7fd"
      },
      "source": [
        "print(df.iloc[0].iloc[1])\n",
        "print(df.iloc[0][1])\n",
        "print(df.iloc[0].loc['현재가'])\n",
        "print(df.iloc[0]['현재가'])\n",
        "\n",
        "print(df.loc['037730'].iloc[1])\n",
        "print(df.loc['037730'][1])\n",
        "print(df.loc['037730'].loc['현재가'])\n",
        "print(df.loc['037730']['현재가'])"
      ],
      "execution_count": null,
      "outputs": [
        {
          "output_type": "stream",
          "text": [
            "1510\n",
            "1510\n",
            "1510\n",
            "1510\n",
            "1510\n",
            "1510\n",
            "1510\n",
            "1510\n"
          ],
          "name": "stdout"
        }
      ]
    },
    {
      "cell_type": "markdown",
      "metadata": {
        "id": "Td3BlA4DC2zv"
      },
      "source": [
        "loc에 rows 인덱스와 columns의 레이블을 순서대로 입력하면 특정 row/column에 있는 값에 접근할 수 있다. 또는 iloc 속성에 row의 행 번호와 column의 순서 값을 입력해도 된다."
      ]
    },
    {
      "cell_type": "code",
      "metadata": {
        "colab": {
          "base_uri": "https://localhost:8080/"
        },
        "id": "L3DPew3cDDZh",
        "outputId": "ae6e76ce-e82e-4f96-ca2d-8092fc77bd36"
      },
      "source": [
        "print(df.loc['037730', '현재가'])\n",
        "print(df.iloc[0, 1])"
      ],
      "execution_count": null,
      "outputs": [
        {
          "output_type": "stream",
          "text": [
            "1510\n",
            "1510\n"
          ],
          "name": "stdout"
        }
      ]
    },
    {
      "cell_type": "markdown",
      "metadata": {
        "id": "t11IUT4FDNzv"
      },
      "source": [
        "또한 데이터프레임의 column에 먼저 접근하고 row를 선택할 수도 있다."
      ]
    },
    {
      "cell_type": "code",
      "metadata": {
        "colab": {
          "base_uri": "https://localhost:8080/"
        },
        "id": "7zHGFOT8DVlu",
        "outputId": "4d8ddf9b-bf46-4b5e-c389-7ecb93acd581"
      },
      "source": [
        "print(df['현재가'].loc['037730'])\n",
        "print(df['현재가']['037730'])\n",
        "print(df['현재가'].iloc[0])\n",
        "print(df['현재가'][0])"
      ],
      "execution_count": null,
      "outputs": [
        {
          "output_type": "stream",
          "text": [
            "1510\n",
            "1510\n",
            "1510\n",
            "1510\n"
          ],
          "name": "stdout"
        }
      ]
    },
    {
      "cell_type": "markdown",
      "metadata": {
        "id": "IcOMqhQ9DkJz"
      },
      "source": [
        "## 1.6. 특정 범위 가져오기\n",
        "이번에는 특정 범위의 데이터에 접근한다. "
      ]
    },
    {
      "cell_type": "code",
      "metadata": {
        "colab": {
          "base_uri": "https://localhost:8080/",
          "height": 214
        },
        "id": "miRWdgk8FpWL",
        "outputId": "c05bca9b-c4f9-49e2-cc5b-8161d986340a"
      },
      "source": [
        "data = [\n",
        "    [\"037730\", \"3R\", 1510, 7.36],\n",
        "    [\"036360\", \"3SOFT\", 1790, 1.65],\n",
        "    [\"005760\", \"ACTS\", 1185, 1.28],\n",
        "]\n",
        "columns = [\"종목코드\", \"종목명\", \"현재가\", \"등락률\"]\n",
        "df = DataFrame(data=data, columns=columns)\n",
        "df = df.set_index(\"종목코드\")\n",
        "\n",
        "print(df.loc[ ['037730', '036360'] ])\n",
        "df.iloc[ [0, 1] ]"
      ],
      "execution_count": null,
      "outputs": [
        {
          "output_type": "stream",
          "text": [
            "          종목명   현재가   등락률\n",
            "종목코드                     \n",
            "037730     3R  1510  7.36\n",
            "036360  3SOFT  1790  1.65\n"
          ],
          "name": "stdout"
        },
        {
          "output_type": "execute_result",
          "data": {
            "text/html": [
              "<div>\n",
              "<style scoped>\n",
              "    .dataframe tbody tr th:only-of-type {\n",
              "        vertical-align: middle;\n",
              "    }\n",
              "\n",
              "    .dataframe tbody tr th {\n",
              "        vertical-align: top;\n",
              "    }\n",
              "\n",
              "    .dataframe thead th {\n",
              "        text-align: right;\n",
              "    }\n",
              "</style>\n",
              "<table border=\"1\" class=\"dataframe\">\n",
              "  <thead>\n",
              "    <tr style=\"text-align: right;\">\n",
              "      <th></th>\n",
              "      <th>종목명</th>\n",
              "      <th>현재가</th>\n",
              "      <th>등락률</th>\n",
              "    </tr>\n",
              "    <tr>\n",
              "      <th>종목코드</th>\n",
              "      <th></th>\n",
              "      <th></th>\n",
              "      <th></th>\n",
              "    </tr>\n",
              "  </thead>\n",
              "  <tbody>\n",
              "    <tr>\n",
              "      <th>037730</th>\n",
              "      <td>3R</td>\n",
              "      <td>1510</td>\n",
              "      <td>7.36</td>\n",
              "    </tr>\n",
              "    <tr>\n",
              "      <th>036360</th>\n",
              "      <td>3SOFT</td>\n",
              "      <td>1790</td>\n",
              "      <td>1.65</td>\n",
              "    </tr>\n",
              "  </tbody>\n",
              "</table>\n",
              "</div>"
            ],
            "text/plain": [
              "          종목명   현재가   등락률\n",
              "종목코드                     \n",
              "037730     3R  1510  7.36\n",
              "036360  3SOFT  1790  1.65"
            ]
          },
          "metadata": {
            "tags": []
          },
          "execution_count": 9
        }
      ]
    },
    {
      "cell_type": "markdown",
      "metadata": {
        "id": "ZFryjK4ZF5NB"
      },
      "source": [
        "결과를 살펴보면 두 개의 행이 선택된 데이터프레임이 출력된다는 것을 알 수 있다."
      ]
    },
    {
      "cell_type": "markdown",
      "metadata": {
        "id": "ANBeW8bhGG7P"
      },
      "source": [
        "필요한 행들이 포함된 데이터프레임에서 다시 칼럼들을 인덱싱하면 해당하는 데이터만 선택할 수 있다."
      ]
    },
    {
      "cell_type": "code",
      "metadata": {
        "colab": {
          "base_uri": "https://localhost:8080/",
          "height": 142
        },
        "id": "cQGeF_mjGTyf",
        "outputId": "e4d588d0-655d-40d2-ee86-36f8a8f35f21"
      },
      "source": [
        "df = df.loc[ ['037730', '036360'] ]\n",
        "df[ ['종목명', '현재가'] ]"
      ],
      "execution_count": null,
      "outputs": [
        {
          "output_type": "execute_result",
          "data": {
            "text/html": [
              "<div>\n",
              "<style scoped>\n",
              "    .dataframe tbody tr th:only-of-type {\n",
              "        vertical-align: middle;\n",
              "    }\n",
              "\n",
              "    .dataframe tbody tr th {\n",
              "        vertical-align: top;\n",
              "    }\n",
              "\n",
              "    .dataframe thead th {\n",
              "        text-align: right;\n",
              "    }\n",
              "</style>\n",
              "<table border=\"1\" class=\"dataframe\">\n",
              "  <thead>\n",
              "    <tr style=\"text-align: right;\">\n",
              "      <th></th>\n",
              "      <th>종목명</th>\n",
              "      <th>현재가</th>\n",
              "    </tr>\n",
              "    <tr>\n",
              "      <th>종목코드</th>\n",
              "      <th></th>\n",
              "      <th></th>\n",
              "    </tr>\n",
              "  </thead>\n",
              "  <tbody>\n",
              "    <tr>\n",
              "      <th>037730</th>\n",
              "      <td>3R</td>\n",
              "      <td>1510</td>\n",
              "    </tr>\n",
              "    <tr>\n",
              "      <th>036360</th>\n",
              "      <td>3SOFT</td>\n",
              "      <td>1790</td>\n",
              "    </tr>\n",
              "  </tbody>\n",
              "</table>\n",
              "</div>"
            ],
            "text/plain": [
              "          종목명   현재가\n",
              "종목코드               \n",
              "037730     3R  1510\n",
              "036360  3SOFT  1790"
            ]
          },
          "metadata": {
            "tags": []
          },
          "execution_count": 10
        }
      ]
    },
    {
      "cell_type": "code",
      "metadata": {
        "colab": {
          "base_uri": "https://localhost:8080/",
          "height": 142
        },
        "id": "hFsORbGLGdM8",
        "outputId": "0a99dd55-cabf-4f84-b6db-be4bfec2f6f8"
      },
      "source": [
        "df.loc[['037730', '036360'], ['종목명', '현재가']]"
      ],
      "execution_count": null,
      "outputs": [
        {
          "output_type": "execute_result",
          "data": {
            "text/html": [
              "<div>\n",
              "<style scoped>\n",
              "    .dataframe tbody tr th:only-of-type {\n",
              "        vertical-align: middle;\n",
              "    }\n",
              "\n",
              "    .dataframe tbody tr th {\n",
              "        vertical-align: top;\n",
              "    }\n",
              "\n",
              "    .dataframe thead th {\n",
              "        text-align: right;\n",
              "    }\n",
              "</style>\n",
              "<table border=\"1\" class=\"dataframe\">\n",
              "  <thead>\n",
              "    <tr style=\"text-align: right;\">\n",
              "      <th></th>\n",
              "      <th>종목명</th>\n",
              "      <th>현재가</th>\n",
              "    </tr>\n",
              "    <tr>\n",
              "      <th>종목코드</th>\n",
              "      <th></th>\n",
              "      <th></th>\n",
              "    </tr>\n",
              "  </thead>\n",
              "  <tbody>\n",
              "    <tr>\n",
              "      <th>037730</th>\n",
              "      <td>3R</td>\n",
              "      <td>1510</td>\n",
              "    </tr>\n",
              "    <tr>\n",
              "      <th>036360</th>\n",
              "      <td>3SOFT</td>\n",
              "      <td>1790</td>\n",
              "    </tr>\n",
              "  </tbody>\n",
              "</table>\n",
              "</div>"
            ],
            "text/plain": [
              "          종목명   현재가\n",
              "종목코드               \n",
              "037730     3R  1510\n",
              "036360  3SOFT  1790"
            ]
          },
          "metadata": {
            "tags": []
          },
          "execution_count": 11
        }
      ]
    },
    {
      "cell_type": "code",
      "metadata": {
        "colab": {
          "base_uri": "https://localhost:8080/",
          "height": 142
        },
        "id": "3wY7C9oOGjVY",
        "outputId": "1e69fddb-b939-45bc-eeb1-d3ad258b22c6"
      },
      "source": [
        "df.iloc[[0, 1], [0, 1]]"
      ],
      "execution_count": null,
      "outputs": [
        {
          "output_type": "execute_result",
          "data": {
            "text/html": [
              "<div>\n",
              "<style scoped>\n",
              "    .dataframe tbody tr th:only-of-type {\n",
              "        vertical-align: middle;\n",
              "    }\n",
              "\n",
              "    .dataframe tbody tr th {\n",
              "        vertical-align: top;\n",
              "    }\n",
              "\n",
              "    .dataframe thead th {\n",
              "        text-align: right;\n",
              "    }\n",
              "</style>\n",
              "<table border=\"1\" class=\"dataframe\">\n",
              "  <thead>\n",
              "    <tr style=\"text-align: right;\">\n",
              "      <th></th>\n",
              "      <th>종목명</th>\n",
              "      <th>현재가</th>\n",
              "    </tr>\n",
              "    <tr>\n",
              "      <th>종목코드</th>\n",
              "      <th></th>\n",
              "      <th></th>\n",
              "    </tr>\n",
              "  </thead>\n",
              "  <tbody>\n",
              "    <tr>\n",
              "      <th>037730</th>\n",
              "      <td>3R</td>\n",
              "      <td>1510</td>\n",
              "    </tr>\n",
              "    <tr>\n",
              "      <th>036360</th>\n",
              "      <td>3SOFT</td>\n",
              "      <td>1790</td>\n",
              "    </tr>\n",
              "  </tbody>\n",
              "</table>\n",
              "</div>"
            ],
            "text/plain": [
              "          종목명   현재가\n",
              "종목코드               \n",
              "037730     3R  1510\n",
              "036360  3SOFT  1790"
            ]
          },
          "metadata": {
            "tags": []
          },
          "execution_count": 12
        }
      ]
    },
    {
      "cell_type": "markdown",
      "metadata": {
        "id": "aUd8hw23GoGD"
      },
      "source": [
        "데이터프레임에서 **불리언 인덱싱**을 사용하면 특정 조건을 만족할 때의 값들을 선택할 수 있다. row 인덱스 자리에 조건 비교를 적용한 시리즈를 입력한다."
      ]
    },
    {
      "cell_type": "code",
      "metadata": {
        "colab": {
          "base_uri": "https://localhost:8080/"
        },
        "id": "VNW7cEHNGy7F",
        "outputId": "19160790-fde6-436f-b49a-9cb927bb5ed7"
      },
      "source": [
        "cond = df['현재가'] >= 1400\n",
        "df.loc[cond, '현재가']"
      ],
      "execution_count": null,
      "outputs": [
        {
          "output_type": "execute_result",
          "data": {
            "text/plain": [
              "종목코드\n",
              "037730    1510\n",
              "036360    1790\n",
              "Name: 현재가, dtype: int64"
            ]
          },
          "metadata": {
            "tags": []
          },
          "execution_count": 13
        }
      ]
    },
    {
      "cell_type": "markdown",
      "metadata": {
        "id": "1Jys0D0eG8Mn"
      },
      "source": [
        "## 1.7. Columns 추가하기\n",
        "5일간의 네이버 일별 시세를 데이터프레임 객체로 표현해보자."
      ]
    },
    {
      "cell_type": "code",
      "metadata": {
        "colab": {
          "base_uri": "https://localhost:8080/",
          "height": 204
        },
        "id": "k2tdXOd6HGMS",
        "outputId": "5b6ac438-214c-462f-c042-46d5e19860bf"
      },
      "source": [
        "data = [\n",
        "    [112000, 112500, 109500, 110500],\n",
        "    [114000, 114500, 110500, 111000],\n",
        "    [113000, 115000, 112000, 115000],\n",
        "    [111500, 112500, 110000, 111500],\n",
        "    [111000, 114000, 109500, 112000],\n",
        "]\n",
        "\n",
        "columns = ['시가', '고가', '저가', '종가']\n",
        "index = ['2019-06-05', '2019-06-04', '2019-06-03', '2019-05-31', '2019-05-30']\n",
        "\n",
        "df = DataFrame(data=data, index=index, columns=columns)\n",
        "df"
      ],
      "execution_count": null,
      "outputs": [
        {
          "output_type": "execute_result",
          "data": {
            "text/html": [
              "<div>\n",
              "<style scoped>\n",
              "    .dataframe tbody tr th:only-of-type {\n",
              "        vertical-align: middle;\n",
              "    }\n",
              "\n",
              "    .dataframe tbody tr th {\n",
              "        vertical-align: top;\n",
              "    }\n",
              "\n",
              "    .dataframe thead th {\n",
              "        text-align: right;\n",
              "    }\n",
              "</style>\n",
              "<table border=\"1\" class=\"dataframe\">\n",
              "  <thead>\n",
              "    <tr style=\"text-align: right;\">\n",
              "      <th></th>\n",
              "      <th>시가</th>\n",
              "      <th>고가</th>\n",
              "      <th>저가</th>\n",
              "      <th>종가</th>\n",
              "    </tr>\n",
              "  </thead>\n",
              "  <tbody>\n",
              "    <tr>\n",
              "      <th>2019-06-05</th>\n",
              "      <td>112000</td>\n",
              "      <td>112500</td>\n",
              "      <td>109500</td>\n",
              "      <td>110500</td>\n",
              "    </tr>\n",
              "    <tr>\n",
              "      <th>2019-06-04</th>\n",
              "      <td>114000</td>\n",
              "      <td>114500</td>\n",
              "      <td>110500</td>\n",
              "      <td>111000</td>\n",
              "    </tr>\n",
              "    <tr>\n",
              "      <th>2019-06-03</th>\n",
              "      <td>113000</td>\n",
              "      <td>115000</td>\n",
              "      <td>112000</td>\n",
              "      <td>115000</td>\n",
              "    </tr>\n",
              "    <tr>\n",
              "      <th>2019-05-31</th>\n",
              "      <td>111500</td>\n",
              "      <td>112500</td>\n",
              "      <td>110000</td>\n",
              "      <td>111500</td>\n",
              "    </tr>\n",
              "    <tr>\n",
              "      <th>2019-05-30</th>\n",
              "      <td>111000</td>\n",
              "      <td>114000</td>\n",
              "      <td>109500</td>\n",
              "      <td>112000</td>\n",
              "    </tr>\n",
              "  </tbody>\n",
              "</table>\n",
              "</div>"
            ],
            "text/plain": [
              "                시가      고가      저가      종가\n",
              "2019-06-05  112000  112500  109500  110500\n",
              "2019-06-04  114000  114500  110500  111000\n",
              "2019-06-03  113000  115000  112000  115000\n",
              "2019-05-31  111500  112500  110000  111500\n",
              "2019-05-30  111000  114000  109500  112000"
            ]
          },
          "metadata": {
            "tags": []
          },
          "execution_count": 14
        }
      ]
    },
    {
      "cell_type": "markdown",
      "metadata": {
        "id": "KJASteihHvy0"
      },
      "source": [
        "이렇게 데이터프레임을 생성했다. 거래일별로 '변동성'이라는 칼럼을 추가할 것이다. 변동성은 '고가-저가'로 정의된다."
      ]
    },
    {
      "cell_type": "code",
      "metadata": {
        "colab": {
          "base_uri": "https://localhost:8080/",
          "height": 204
        },
        "id": "j-_20Gr1H1VL",
        "outputId": "f6c9fd82-50a0-40c0-b1c6-88d39d8ceed4"
      },
      "source": [
        "df = DataFrame(data=data, index=index, columns=columns)\n",
        "df['변동성'] = df['고가'] - df['저가']\n",
        "df"
      ],
      "execution_count": null,
      "outputs": [
        {
          "output_type": "execute_result",
          "data": {
            "text/html": [
              "<div>\n",
              "<style scoped>\n",
              "    .dataframe tbody tr th:only-of-type {\n",
              "        vertical-align: middle;\n",
              "    }\n",
              "\n",
              "    .dataframe tbody tr th {\n",
              "        vertical-align: top;\n",
              "    }\n",
              "\n",
              "    .dataframe thead th {\n",
              "        text-align: right;\n",
              "    }\n",
              "</style>\n",
              "<table border=\"1\" class=\"dataframe\">\n",
              "  <thead>\n",
              "    <tr style=\"text-align: right;\">\n",
              "      <th></th>\n",
              "      <th>시가</th>\n",
              "      <th>고가</th>\n",
              "      <th>저가</th>\n",
              "      <th>종가</th>\n",
              "      <th>변동성</th>\n",
              "    </tr>\n",
              "  </thead>\n",
              "  <tbody>\n",
              "    <tr>\n",
              "      <th>2019-06-05</th>\n",
              "      <td>112000</td>\n",
              "      <td>112500</td>\n",
              "      <td>109500</td>\n",
              "      <td>110500</td>\n",
              "      <td>3000</td>\n",
              "    </tr>\n",
              "    <tr>\n",
              "      <th>2019-06-04</th>\n",
              "      <td>114000</td>\n",
              "      <td>114500</td>\n",
              "      <td>110500</td>\n",
              "      <td>111000</td>\n",
              "      <td>4000</td>\n",
              "    </tr>\n",
              "    <tr>\n",
              "      <th>2019-06-03</th>\n",
              "      <td>113000</td>\n",
              "      <td>115000</td>\n",
              "      <td>112000</td>\n",
              "      <td>115000</td>\n",
              "      <td>3000</td>\n",
              "    </tr>\n",
              "    <tr>\n",
              "      <th>2019-05-31</th>\n",
              "      <td>111500</td>\n",
              "      <td>112500</td>\n",
              "      <td>110000</td>\n",
              "      <td>111500</td>\n",
              "      <td>2500</td>\n",
              "    </tr>\n",
              "    <tr>\n",
              "      <th>2019-05-30</th>\n",
              "      <td>111000</td>\n",
              "      <td>114000</td>\n",
              "      <td>109500</td>\n",
              "      <td>112000</td>\n",
              "      <td>4500</td>\n",
              "    </tr>\n",
              "  </tbody>\n",
              "</table>\n",
              "</div>"
            ],
            "text/plain": [
              "                시가      고가      저가      종가   변동성\n",
              "2019-06-05  112000  112500  109500  110500  3000\n",
              "2019-06-04  114000  114500  110500  111000  4000\n",
              "2019-06-03  113000  115000  112000  115000  3000\n",
              "2019-05-31  111500  112500  110000  111500  2500\n",
              "2019-05-30  111000  114000  109500  112000  4500"
            ]
          },
          "metadata": {
            "tags": []
          },
          "execution_count": 15
        }
      ]
    },
    {
      "cell_type": "markdown",
      "metadata": {
        "id": "GcVjCxz_IJLv"
      },
      "source": [
        "## 1.8. Rows 추가하기\n",
        "이번에는 새로운 날짜의 row 데이터를 추가해보겠다. 먼저 ```loc```속성을 사용할 수 있다.    \n",
        "\n",
        "> ## loc"
      ]
    },
    {
      "cell_type": "code",
      "metadata": {
        "colab": {
          "base_uri": "https://localhost:8080/",
          "height": 235
        },
        "id": "v86JOVXfIUBB",
        "outputId": "02d8dbf5-5560-4aef-815e-5339094c4e1c"
      },
      "source": [
        "from pandas import Series\n",
        "\n",
        "df = DataFrame(data=data, index=index, columns=columns)\n",
        "df.loc['2019-05-29'] = Series([109000, 111000, 108500, 109500], index=columns)\n",
        "df"
      ],
      "execution_count": null,
      "outputs": [
        {
          "output_type": "execute_result",
          "data": {
            "text/html": [
              "<div>\n",
              "<style scoped>\n",
              "    .dataframe tbody tr th:only-of-type {\n",
              "        vertical-align: middle;\n",
              "    }\n",
              "\n",
              "    .dataframe tbody tr th {\n",
              "        vertical-align: top;\n",
              "    }\n",
              "\n",
              "    .dataframe thead th {\n",
              "        text-align: right;\n",
              "    }\n",
              "</style>\n",
              "<table border=\"1\" class=\"dataframe\">\n",
              "  <thead>\n",
              "    <tr style=\"text-align: right;\">\n",
              "      <th></th>\n",
              "      <th>시가</th>\n",
              "      <th>고가</th>\n",
              "      <th>저가</th>\n",
              "      <th>종가</th>\n",
              "    </tr>\n",
              "  </thead>\n",
              "  <tbody>\n",
              "    <tr>\n",
              "      <th>2019-06-05</th>\n",
              "      <td>112000</td>\n",
              "      <td>112500</td>\n",
              "      <td>109500</td>\n",
              "      <td>110500</td>\n",
              "    </tr>\n",
              "    <tr>\n",
              "      <th>2019-06-04</th>\n",
              "      <td>114000</td>\n",
              "      <td>114500</td>\n",
              "      <td>110500</td>\n",
              "      <td>111000</td>\n",
              "    </tr>\n",
              "    <tr>\n",
              "      <th>2019-06-03</th>\n",
              "      <td>113000</td>\n",
              "      <td>115000</td>\n",
              "      <td>112000</td>\n",
              "      <td>115000</td>\n",
              "    </tr>\n",
              "    <tr>\n",
              "      <th>2019-05-31</th>\n",
              "      <td>111500</td>\n",
              "      <td>112500</td>\n",
              "      <td>110000</td>\n",
              "      <td>111500</td>\n",
              "    </tr>\n",
              "    <tr>\n",
              "      <th>2019-05-30</th>\n",
              "      <td>111000</td>\n",
              "      <td>114000</td>\n",
              "      <td>109500</td>\n",
              "      <td>112000</td>\n",
              "    </tr>\n",
              "    <tr>\n",
              "      <th>2019-05-29</th>\n",
              "      <td>109000</td>\n",
              "      <td>111000</td>\n",
              "      <td>108500</td>\n",
              "      <td>109500</td>\n",
              "    </tr>\n",
              "  </tbody>\n",
              "</table>\n",
              "</div>"
            ],
            "text/plain": [
              "                시가      고가      저가      종가\n",
              "2019-06-05  112000  112500  109500  110500\n",
              "2019-06-04  114000  114500  110500  111000\n",
              "2019-06-03  113000  115000  112000  115000\n",
              "2019-05-31  111500  112500  110000  111500\n",
              "2019-05-30  111000  114000  109500  112000\n",
              "2019-05-29  109000  111000  108500  109500"
            ]
          },
          "metadata": {
            "tags": []
          },
          "execution_count": 19
        }
      ]
    },
    {
      "cell_type": "markdown",
      "metadata": {
        "id": "aBby3SgFIu9a"
      },
      "source": [
        ">## append\n",
        "데이터프레임의 append 메소드를 사용해서 row를 추가할 수도 있다. append 메소드를 사용하면 기존의 데이터프레임은 그대로 유지되고 row가 추가된 새로운 데이터프레임 객체가 생성된다."
      ]
    },
    {
      "cell_type": "code",
      "metadata": {
        "colab": {
          "base_uri": "https://localhost:8080/",
          "height": 235
        },
        "id": "L0owZcouI1p6",
        "outputId": "00c7cbf2-5093-4c4b-ae97-92213a6b0e8f"
      },
      "source": [
        "df = DataFrame(data=data, index=index, columns=columns)\n",
        "ohlc = [109000, 111000, 108500, 109500]\n",
        "s = Series(data=ohlc, index=columns, name='2019-05-29')\n",
        "new_df = df.append(s)\n",
        "new_df"
      ],
      "execution_count": null,
      "outputs": [
        {
          "output_type": "execute_result",
          "data": {
            "text/html": [
              "<div>\n",
              "<style scoped>\n",
              "    .dataframe tbody tr th:only-of-type {\n",
              "        vertical-align: middle;\n",
              "    }\n",
              "\n",
              "    .dataframe tbody tr th {\n",
              "        vertical-align: top;\n",
              "    }\n",
              "\n",
              "    .dataframe thead th {\n",
              "        text-align: right;\n",
              "    }\n",
              "</style>\n",
              "<table border=\"1\" class=\"dataframe\">\n",
              "  <thead>\n",
              "    <tr style=\"text-align: right;\">\n",
              "      <th></th>\n",
              "      <th>시가</th>\n",
              "      <th>고가</th>\n",
              "      <th>저가</th>\n",
              "      <th>종가</th>\n",
              "    </tr>\n",
              "  </thead>\n",
              "  <tbody>\n",
              "    <tr>\n",
              "      <th>2019-06-05</th>\n",
              "      <td>112000</td>\n",
              "      <td>112500</td>\n",
              "      <td>109500</td>\n",
              "      <td>110500</td>\n",
              "    </tr>\n",
              "    <tr>\n",
              "      <th>2019-06-04</th>\n",
              "      <td>114000</td>\n",
              "      <td>114500</td>\n",
              "      <td>110500</td>\n",
              "      <td>111000</td>\n",
              "    </tr>\n",
              "    <tr>\n",
              "      <th>2019-06-03</th>\n",
              "      <td>113000</td>\n",
              "      <td>115000</td>\n",
              "      <td>112000</td>\n",
              "      <td>115000</td>\n",
              "    </tr>\n",
              "    <tr>\n",
              "      <th>2019-05-31</th>\n",
              "      <td>111500</td>\n",
              "      <td>112500</td>\n",
              "      <td>110000</td>\n",
              "      <td>111500</td>\n",
              "    </tr>\n",
              "    <tr>\n",
              "      <th>2019-05-30</th>\n",
              "      <td>111000</td>\n",
              "      <td>114000</td>\n",
              "      <td>109500</td>\n",
              "      <td>112000</td>\n",
              "    </tr>\n",
              "    <tr>\n",
              "      <th>2019-05-29</th>\n",
              "      <td>109000</td>\n",
              "      <td>111000</td>\n",
              "      <td>108500</td>\n",
              "      <td>109500</td>\n",
              "    </tr>\n",
              "  </tbody>\n",
              "</table>\n",
              "</div>"
            ],
            "text/plain": [
              "                시가      고가      저가      종가\n",
              "2019-06-05  112000  112500  109500  110500\n",
              "2019-06-04  114000  114500  110500  111000\n",
              "2019-06-03  113000  115000  112000  115000\n",
              "2019-05-31  111500  112500  110000  111500\n",
              "2019-05-30  111000  114000  109500  112000\n",
              "2019-05-29  109000  111000  108500  109500"
            ]
          },
          "metadata": {
            "tags": []
          },
          "execution_count": 20
        }
      ]
    },
    {
      "cell_type": "markdown",
      "metadata": {
        "id": "IgN-TCkkJasq"
      },
      "source": [
        " 또한, append 메소드는 **데이터프레임 객체**를 넘겨줄 수도 있다. 두 개의 데이터프레임을 합치는 것이다."
      ]
    },
    {
      "cell_type": "code",
      "metadata": {
        "colab": {
          "base_uri": "https://localhost:8080/",
          "height": 235
        },
        "id": "VmKNkRN-JioL",
        "outputId": "b3be194e-6a2d-4222-92f3-78de3a13071c"
      },
      "source": [
        "df = DataFrame(data=data, index=index, columns=columns)\n",
        "ohlc = [ [109000, 111000, 108500, 109500] ]         # 2차원 리스트로 표현해야 한다.\n",
        "row_df = DataFrame(data=ohlc, index=['2019-05-29'], columns=columns)\n",
        "new_df = df.append(row_df)\n",
        "new_df"
      ],
      "execution_count": null,
      "outputs": [
        {
          "output_type": "execute_result",
          "data": {
            "text/html": [
              "<div>\n",
              "<style scoped>\n",
              "    .dataframe tbody tr th:only-of-type {\n",
              "        vertical-align: middle;\n",
              "    }\n",
              "\n",
              "    .dataframe tbody tr th {\n",
              "        vertical-align: top;\n",
              "    }\n",
              "\n",
              "    .dataframe thead th {\n",
              "        text-align: right;\n",
              "    }\n",
              "</style>\n",
              "<table border=\"1\" class=\"dataframe\">\n",
              "  <thead>\n",
              "    <tr style=\"text-align: right;\">\n",
              "      <th></th>\n",
              "      <th>시가</th>\n",
              "      <th>고가</th>\n",
              "      <th>저가</th>\n",
              "      <th>종가</th>\n",
              "    </tr>\n",
              "  </thead>\n",
              "  <tbody>\n",
              "    <tr>\n",
              "      <th>2019-06-05</th>\n",
              "      <td>112000</td>\n",
              "      <td>112500</td>\n",
              "      <td>109500</td>\n",
              "      <td>110500</td>\n",
              "    </tr>\n",
              "    <tr>\n",
              "      <th>2019-06-04</th>\n",
              "      <td>114000</td>\n",
              "      <td>114500</td>\n",
              "      <td>110500</td>\n",
              "      <td>111000</td>\n",
              "    </tr>\n",
              "    <tr>\n",
              "      <th>2019-06-03</th>\n",
              "      <td>113000</td>\n",
              "      <td>115000</td>\n",
              "      <td>112000</td>\n",
              "      <td>115000</td>\n",
              "    </tr>\n",
              "    <tr>\n",
              "      <th>2019-05-31</th>\n",
              "      <td>111500</td>\n",
              "      <td>112500</td>\n",
              "      <td>110000</td>\n",
              "      <td>111500</td>\n",
              "    </tr>\n",
              "    <tr>\n",
              "      <th>2019-05-30</th>\n",
              "      <td>111000</td>\n",
              "      <td>114000</td>\n",
              "      <td>109500</td>\n",
              "      <td>112000</td>\n",
              "    </tr>\n",
              "    <tr>\n",
              "      <th>2019-05-29</th>\n",
              "      <td>109000</td>\n",
              "      <td>111000</td>\n",
              "      <td>108500</td>\n",
              "      <td>109500</td>\n",
              "    </tr>\n",
              "  </tbody>\n",
              "</table>\n",
              "</div>"
            ],
            "text/plain": [
              "                시가      고가      저가      종가\n",
              "2019-06-05  112000  112500  109500  110500\n",
              "2019-06-04  114000  114500  110500  111000\n",
              "2019-06-03  113000  115000  112000  115000\n",
              "2019-05-31  111500  112500  110000  111500\n",
              "2019-05-30  111000  114000  109500  112000\n",
              "2019-05-29  109000  111000  108500  109500"
            ]
          },
          "metadata": {
            "tags": []
          },
          "execution_count": 22
        }
      ]
    },
    {
      "cell_type": "markdown",
      "metadata": {
        "id": "V4ALPNF0J8GA"
      },
      "source": [
        "데이터프레임은 2차원이기 때문에 2차원 리스트로 표현하는 것이 중요하다. 그렇지 않으면 기존의 데이터프레임에 추가할 수 없다. row가 아무리 한 줄이라도 이차원 리스트로 데이터를 표현해야 한다."
      ]
    },
    {
      "cell_type": "markdown",
      "metadata": {
        "id": "20mqi8iwKL7R"
      },
      "source": [
        "## 1.9. columns/rows 삭제하기"
      ]
    },
    {
      "cell_type": "markdown",
      "metadata": {
        "id": "rlHcrpo1Koeg"
      },
      "source": [
        "우리는 ```drop()``` 메소드를 사용하여 특정 columns이나 rows를 삭제할 수 있다."
      ]
    },
    {
      "cell_type": "code",
      "metadata": {
        "colab": {
          "base_uri": "https://localhost:8080/",
          "height": 204
        },
        "id": "K_9iZZDBKykT",
        "outputId": "bd46f2a6-a3c5-4f25-86d3-a68e8b7ededb"
      },
      "source": [
        "from pandas import Series, DataFrame\n",
        "\n",
        "data = [\n",
        "    [112000, 112500, 109500, 110500],\n",
        "    [114000, 114500, 110500, 111000],\n",
        "    [113000, 115000, 112000, 115000],\n",
        "    [111500, 112500, 110000, 111500],\n",
        "    [111000, 114000, 109500, 112000],\n",
        "]\n",
        "\n",
        "columns = ['시가', '고가', '저가', '종가']\n",
        "index = ['2019-06-05', '2019-06-04', '2019-06-03', '2019-05-31', '2019-05-30']\n",
        "\n",
        "df = DataFrame(data=data, index=index, columns=columns)\n",
        "\n",
        "df2 = df.drop('시가', axis=1)\n",
        "df2"
      ],
      "execution_count": null,
      "outputs": [
        {
          "output_type": "execute_result",
          "data": {
            "text/html": [
              "<div>\n",
              "<style scoped>\n",
              "    .dataframe tbody tr th:only-of-type {\n",
              "        vertical-align: middle;\n",
              "    }\n",
              "\n",
              "    .dataframe tbody tr th {\n",
              "        vertical-align: top;\n",
              "    }\n",
              "\n",
              "    .dataframe thead th {\n",
              "        text-align: right;\n",
              "    }\n",
              "</style>\n",
              "<table border=\"1\" class=\"dataframe\">\n",
              "  <thead>\n",
              "    <tr style=\"text-align: right;\">\n",
              "      <th></th>\n",
              "      <th>고가</th>\n",
              "      <th>저가</th>\n",
              "      <th>종가</th>\n",
              "    </tr>\n",
              "  </thead>\n",
              "  <tbody>\n",
              "    <tr>\n",
              "      <th>2019-06-05</th>\n",
              "      <td>112500</td>\n",
              "      <td>109500</td>\n",
              "      <td>110500</td>\n",
              "    </tr>\n",
              "    <tr>\n",
              "      <th>2019-06-04</th>\n",
              "      <td>114500</td>\n",
              "      <td>110500</td>\n",
              "      <td>111000</td>\n",
              "    </tr>\n",
              "    <tr>\n",
              "      <th>2019-06-03</th>\n",
              "      <td>115000</td>\n",
              "      <td>112000</td>\n",
              "      <td>115000</td>\n",
              "    </tr>\n",
              "    <tr>\n",
              "      <th>2019-05-31</th>\n",
              "      <td>112500</td>\n",
              "      <td>110000</td>\n",
              "      <td>111500</td>\n",
              "    </tr>\n",
              "    <tr>\n",
              "      <th>2019-05-30</th>\n",
              "      <td>114000</td>\n",
              "      <td>109500</td>\n",
              "      <td>112000</td>\n",
              "    </tr>\n",
              "  </tbody>\n",
              "</table>\n",
              "</div>"
            ],
            "text/plain": [
              "                고가      저가      종가\n",
              "2019-06-05  112500  109500  110500\n",
              "2019-06-04  114500  110500  111000\n",
              "2019-06-03  115000  112000  115000\n",
              "2019-05-31  112500  110000  111500\n",
              "2019-05-30  114000  109500  112000"
            ]
          },
          "metadata": {
            "tags": []
          },
          "execution_count": 24
        }
      ]
    },
    {
      "cell_type": "code",
      "metadata": {
        "colab": {
          "base_uri": "https://localhost:8080/",
          "height": 204
        },
        "id": "pBZI_pOsLTn3",
        "outputId": "5ce787b9-c3c8-46ed-ea4b-9889e159fee9"
      },
      "source": [
        "df"
      ],
      "execution_count": null,
      "outputs": [
        {
          "output_type": "execute_result",
          "data": {
            "text/html": [
              "<div>\n",
              "<style scoped>\n",
              "    .dataframe tbody tr th:only-of-type {\n",
              "        vertical-align: middle;\n",
              "    }\n",
              "\n",
              "    .dataframe tbody tr th {\n",
              "        vertical-align: top;\n",
              "    }\n",
              "\n",
              "    .dataframe thead th {\n",
              "        text-align: right;\n",
              "    }\n",
              "</style>\n",
              "<table border=\"1\" class=\"dataframe\">\n",
              "  <thead>\n",
              "    <tr style=\"text-align: right;\">\n",
              "      <th></th>\n",
              "      <th>시가</th>\n",
              "      <th>고가</th>\n",
              "      <th>저가</th>\n",
              "      <th>종가</th>\n",
              "    </tr>\n",
              "  </thead>\n",
              "  <tbody>\n",
              "    <tr>\n",
              "      <th>2019-06-05</th>\n",
              "      <td>112000</td>\n",
              "      <td>112500</td>\n",
              "      <td>109500</td>\n",
              "      <td>110500</td>\n",
              "    </tr>\n",
              "    <tr>\n",
              "      <th>2019-06-04</th>\n",
              "      <td>114000</td>\n",
              "      <td>114500</td>\n",
              "      <td>110500</td>\n",
              "      <td>111000</td>\n",
              "    </tr>\n",
              "    <tr>\n",
              "      <th>2019-06-03</th>\n",
              "      <td>113000</td>\n",
              "      <td>115000</td>\n",
              "      <td>112000</td>\n",
              "      <td>115000</td>\n",
              "    </tr>\n",
              "    <tr>\n",
              "      <th>2019-05-31</th>\n",
              "      <td>111500</td>\n",
              "      <td>112500</td>\n",
              "      <td>110000</td>\n",
              "      <td>111500</td>\n",
              "    </tr>\n",
              "    <tr>\n",
              "      <th>2019-05-30</th>\n",
              "      <td>111000</td>\n",
              "      <td>114000</td>\n",
              "      <td>109500</td>\n",
              "      <td>112000</td>\n",
              "    </tr>\n",
              "  </tbody>\n",
              "</table>\n",
              "</div>"
            ],
            "text/plain": [
              "                시가      고가      저가      종가\n",
              "2019-06-05  112000  112500  109500  110500\n",
              "2019-06-04  114000  114500  110500  111000\n",
              "2019-06-03  113000  115000  112000  115000\n",
              "2019-05-31  111500  112500  110000  111500\n",
              "2019-05-30  111000  114000  109500  112000"
            ]
          },
          "metadata": {
            "tags": []
          },
          "execution_count": 25
        }
      ]
    },
    {
      "cell_type": "markdown",
      "metadata": {
        "id": "VcVRGHKJLVJ5"
      },
      "source": [
        "'시가' column이 사라진 것을 확인할 수 있다. 여기서 axis=1은 칼럼의 레이블, axis=0은 인덱스를 의미한다.     \n",
        "\n",
        "데이터프레임의 drop 메소드는 원본 데이터프레임을 변경하는 것이 아니라 특정 칼럼이나 로우가 제거된 데이터프레임을 새로 반환한다.     \n",
        "\n",
        "데이터프레임에서 특정 row를 삭제하기 위해서는 drop 메소드에 삭제할 row의 index와 axis=0으로 넘겨주면 된다."
      ]
    },
    {
      "cell_type": "code",
      "metadata": {
        "colab": {
          "base_uri": "https://localhost:8080/",
          "height": 173
        },
        "id": "2_Efz-kXMWne",
        "outputId": "96a8146e-6205-47b4-aa19-e96c712d66c6"
      },
      "source": [
        "df = DataFrame(data=data, index=index, columns=columns)\n",
        "\n",
        "df2 = df.drop('2019-05-30', axis=0)\n",
        "df2"
      ],
      "execution_count": null,
      "outputs": [
        {
          "output_type": "execute_result",
          "data": {
            "text/html": [
              "<div>\n",
              "<style scoped>\n",
              "    .dataframe tbody tr th:only-of-type {\n",
              "        vertical-align: middle;\n",
              "    }\n",
              "\n",
              "    .dataframe tbody tr th {\n",
              "        vertical-align: top;\n",
              "    }\n",
              "\n",
              "    .dataframe thead th {\n",
              "        text-align: right;\n",
              "    }\n",
              "</style>\n",
              "<table border=\"1\" class=\"dataframe\">\n",
              "  <thead>\n",
              "    <tr style=\"text-align: right;\">\n",
              "      <th></th>\n",
              "      <th>시가</th>\n",
              "      <th>고가</th>\n",
              "      <th>저가</th>\n",
              "      <th>종가</th>\n",
              "    </tr>\n",
              "  </thead>\n",
              "  <tbody>\n",
              "    <tr>\n",
              "      <th>2019-06-05</th>\n",
              "      <td>112000</td>\n",
              "      <td>112500</td>\n",
              "      <td>109500</td>\n",
              "      <td>110500</td>\n",
              "    </tr>\n",
              "    <tr>\n",
              "      <th>2019-06-04</th>\n",
              "      <td>114000</td>\n",
              "      <td>114500</td>\n",
              "      <td>110500</td>\n",
              "      <td>111000</td>\n",
              "    </tr>\n",
              "    <tr>\n",
              "      <th>2019-06-03</th>\n",
              "      <td>113000</td>\n",
              "      <td>115000</td>\n",
              "      <td>112000</td>\n",
              "      <td>115000</td>\n",
              "    </tr>\n",
              "    <tr>\n",
              "      <th>2019-05-31</th>\n",
              "      <td>111500</td>\n",
              "      <td>112500</td>\n",
              "      <td>110000</td>\n",
              "      <td>111500</td>\n",
              "    </tr>\n",
              "  </tbody>\n",
              "</table>\n",
              "</div>"
            ],
            "text/plain": [
              "                시가      고가      저가      종가\n",
              "2019-06-05  112000  112500  109500  110500\n",
              "2019-06-04  114000  114500  110500  111000\n",
              "2019-06-03  113000  115000  112000  115000\n",
              "2019-05-31  111500  112500  110000  111500"
            ]
          },
          "metadata": {
            "tags": []
          },
          "execution_count": 26
        }
      ]
    },
    {
      "cell_type": "markdown",
      "metadata": {
        "id": "BBQPmb_NMg7n"
      },
      "source": [
        "원본 데이터프레임에서 로우나 칼럼을 바로 삭제하고자 한다면 inplace 항목에 True값을 넘겨주면 된다."
      ]
    },
    {
      "cell_type": "code",
      "metadata": {
        "colab": {
          "base_uri": "https://localhost:8080/",
          "height": 173
        },
        "id": "f6nyMN_oMmDp",
        "outputId": "2f6a98b9-a8e2-4e41-8302-acc50547c8cd"
      },
      "source": [
        "df.drop('2019-05-30', axis=0, inplace=True)\n",
        "df"
      ],
      "execution_count": null,
      "outputs": [
        {
          "output_type": "execute_result",
          "data": {
            "text/html": [
              "<div>\n",
              "<style scoped>\n",
              "    .dataframe tbody tr th:only-of-type {\n",
              "        vertical-align: middle;\n",
              "    }\n",
              "\n",
              "    .dataframe tbody tr th {\n",
              "        vertical-align: top;\n",
              "    }\n",
              "\n",
              "    .dataframe thead th {\n",
              "        text-align: right;\n",
              "    }\n",
              "</style>\n",
              "<table border=\"1\" class=\"dataframe\">\n",
              "  <thead>\n",
              "    <tr style=\"text-align: right;\">\n",
              "      <th></th>\n",
              "      <th>시가</th>\n",
              "      <th>고가</th>\n",
              "      <th>저가</th>\n",
              "      <th>종가</th>\n",
              "    </tr>\n",
              "  </thead>\n",
              "  <tbody>\n",
              "    <tr>\n",
              "      <th>2019-06-05</th>\n",
              "      <td>112000</td>\n",
              "      <td>112500</td>\n",
              "      <td>109500</td>\n",
              "      <td>110500</td>\n",
              "    </tr>\n",
              "    <tr>\n",
              "      <th>2019-06-04</th>\n",
              "      <td>114000</td>\n",
              "      <td>114500</td>\n",
              "      <td>110500</td>\n",
              "      <td>111000</td>\n",
              "    </tr>\n",
              "    <tr>\n",
              "      <th>2019-06-03</th>\n",
              "      <td>113000</td>\n",
              "      <td>115000</td>\n",
              "      <td>112000</td>\n",
              "      <td>115000</td>\n",
              "    </tr>\n",
              "    <tr>\n",
              "      <th>2019-05-31</th>\n",
              "      <td>111500</td>\n",
              "      <td>112500</td>\n",
              "      <td>110000</td>\n",
              "      <td>111500</td>\n",
              "    </tr>\n",
              "  </tbody>\n",
              "</table>\n",
              "</div>"
            ],
            "text/plain": [
              "                시가      고가      저가      종가\n",
              "2019-06-05  112000  112500  109500  110500\n",
              "2019-06-04  114000  114500  110500  111000\n",
              "2019-06-03  113000  115000  112000  115000\n",
              "2019-05-31  111500  112500  110000  111500"
            ]
          },
          "metadata": {
            "tags": []
          },
          "execution_count": 27
        }
      ]
    },
    {
      "cell_type": "markdown",
      "metadata": {
        "id": "nN7VqtqTMsqy"
      },
      "source": [
        "한 번에 여러 개의 로우나 칼럼을 삭제하고자 하는 경우 리스트 형태로 인덱스나 칼럼의 레이블을 넘겨주면 된다."
      ]
    },
    {
      "cell_type": "code",
      "metadata": {
        "colab": {
          "base_uri": "https://localhost:8080/",
          "height": 111
        },
        "id": "PcGwDO7iMw7U",
        "outputId": "bd561366-9734-4d5f-ab7b-98855c2f5176"
      },
      "source": [
        "df.drop(['2019-05-31', '2019-06-03'], axis=0, inplace=True)\n",
        "df"
      ],
      "execution_count": null,
      "outputs": [
        {
          "output_type": "execute_result",
          "data": {
            "text/html": [
              "<div>\n",
              "<style scoped>\n",
              "    .dataframe tbody tr th:only-of-type {\n",
              "        vertical-align: middle;\n",
              "    }\n",
              "\n",
              "    .dataframe tbody tr th {\n",
              "        vertical-align: top;\n",
              "    }\n",
              "\n",
              "    .dataframe thead th {\n",
              "        text-align: right;\n",
              "    }\n",
              "</style>\n",
              "<table border=\"1\" class=\"dataframe\">\n",
              "  <thead>\n",
              "    <tr style=\"text-align: right;\">\n",
              "      <th></th>\n",
              "      <th>시가</th>\n",
              "      <th>고가</th>\n",
              "      <th>저가</th>\n",
              "      <th>종가</th>\n",
              "    </tr>\n",
              "  </thead>\n",
              "  <tbody>\n",
              "    <tr>\n",
              "      <th>2019-06-05</th>\n",
              "      <td>112000</td>\n",
              "      <td>112500</td>\n",
              "      <td>109500</td>\n",
              "      <td>110500</td>\n",
              "    </tr>\n",
              "    <tr>\n",
              "      <th>2019-06-04</th>\n",
              "      <td>114000</td>\n",
              "      <td>114500</td>\n",
              "      <td>110500</td>\n",
              "      <td>111000</td>\n",
              "    </tr>\n",
              "  </tbody>\n",
              "</table>\n",
              "</div>"
            ],
            "text/plain": [
              "                시가      고가      저가      종가\n",
              "2019-06-05  112000  112500  109500  110500\n",
              "2019-06-04  114000  114500  110500  111000"
            ]
          },
          "metadata": {
            "tags": []
          },
          "execution_count": 28
        }
      ]
    },
    {
      "cell_type": "markdown",
      "metadata": {
        "id": "Zajh4o3yKWOm"
      },
      "source": [
        "## 1.10. Columns 레이블 변경\n",
        "이미 생성된 데이터프레임에 대햇 칼럼 레이블과 인덱스의 이름을 수정하는 방법이다."
      ]
    },
    {
      "cell_type": "code",
      "metadata": {
        "colab": {
          "base_uri": "https://localhost:8080/"
        },
        "id": "Rv6ercKuONXG",
        "outputId": "16121a7c-d330-4579-fa58-e0791f8e1d6b"
      },
      "source": [
        "data = [\n",
        "    [\"037730\", \"3R\", 1510],\n",
        "    [\"036360\", \"3SOFT\", 1790],\n",
        "    [\"005760\", \"ACTS\", 1185],\n",
        "]\n",
        "\n",
        "columns = [\"종목코드\", \"종목명\", \"현재가\"]\n",
        "df = DataFrame(data=data, columns=columns)\n",
        "df = df.set_index('종목코드')\n",
        "\n",
        "print(df.columns)\n",
        "print(df.index)"
      ],
      "execution_count": null,
      "outputs": [
        {
          "output_type": "stream",
          "text": [
            "Index(['종목명', '현재가'], dtype='object')\n",
            "Index(['037730', '036360', '005760'], dtype='object', name='종목코드')\n"
          ],
          "name": "stdout"
        }
      ]
    },
    {
      "cell_type": "markdown",
      "metadata": {
        "id": "XIfMcfJ_OWDd"
      },
      "source": [
        "먼저 변경할 칼럼의 이름을 리스트로 정의하고 columns 속성에 바인딩한다. 여기서 중요한 점은 **변경하려는 칼럼 이름의 개수와 기존에 정의된 칼럼 이름의 개수가 동일해야 한다.** "
      ]
    },
    {
      "cell_type": "code",
      "metadata": {
        "colab": {
          "base_uri": "https://localhost:8080/",
          "height": 173
        },
        "id": "3DP_Mqg9OhaA",
        "outputId": "2bc79d96-c7e9-4d44-8800-41cc557c397d"
      },
      "source": [
        "df.columns = ['name', 'close']\n",
        "df.index.name = 'code'\n",
        "df"
      ],
      "execution_count": null,
      "outputs": [
        {
          "output_type": "execute_result",
          "data": {
            "text/html": [
              "<div>\n",
              "<style scoped>\n",
              "    .dataframe tbody tr th:only-of-type {\n",
              "        vertical-align: middle;\n",
              "    }\n",
              "\n",
              "    .dataframe tbody tr th {\n",
              "        vertical-align: top;\n",
              "    }\n",
              "\n",
              "    .dataframe thead th {\n",
              "        text-align: right;\n",
              "    }\n",
              "</style>\n",
              "<table border=\"1\" class=\"dataframe\">\n",
              "  <thead>\n",
              "    <tr style=\"text-align: right;\">\n",
              "      <th></th>\n",
              "      <th>name</th>\n",
              "      <th>close</th>\n",
              "    </tr>\n",
              "    <tr>\n",
              "      <th>code</th>\n",
              "      <th></th>\n",
              "      <th></th>\n",
              "    </tr>\n",
              "  </thead>\n",
              "  <tbody>\n",
              "    <tr>\n",
              "      <th>037730</th>\n",
              "      <td>3R</td>\n",
              "      <td>1510</td>\n",
              "    </tr>\n",
              "    <tr>\n",
              "      <th>036360</th>\n",
              "      <td>3SOFT</td>\n",
              "      <td>1790</td>\n",
              "    </tr>\n",
              "    <tr>\n",
              "      <th>005760</th>\n",
              "      <td>ACTS</td>\n",
              "      <td>1185</td>\n",
              "    </tr>\n",
              "  </tbody>\n",
              "</table>\n",
              "</div>"
            ],
            "text/plain": [
              "         name  close\n",
              "code                \n",
              "037730     3R   1510\n",
              "036360  3SOFT   1790\n",
              "005760   ACTS   1185"
            ]
          },
          "metadata": {
            "tags": []
          },
          "execution_count": 30
        }
      ]
    },
    {
      "cell_type": "markdown",
      "metadata": {
        "id": "25vBiC1TOqSc"
      },
      "source": [
        "제대로 변경된 것을 확인할 수 있다. 여기서 헷갈릴 수 있는 점은 '코드명'dmf ```df.index.name = 'code'```로 따로 정의했다는 점이다."
      ]
    },
    {
      "cell_type": "markdown",
      "metadata": {
        "id": "fOvUuYzeKZ1R"
      },
      "source": [
        "## 1.11. 데이터 타입 변경\n",
        "데이터프레임의 정의도니 데이터 타입을 변경할수 있다. 여기에는 여러가지 메소드가 사용된다.\n",
        "* ```apply()```\n",
        "* ```remove_comma()```\n",
        "* ```replace()```\n",
        "* ```astype()```    "
      ]
    },
    {
      "cell_type": "code",
      "metadata": {
        "colab": {
          "base_uri": "https://localhost:8080/",
          "height": 142
        },
        "id": "K0Pppcx8PJdN",
        "outputId": "82f605b4-d169-4310-9824-02a36b1a6655"
      },
      "source": [
        "from pandas import DataFrame\n",
        "import numpy as np\n",
        "\n",
        "data = [\n",
        "    [\"037730\", \"3R\", '1,510'],\n",
        "    [\"036360\", \"3SOFT\", '1,790'],\n",
        "    [\"005760\", \"ACTS\", '1,185'],\n",
        "]\n",
        "\n",
        "columns = [\"종목코드\", \"종목명\", \"현재가\"]\n",
        "df = DataFrame(data=data, columns=columns)\n",
        "df"
      ],
      "execution_count": null,
      "outputs": [
        {
          "output_type": "execute_result",
          "data": {
            "text/html": [
              "<div>\n",
              "<style scoped>\n",
              "    .dataframe tbody tr th:only-of-type {\n",
              "        vertical-align: middle;\n",
              "    }\n",
              "\n",
              "    .dataframe tbody tr th {\n",
              "        vertical-align: top;\n",
              "    }\n",
              "\n",
              "    .dataframe thead th {\n",
              "        text-align: right;\n",
              "    }\n",
              "</style>\n",
              "<table border=\"1\" class=\"dataframe\">\n",
              "  <thead>\n",
              "    <tr style=\"text-align: right;\">\n",
              "      <th></th>\n",
              "      <th>종목코드</th>\n",
              "      <th>종목명</th>\n",
              "      <th>현재가</th>\n",
              "    </tr>\n",
              "  </thead>\n",
              "  <tbody>\n",
              "    <tr>\n",
              "      <th>0</th>\n",
              "      <td>037730</td>\n",
              "      <td>3R</td>\n",
              "      <td>1,510</td>\n",
              "    </tr>\n",
              "    <tr>\n",
              "      <th>1</th>\n",
              "      <td>036360</td>\n",
              "      <td>3SOFT</td>\n",
              "      <td>1,790</td>\n",
              "    </tr>\n",
              "    <tr>\n",
              "      <th>2</th>\n",
              "      <td>005760</td>\n",
              "      <td>ACTS</td>\n",
              "      <td>1,185</td>\n",
              "    </tr>\n",
              "  </tbody>\n",
              "</table>\n",
              "</div>"
            ],
            "text/plain": [
              "     종목코드    종목명    현재가\n",
              "0  037730     3R  1,510\n",
              "1  036360  3SOFT  1,790\n",
              "2  005760   ACTS  1,185"
            ]
          },
          "metadata": {
            "tags": []
          },
          "execution_count": 31
        }
      ]
    },
    {
      "cell_type": "markdown",
      "metadata": {
        "id": "CbIkwALBPqJx"
      },
      "source": [
        "여기서 '현재가'는 문자열로 정의되어 있다. 이 문자열을 정수로 바꾸려면 먼저 콤마부터 제거해야한다. 여기서 ```remove_comma()```와 ```apply()```를 사용한다. apply()는 로우 또는 칼럼에 함수를 적용시켜주는 메소드다."
      ]
    },
    {
      "cell_type": "code",
      "metadata": {
        "colab": {
          "base_uri": "https://localhost:8080/",
          "height": 214
        },
        "id": "vT7_zXGxPzv-",
        "outputId": "1fcb52ac-6d63-4896-e6ea-e582525bb5a5"
      },
      "source": [
        "def remove_comma(x):\n",
        "    return x.replace(',', '')\n",
        "\n",
        "df['현재가'] = df['현재가'].apply(remove_comma)\n",
        "print(df.dtypes)\n",
        "df"
      ],
      "execution_count": null,
      "outputs": [
        {
          "output_type": "stream",
          "text": [
            "종목코드    object\n",
            "종목명     object\n",
            "현재가     object\n",
            "dtype: object\n"
          ],
          "name": "stdout"
        },
        {
          "output_type": "execute_result",
          "data": {
            "text/html": [
              "<div>\n",
              "<style scoped>\n",
              "    .dataframe tbody tr th:only-of-type {\n",
              "        vertical-align: middle;\n",
              "    }\n",
              "\n",
              "    .dataframe tbody tr th {\n",
              "        vertical-align: top;\n",
              "    }\n",
              "\n",
              "    .dataframe thead th {\n",
              "        text-align: right;\n",
              "    }\n",
              "</style>\n",
              "<table border=\"1\" class=\"dataframe\">\n",
              "  <thead>\n",
              "    <tr style=\"text-align: right;\">\n",
              "      <th></th>\n",
              "      <th>종목코드</th>\n",
              "      <th>종목명</th>\n",
              "      <th>현재가</th>\n",
              "    </tr>\n",
              "  </thead>\n",
              "  <tbody>\n",
              "    <tr>\n",
              "      <th>0</th>\n",
              "      <td>037730</td>\n",
              "      <td>3R</td>\n",
              "      <td>1510</td>\n",
              "    </tr>\n",
              "    <tr>\n",
              "      <th>1</th>\n",
              "      <td>036360</td>\n",
              "      <td>3SOFT</td>\n",
              "      <td>1790</td>\n",
              "    </tr>\n",
              "    <tr>\n",
              "      <th>2</th>\n",
              "      <td>005760</td>\n",
              "      <td>ACTS</td>\n",
              "      <td>1185</td>\n",
              "    </tr>\n",
              "  </tbody>\n",
              "</table>\n",
              "</div>"
            ],
            "text/plain": [
              "     종목코드    종목명   현재가\n",
              "0  037730     3R  1510\n",
              "1  036360  3SOFT  1790\n",
              "2  005760   ACTS  1185"
            ]
          },
          "metadata": {
            "tags": []
          },
          "execution_count": 32
        }
      ]
    },
    {
      "cell_type": "markdown",
      "metadata": {
        "id": "n-M3tElrQU9-"
      },
      "source": [
        "데이터의 타입은 object다. 하지만 콤마가 제거된 것을 확인할 수 있다.여기서 object는 파이썬에서 문자열 타입과 같다. 즉, 종목코드, 종목명, 현재가가 모두 문자열로 되어있다는 것을 의미한다.    \n",
        "\n",
        "이제 본격적으로 데이터타입으르 변경한다. ```astype()``` 메소드를 사용한다. 이 메소드는 변경하고자 하는 칼럼의 이름과 데이터 타입을 딕셔너리의 키와 값 형태로 표현하면 된다."
      ]
    },
    {
      "cell_type": "code",
      "metadata": {
        "colab": {
          "base_uri": "https://localhost:8080/",
          "height": 214
        },
        "id": "AhxO8FLDQrZB",
        "outputId": "6ce0b0b3-6f5e-420f-f2f8-969fd9e65a8e"
      },
      "source": [
        "df = df.astype({ '현재가': np.int64 })\n",
        "print(df.dtypes)\n",
        "df"
      ],
      "execution_count": null,
      "outputs": [
        {
          "output_type": "stream",
          "text": [
            "종목코드    object\n",
            "종목명     object\n",
            "현재가      int64\n",
            "dtype: object\n"
          ],
          "name": "stdout"
        },
        {
          "output_type": "execute_result",
          "data": {
            "text/html": [
              "<div>\n",
              "<style scoped>\n",
              "    .dataframe tbody tr th:only-of-type {\n",
              "        vertical-align: middle;\n",
              "    }\n",
              "\n",
              "    .dataframe tbody tr th {\n",
              "        vertical-align: top;\n",
              "    }\n",
              "\n",
              "    .dataframe thead th {\n",
              "        text-align: right;\n",
              "    }\n",
              "</style>\n",
              "<table border=\"1\" class=\"dataframe\">\n",
              "  <thead>\n",
              "    <tr style=\"text-align: right;\">\n",
              "      <th></th>\n",
              "      <th>종목코드</th>\n",
              "      <th>종목명</th>\n",
              "      <th>현재가</th>\n",
              "    </tr>\n",
              "  </thead>\n",
              "  <tbody>\n",
              "    <tr>\n",
              "      <th>0</th>\n",
              "      <td>037730</td>\n",
              "      <td>3R</td>\n",
              "      <td>1510</td>\n",
              "    </tr>\n",
              "    <tr>\n",
              "      <th>1</th>\n",
              "      <td>036360</td>\n",
              "      <td>3SOFT</td>\n",
              "      <td>1790</td>\n",
              "    </tr>\n",
              "    <tr>\n",
              "      <th>2</th>\n",
              "      <td>005760</td>\n",
              "      <td>ACTS</td>\n",
              "      <td>1185</td>\n",
              "    </tr>\n",
              "  </tbody>\n",
              "</table>\n",
              "</div>"
            ],
            "text/plain": [
              "     종목코드    종목명   현재가\n",
              "0  037730     3R  1510\n",
              "1  036360  3SOFT  1790\n",
              "2  005760   ACTS  1185"
            ]
          },
          "metadata": {
            "tags": []
          },
          "execution_count": 33
        }
      ]
    },
    {
      "cell_type": "markdown",
      "metadata": {
        "id": "px1WIAESQ16h"
      },
      "source": [
        "여기서 '현재가'칼럼의 데이터가 정수로 변경된 것을 확인할 수 있다."
      ]
    },
    {
      "cell_type": "markdown",
      "metadata": {
        "id": "4tmMdtszKcxp"
      },
      "source": [
        "## 1.12. 정렬 및 순위\n",
        "이제 데이터프레임에 대해서 정렬 및 순위를 매겨보자. 기본적으로 Series 객체와 동일하다.    \n",
        "\n",
        "### 1.12.1. 정렬\n",
        "데이터프레임 객체는 여러 개의 칼럼으로 구성되기 때문에 ```sort_values(by='칼럼 이름')``` 형태로 메소드를 사용한다."
      ]
    },
    {
      "cell_type": "code",
      "metadata": {
        "colab": {
          "base_uri": "https://localhost:8080/",
          "height": 173
        },
        "id": "Pav3AcVTRM3S",
        "outputId": "bc137af7-6b85-420a-b3cc-d193fa13556e"
      },
      "source": [
        "data = [\n",
        "    [\"037730\", \"3R\", 1510],\n",
        "    [\"036360\", \"3SOFT\", 1790],\n",
        "    [\"005760\", \"ACTS\", 1185],\n",
        "]\n",
        "\n",
        "columns = [\"종목코드\", \"종목명\", \"현재가\"]\n",
        "df = DataFrame(data=data, columns=columns)\n",
        "df = df.set_index('종목코드')\n",
        "\n",
        "# 현재가를 기준으로 정렬 \n",
        "df2 = df.sort_values(by='현재가')\n",
        "df2"
      ],
      "execution_count": null,
      "outputs": [
        {
          "output_type": "execute_result",
          "data": {
            "text/html": [
              "<div>\n",
              "<style scoped>\n",
              "    .dataframe tbody tr th:only-of-type {\n",
              "        vertical-align: middle;\n",
              "    }\n",
              "\n",
              "    .dataframe tbody tr th {\n",
              "        vertical-align: top;\n",
              "    }\n",
              "\n",
              "    .dataframe thead th {\n",
              "        text-align: right;\n",
              "    }\n",
              "</style>\n",
              "<table border=\"1\" class=\"dataframe\">\n",
              "  <thead>\n",
              "    <tr style=\"text-align: right;\">\n",
              "      <th></th>\n",
              "      <th>종목명</th>\n",
              "      <th>현재가</th>\n",
              "    </tr>\n",
              "    <tr>\n",
              "      <th>종목코드</th>\n",
              "      <th></th>\n",
              "      <th></th>\n",
              "    </tr>\n",
              "  </thead>\n",
              "  <tbody>\n",
              "    <tr>\n",
              "      <th>005760</th>\n",
              "      <td>ACTS</td>\n",
              "      <td>1185</td>\n",
              "    </tr>\n",
              "    <tr>\n",
              "      <th>037730</th>\n",
              "      <td>3R</td>\n",
              "      <td>1510</td>\n",
              "    </tr>\n",
              "    <tr>\n",
              "      <th>036360</th>\n",
              "      <td>3SOFT</td>\n",
              "      <td>1790</td>\n",
              "    </tr>\n",
              "  </tbody>\n",
              "</table>\n",
              "</div>"
            ],
            "text/plain": [
              "          종목명   현재가\n",
              "종목코드               \n",
              "005760   ACTS  1185\n",
              "037730     3R  1510\n",
              "036360  3SOFT  1790"
            ]
          },
          "metadata": {
            "tags": []
          },
          "execution_count": 34
        }
      ]
    },
    {
      "cell_type": "markdown",
      "metadata": {
        "id": "dBvkSjudRXdn"
      },
      "source": [
        "만약 내림차순으로 정렬하려면 아래 코드와 같이 해준다."
      ]
    },
    {
      "cell_type": "code",
      "metadata": {
        "colab": {
          "base_uri": "https://localhost:8080/",
          "height": 173
        },
        "id": "pekExS46Ra3b",
        "outputId": "70459233-f566-4a9c-9bde-a3e2038b6ade"
      },
      "source": [
        "df2 = df.sort_values(by='현재가', ascending=False)\n",
        "df2"
      ],
      "execution_count": null,
      "outputs": [
        {
          "output_type": "execute_result",
          "data": {
            "text/html": [
              "<div>\n",
              "<style scoped>\n",
              "    .dataframe tbody tr th:only-of-type {\n",
              "        vertical-align: middle;\n",
              "    }\n",
              "\n",
              "    .dataframe tbody tr th {\n",
              "        vertical-align: top;\n",
              "    }\n",
              "\n",
              "    .dataframe thead th {\n",
              "        text-align: right;\n",
              "    }\n",
              "</style>\n",
              "<table border=\"1\" class=\"dataframe\">\n",
              "  <thead>\n",
              "    <tr style=\"text-align: right;\">\n",
              "      <th></th>\n",
              "      <th>종목명</th>\n",
              "      <th>현재가</th>\n",
              "    </tr>\n",
              "    <tr>\n",
              "      <th>종목코드</th>\n",
              "      <th></th>\n",
              "      <th></th>\n",
              "    </tr>\n",
              "  </thead>\n",
              "  <tbody>\n",
              "    <tr>\n",
              "      <th>036360</th>\n",
              "      <td>3SOFT</td>\n",
              "      <td>1790</td>\n",
              "    </tr>\n",
              "    <tr>\n",
              "      <th>037730</th>\n",
              "      <td>3R</td>\n",
              "      <td>1510</td>\n",
              "    </tr>\n",
              "    <tr>\n",
              "      <th>005760</th>\n",
              "      <td>ACTS</td>\n",
              "      <td>1185</td>\n",
              "    </tr>\n",
              "  </tbody>\n",
              "</table>\n",
              "</div>"
            ],
            "text/plain": [
              "          종목명   현재가\n",
              "종목코드               \n",
              "036360  3SOFT  1790\n",
              "037730     3R  1510\n",
              "005760   ACTS  1185"
            ]
          },
          "metadata": {
            "tags": []
          },
          "execution_count": 35
        }
      ]
    },
    {
      "cell_type": "markdown",
      "metadata": {
        "id": "3fku0cDvRmDZ"
      },
      "source": [
        "### 1.12.2. 순위\n",
        "현재가가 낮은 종목부터 순위를 매겨본다. 데이터프레임에서 칼럼을 선택한 뒤, ```rank()```를 호출하면 된다."
      ]
    },
    {
      "cell_type": "code",
      "metadata": {
        "colab": {
          "base_uri": "https://localhost:8080/",
          "height": 173
        },
        "id": "7G8ArmrgRvoW",
        "outputId": "7db7cbfc-1d99-4ed5-fc79-48eec759d1bf"
      },
      "source": [
        "df['순위'] = df['현재가'].rank()\n",
        "df"
      ],
      "execution_count": null,
      "outputs": [
        {
          "output_type": "execute_result",
          "data": {
            "text/html": [
              "<div>\n",
              "<style scoped>\n",
              "    .dataframe tbody tr th:only-of-type {\n",
              "        vertical-align: middle;\n",
              "    }\n",
              "\n",
              "    .dataframe tbody tr th {\n",
              "        vertical-align: top;\n",
              "    }\n",
              "\n",
              "    .dataframe thead th {\n",
              "        text-align: right;\n",
              "    }\n",
              "</style>\n",
              "<table border=\"1\" class=\"dataframe\">\n",
              "  <thead>\n",
              "    <tr style=\"text-align: right;\">\n",
              "      <th></th>\n",
              "      <th>종목명</th>\n",
              "      <th>현재가</th>\n",
              "      <th>순위</th>\n",
              "    </tr>\n",
              "    <tr>\n",
              "      <th>종목코드</th>\n",
              "      <th></th>\n",
              "      <th></th>\n",
              "      <th></th>\n",
              "    </tr>\n",
              "  </thead>\n",
              "  <tbody>\n",
              "    <tr>\n",
              "      <th>037730</th>\n",
              "      <td>3R</td>\n",
              "      <td>1510</td>\n",
              "      <td>2.0</td>\n",
              "    </tr>\n",
              "    <tr>\n",
              "      <th>036360</th>\n",
              "      <td>3SOFT</td>\n",
              "      <td>1790</td>\n",
              "      <td>3.0</td>\n",
              "    </tr>\n",
              "    <tr>\n",
              "      <th>005760</th>\n",
              "      <td>ACTS</td>\n",
              "      <td>1185</td>\n",
              "      <td>1.0</td>\n",
              "    </tr>\n",
              "  </tbody>\n",
              "</table>\n",
              "</div>"
            ],
            "text/plain": [
              "          종목명   현재가   순위\n",
              "종목코드                    \n",
              "037730     3R  1510  2.0\n",
              "036360  3SOFT  1790  3.0\n",
              "005760   ACTS  1185  1.0"
            ]
          },
          "metadata": {
            "tags": []
          },
          "execution_count": 36
        }
      ]
    },
    {
      "cell_type": "markdown",
      "metadata": {
        "id": "8Bw0JZ_QR2po"
      },
      "source": [
        "이제는 순위를 기준으로 정렬해보자."
      ]
    },
    {
      "cell_type": "code",
      "metadata": {
        "colab": {
          "base_uri": "https://localhost:8080/",
          "height": 173
        },
        "id": "Or0hwDv_R4dZ",
        "outputId": "f347ba9b-6a9e-46e5-f81c-1b2e44d2419b"
      },
      "source": [
        "df.sort_values(by='순위')"
      ],
      "execution_count": null,
      "outputs": [
        {
          "output_type": "execute_result",
          "data": {
            "text/html": [
              "<div>\n",
              "<style scoped>\n",
              "    .dataframe tbody tr th:only-of-type {\n",
              "        vertical-align: middle;\n",
              "    }\n",
              "\n",
              "    .dataframe tbody tr th {\n",
              "        vertical-align: top;\n",
              "    }\n",
              "\n",
              "    .dataframe thead th {\n",
              "        text-align: right;\n",
              "    }\n",
              "</style>\n",
              "<table border=\"1\" class=\"dataframe\">\n",
              "  <thead>\n",
              "    <tr style=\"text-align: right;\">\n",
              "      <th></th>\n",
              "      <th>종목명</th>\n",
              "      <th>현재가</th>\n",
              "      <th>순위</th>\n",
              "    </tr>\n",
              "    <tr>\n",
              "      <th>종목코드</th>\n",
              "      <th></th>\n",
              "      <th></th>\n",
              "      <th></th>\n",
              "    </tr>\n",
              "  </thead>\n",
              "  <tbody>\n",
              "    <tr>\n",
              "      <th>005760</th>\n",
              "      <td>ACTS</td>\n",
              "      <td>1185</td>\n",
              "      <td>1.0</td>\n",
              "    </tr>\n",
              "    <tr>\n",
              "      <th>037730</th>\n",
              "      <td>3R</td>\n",
              "      <td>1510</td>\n",
              "      <td>2.0</td>\n",
              "    </tr>\n",
              "    <tr>\n",
              "      <th>036360</th>\n",
              "      <td>3SOFT</td>\n",
              "      <td>1790</td>\n",
              "      <td>3.0</td>\n",
              "    </tr>\n",
              "  </tbody>\n",
              "</table>\n",
              "</div>"
            ],
            "text/plain": [
              "          종목명   현재가   순위\n",
              "종목코드                    \n",
              "005760   ACTS  1185  1.0\n",
              "037730     3R  1510  2.0\n",
              "036360  3SOFT  1790  3.0"
            ]
          },
          "metadata": {
            "tags": []
          },
          "execution_count": 37
        }
      ]
    },
    {
      "cell_type": "markdown",
      "metadata": {
        "id": "MrNVTwy3Ke56"
      },
      "source": [
        "## 1.13. 위/아래로 붙이기\n",
        "두 개의 데이터프레임의 칼럼이 같을 때, 위 아래로 붙여서 새로운 데이터프레임을 생성할 수 있다. ```append()```를 사용하면 손쉽게 이어붙일 수 있다."
      ]
    },
    {
      "cell_type": "code",
      "metadata": {
        "colab": {
          "base_uri": "https://localhost:8080/",
          "height": 173
        },
        "id": "RMY_ulfxSC9F",
        "outputId": "1513d17b-1225-4106-b9a0-3d21b2782a38"
      },
      "source": [
        "data = {\n",
        "    '종가': [113000, 111500],\n",
        "    '거래량': [555850, 282163]\n",
        "}\n",
        "index = ['2019-06-21', '2019-06-20']\n",
        "df1 = DataFrame(data=data, index=index)\n",
        "\n",
        "data = {\n",
        "    '종가': [110000, 109000],\n",
        "    '거래량': [483689, 791746]\n",
        "}\n",
        "index = ['2019-06-19', '2019-06-18']\n",
        "df2 = DataFrame(data=data, index=index)\n",
        "\n",
        "df = df1.append(df2)\n",
        "df"
      ],
      "execution_count": null,
      "outputs": [
        {
          "output_type": "execute_result",
          "data": {
            "text/html": [
              "<div>\n",
              "<style scoped>\n",
              "    .dataframe tbody tr th:only-of-type {\n",
              "        vertical-align: middle;\n",
              "    }\n",
              "\n",
              "    .dataframe tbody tr th {\n",
              "        vertical-align: top;\n",
              "    }\n",
              "\n",
              "    .dataframe thead th {\n",
              "        text-align: right;\n",
              "    }\n",
              "</style>\n",
              "<table border=\"1\" class=\"dataframe\">\n",
              "  <thead>\n",
              "    <tr style=\"text-align: right;\">\n",
              "      <th></th>\n",
              "      <th>종가</th>\n",
              "      <th>거래량</th>\n",
              "    </tr>\n",
              "  </thead>\n",
              "  <tbody>\n",
              "    <tr>\n",
              "      <th>2019-06-21</th>\n",
              "      <td>113000</td>\n",
              "      <td>555850</td>\n",
              "    </tr>\n",
              "    <tr>\n",
              "      <th>2019-06-20</th>\n",
              "      <td>111500</td>\n",
              "      <td>282163</td>\n",
              "    </tr>\n",
              "    <tr>\n",
              "      <th>2019-06-19</th>\n",
              "      <td>110000</td>\n",
              "      <td>483689</td>\n",
              "    </tr>\n",
              "    <tr>\n",
              "      <th>2019-06-18</th>\n",
              "      <td>109000</td>\n",
              "      <td>791746</td>\n",
              "    </tr>\n",
              "  </tbody>\n",
              "</table>\n",
              "</div>"
            ],
            "text/plain": [
              "                종가     거래량\n",
              "2019-06-21  113000  555850\n",
              "2019-06-20  111500  282163\n",
              "2019-06-19  110000  483689\n",
              "2019-06-18  109000  791746"
            ]
          },
          "metadata": {
            "tags": []
          },
          "execution_count": 38
        }
      ]
    },
    {
      "cell_type": "markdown",
      "metadata": {
        "id": "hdQdJMoySpRm"
      },
      "source": [
        "```append()```는 데이터프레임의 끝에 파라미터로 전달된 데이터프레임을 추가하는 것이다. 또한 원본 데이터를 수정하는 것이 아닌 새로운 데이터프레임을 반환한다.    \n",
        "\n",
        "판다스 모듈에는 ```concat()```메소드가 정의되어 있다. 여러 개의 데이터프레임을 리스트로 전달하면, 모든 데이터프레임을 연결해서 그 결과를 데이터프레임으로 반환한다."
      ]
    },
    {
      "cell_type": "code",
      "metadata": {
        "colab": {
          "base_uri": "https://localhost:8080/",
          "height": 173
        },
        "id": "2IJq7enLS93D",
        "outputId": "d672ac9e-caea-4578-f5b7-b1b0215dfbc8"
      },
      "source": [
        "import pandas as pd\n",
        "\n",
        "df = pd.concat([df1, df2])\n",
        "df"
      ],
      "execution_count": null,
      "outputs": [
        {
          "output_type": "execute_result",
          "data": {
            "text/html": [
              "<div>\n",
              "<style scoped>\n",
              "    .dataframe tbody tr th:only-of-type {\n",
              "        vertical-align: middle;\n",
              "    }\n",
              "\n",
              "    .dataframe tbody tr th {\n",
              "        vertical-align: top;\n",
              "    }\n",
              "\n",
              "    .dataframe thead th {\n",
              "        text-align: right;\n",
              "    }\n",
              "</style>\n",
              "<table border=\"1\" class=\"dataframe\">\n",
              "  <thead>\n",
              "    <tr style=\"text-align: right;\">\n",
              "      <th></th>\n",
              "      <th>종가</th>\n",
              "      <th>거래량</th>\n",
              "    </tr>\n",
              "  </thead>\n",
              "  <tbody>\n",
              "    <tr>\n",
              "      <th>2019-06-21</th>\n",
              "      <td>113000</td>\n",
              "      <td>555850</td>\n",
              "    </tr>\n",
              "    <tr>\n",
              "      <th>2019-06-20</th>\n",
              "      <td>111500</td>\n",
              "      <td>282163</td>\n",
              "    </tr>\n",
              "    <tr>\n",
              "      <th>2019-06-19</th>\n",
              "      <td>110000</td>\n",
              "      <td>483689</td>\n",
              "    </tr>\n",
              "    <tr>\n",
              "      <th>2019-06-18</th>\n",
              "      <td>109000</td>\n",
              "      <td>791746</td>\n",
              "    </tr>\n",
              "  </tbody>\n",
              "</table>\n",
              "</div>"
            ],
            "text/plain": [
              "                종가     거래량\n",
              "2019-06-21  113000  555850\n",
              "2019-06-20  111500  282163\n",
              "2019-06-19  110000  483689\n",
              "2019-06-18  109000  791746"
            ]
          },
          "metadata": {
            "tags": []
          },
          "execution_count": 40
        }
      ]
    },
    {
      "cell_type": "markdown",
      "metadata": {
        "id": "_Bp8AOYgKhX3"
      },
      "source": [
        "## 1.14. 옆으로 붙이기\n",
        "데이터프레임을 좌우로 붙일 수 있다. 보통 인덱스는 동일한데 칼럼의 데이터가 분리되어 있을 경우 이를 붙여서 하나의 데이터프레임으로 만들어 사용한다.     \n",
        "\n",
        "여기서 ```concat()```을 사용한다. 이 메소드는 보통 데이터프레임 객체를 위아래로 연결하지만, axis=1을 전달하면 좌우로 연결해준다. 이 때 데이터프레임은 같은 인덱스를 갖고 있어야한다."
      ]
    },
    {
      "cell_type": "code",
      "metadata": {
        "colab": {
          "base_uri": "https://localhost:8080/",
          "height": 111
        },
        "id": "EReBj-y2Tzpw",
        "outputId": "fb0e77cc-aff9-4af6-a7d2-ccc6d309a724"
      },
      "source": [
        "data = {\n",
        "    '종가': [113000, 111500],\n",
        "    '거래량': [555850, 282163]\n",
        "}\n",
        "index = ['2019-06-21', '2019-06-20']\n",
        "df1 = DataFrame(data=data, index=index)\n",
        "\n",
        "data = {\n",
        "    '시가': [112500, 110000],\n",
        "    '고가': [115000, 112000],\n",
        "    '저가': [111500, 109000]\n",
        "}\n",
        "index = ['2019-06-21', '2019-06-20']\n",
        "df2 = DataFrame(data=data, index=index)\n",
        "\n",
        "df = pd.concat([df1, df2], axis=1)\n",
        "df"
      ],
      "execution_count": null,
      "outputs": [
        {
          "output_type": "execute_result",
          "data": {
            "text/html": [
              "<div>\n",
              "<style scoped>\n",
              "    .dataframe tbody tr th:only-of-type {\n",
              "        vertical-align: middle;\n",
              "    }\n",
              "\n",
              "    .dataframe tbody tr th {\n",
              "        vertical-align: top;\n",
              "    }\n",
              "\n",
              "    .dataframe thead th {\n",
              "        text-align: right;\n",
              "    }\n",
              "</style>\n",
              "<table border=\"1\" class=\"dataframe\">\n",
              "  <thead>\n",
              "    <tr style=\"text-align: right;\">\n",
              "      <th></th>\n",
              "      <th>종가</th>\n",
              "      <th>거래량</th>\n",
              "      <th>시가</th>\n",
              "      <th>고가</th>\n",
              "      <th>저가</th>\n",
              "    </tr>\n",
              "  </thead>\n",
              "  <tbody>\n",
              "    <tr>\n",
              "      <th>2019-06-21</th>\n",
              "      <td>113000</td>\n",
              "      <td>555850</td>\n",
              "      <td>112500</td>\n",
              "      <td>115000</td>\n",
              "      <td>111500</td>\n",
              "    </tr>\n",
              "    <tr>\n",
              "      <th>2019-06-20</th>\n",
              "      <td>111500</td>\n",
              "      <td>282163</td>\n",
              "      <td>110000</td>\n",
              "      <td>112000</td>\n",
              "      <td>109000</td>\n",
              "    </tr>\n",
              "  </tbody>\n",
              "</table>\n",
              "</div>"
            ],
            "text/plain": [
              "                종가     거래량      시가      고가      저가\n",
              "2019-06-21  113000  555850  112500  115000  111500\n",
              "2019-06-20  111500  282163  110000  112000  109000"
            ]
          },
          "metadata": {
            "tags": []
          },
          "execution_count": 41
        }
      ]
    },
    {
      "cell_type": "markdown",
      "metadata": {
        "id": "F9BoYXo9USB5"
      },
      "source": [
        "하지만 칼럼의 순서가 적절치 않다. 우리는 시가, 고가, 저가, 종가, 거래량 순으로 만들고 싶다."
      ]
    },
    {
      "cell_type": "code",
      "metadata": {
        "colab": {
          "base_uri": "https://localhost:8080/",
          "height": 111
        },
        "id": "Dy1FwRNGUZmX",
        "outputId": "6eddfa38-3bc7-432d-a3ad-3311a537f8d7"
      },
      "source": [
        "순서 = ['시가', '고가', '저가', '종가', '거래량']\n",
        "df = df[순서]\n",
        "df"
      ],
      "execution_count": null,
      "outputs": [
        {
          "output_type": "execute_result",
          "data": {
            "text/html": [
              "<div>\n",
              "<style scoped>\n",
              "    .dataframe tbody tr th:only-of-type {\n",
              "        vertical-align: middle;\n",
              "    }\n",
              "\n",
              "    .dataframe tbody tr th {\n",
              "        vertical-align: top;\n",
              "    }\n",
              "\n",
              "    .dataframe thead th {\n",
              "        text-align: right;\n",
              "    }\n",
              "</style>\n",
              "<table border=\"1\" class=\"dataframe\">\n",
              "  <thead>\n",
              "    <tr style=\"text-align: right;\">\n",
              "      <th></th>\n",
              "      <th>시가</th>\n",
              "      <th>고가</th>\n",
              "      <th>저가</th>\n",
              "      <th>종가</th>\n",
              "      <th>거래량</th>\n",
              "    </tr>\n",
              "  </thead>\n",
              "  <tbody>\n",
              "    <tr>\n",
              "      <th>2019-06-21</th>\n",
              "      <td>112500</td>\n",
              "      <td>115000</td>\n",
              "      <td>111500</td>\n",
              "      <td>113000</td>\n",
              "      <td>555850</td>\n",
              "    </tr>\n",
              "    <tr>\n",
              "      <th>2019-06-20</th>\n",
              "      <td>110000</td>\n",
              "      <td>112000</td>\n",
              "      <td>109000</td>\n",
              "      <td>111500</td>\n",
              "      <td>282163</td>\n",
              "    </tr>\n",
              "  </tbody>\n",
              "</table>\n",
              "</div>"
            ],
            "text/plain": [
              "                시가      고가      저가      종가     거래량\n",
              "2019-06-21  112500  115000  111500  113000  555850\n",
              "2019-06-20  110000  112000  109000  111500  282163"
            ]
          },
          "metadata": {
            "tags": []
          },
          "execution_count": 42
        }
      ]
    },
    {
      "cell_type": "markdown",
      "metadata": {
        "id": "RYwY1lQQUflJ"
      },
      "source": [
        "이렇게 리스트를 이용하여 다시 df에 대입해주는 것만으로 손쉽게 칼럼의 순서를 변경할 수 있다."
      ]
    },
    {
      "cell_type": "markdown",
      "metadata": {
        "id": "_Freh8-UKjAC"
      },
      "source": [
        "## 1.15. DataFrame과 엑셀\n"
      ]
    },
    {
      "cell_type": "code",
      "metadata": {
        "id": "bFFDI9RWUr86"
      },
      "source": [
        "# 엑셀을 데이터프레임으로 불러오기\n",
        "df = pd.read_excel('data.xlsx')\n",
        "\n",
        "# 데이터프레임을 엑셀로 저장\n",
        "df = DataFrame(data=data, index=index, columns=columns)\n",
        "df.to_excel(\"data.xlsx\", sheet_name='035420')   # 시트 이름은 035420\n",
        "\n",
        "# 인덱스를 생략한 채로 저장하려면\n",
        "df.to_excel(\"data.xlsx\", sheet_name='035420', index=False)"
      ],
      "execution_count": null,
      "outputs": []
    },
    {
      "cell_type": "markdown",
      "metadata": {
        "id": "EKrrGBZyVKJT"
      },
      "source": [
        "***\n",
        "\n",
        "# 2. 시계열 데이터 다루기\n",
        "## 2.1. Datetime\n"
      ]
    },
    {
      "cell_type": "code",
      "metadata": {
        "colab": {
          "base_uri": "https://localhost:8080/",
          "height": 204
        },
        "id": "OiHBkbsEMqje",
        "outputId": "123d7984-3e23-4bee-c288-f2fa3d46d184"
      },
      "source": [
        "from pandas import DataFrame\n",
        "\n",
        "data = [\n",
        "    [9450, 9490, 9160, 9220, 145794],\n",
        "    [9380, 9570, 9330, 9490, 57571],\n",
        "    [9220, 9400, 9100, 9380, 131427],\n",
        "    [9200, 9250, 9030, 9230, 66893],\n",
        "    [9350, 9600, 9070, 9200, 138861]\n",
        "]\n",
        "\n",
        "columns = [\"시가\", \"고가\", \"저가\", \"종가\", \"거래량\"]\n",
        "index = [\"2019-06-07\", \"2019-06-05\", \"2019-06-04\", \"2019-06-03\", \"2019-05-31\"]\n",
        "df = DataFrame(data=data, index=index, columns=columns)\n",
        "df"
      ],
      "execution_count": 2,
      "outputs": [
        {
          "output_type": "execute_result",
          "data": {
            "text/html": [
              "<div>\n",
              "<style scoped>\n",
              "    .dataframe tbody tr th:only-of-type {\n",
              "        vertical-align: middle;\n",
              "    }\n",
              "\n",
              "    .dataframe tbody tr th {\n",
              "        vertical-align: top;\n",
              "    }\n",
              "\n",
              "    .dataframe thead th {\n",
              "        text-align: right;\n",
              "    }\n",
              "</style>\n",
              "<table border=\"1\" class=\"dataframe\">\n",
              "  <thead>\n",
              "    <tr style=\"text-align: right;\">\n",
              "      <th></th>\n",
              "      <th>시가</th>\n",
              "      <th>고가</th>\n",
              "      <th>저가</th>\n",
              "      <th>종가</th>\n",
              "      <th>거래량</th>\n",
              "    </tr>\n",
              "  </thead>\n",
              "  <tbody>\n",
              "    <tr>\n",
              "      <th>2019-06-07</th>\n",
              "      <td>9450</td>\n",
              "      <td>9490</td>\n",
              "      <td>9160</td>\n",
              "      <td>9220</td>\n",
              "      <td>145794</td>\n",
              "    </tr>\n",
              "    <tr>\n",
              "      <th>2019-06-05</th>\n",
              "      <td>9380</td>\n",
              "      <td>9570</td>\n",
              "      <td>9330</td>\n",
              "      <td>9490</td>\n",
              "      <td>57571</td>\n",
              "    </tr>\n",
              "    <tr>\n",
              "      <th>2019-06-04</th>\n",
              "      <td>9220</td>\n",
              "      <td>9400</td>\n",
              "      <td>9100</td>\n",
              "      <td>9380</td>\n",
              "      <td>131427</td>\n",
              "    </tr>\n",
              "    <tr>\n",
              "      <th>2019-06-03</th>\n",
              "      <td>9200</td>\n",
              "      <td>9250</td>\n",
              "      <td>9030</td>\n",
              "      <td>9230</td>\n",
              "      <td>66893</td>\n",
              "    </tr>\n",
              "    <tr>\n",
              "      <th>2019-05-31</th>\n",
              "      <td>9350</td>\n",
              "      <td>9600</td>\n",
              "      <td>9070</td>\n",
              "      <td>9200</td>\n",
              "      <td>138861</td>\n",
              "    </tr>\n",
              "  </tbody>\n",
              "</table>\n",
              "</div>"
            ],
            "text/plain": [
              "              시가    고가    저가    종가     거래량\n",
              "2019-06-07  9450  9490  9160  9220  145794\n",
              "2019-06-05  9380  9570  9330  9490   57571\n",
              "2019-06-04  9220  9400  9100  9380  131427\n",
              "2019-06-03  9200  9250  9030  9230   66893\n",
              "2019-05-31  9350  9600  9070  9200  138861"
            ]
          },
          "metadata": {
            "tags": []
          },
          "execution_count": 2
        }
      ]
    },
    {
      "cell_type": "code",
      "metadata": {
        "colab": {
          "base_uri": "https://localhost:8080/"
        },
        "id": "0K3r2vYYM7Hr",
        "outputId": "862a5990-3cec-4136-a173-6452ab126bd6"
      },
      "source": [
        "df.index"
      ],
      "execution_count": 3,
      "outputs": [
        {
          "output_type": "execute_result",
          "data": {
            "text/plain": [
              "Index(['2019-06-07', '2019-06-05', '2019-06-04', '2019-06-03', '2019-05-31'], dtype='object')"
            ]
          },
          "metadata": {
            "tags": []
          },
          "execution_count": 3
        }
      ]
    },
    {
      "cell_type": "markdown",
      "metadata": {
        "id": "cf8kQe-TNwl6"
      },
      "source": [
        "이렇게 날짜가 문자열로 표현되어 있을 때는 두 값의 시간 차이를 계산하기 어렵다. 따라서 시간을 다루는 데이터 타입으로 변환해야한다. 그럴 때는 ```to_datetime()```메소드를 사용한다."
      ]
    },
    {
      "cell_type": "code",
      "metadata": {
        "colab": {
          "base_uri": "https://localhost:8080/"
        },
        "id": "Cy_TsyBPTZpc",
        "outputId": "de1d8d90-d07c-4396-a08d-0213cbe67e46"
      },
      "source": [
        "import pandas as pd\n",
        "\n",
        "dates = [\"2019-06-07\", \"2019-06-05\", \"2019-06-04\", \"2019-06-03\", \"2019-05-31\"]\n",
        "index = pd.to_datetime(dates)\n",
        "index"
      ],
      "execution_count": 5,
      "outputs": [
        {
          "output_type": "execute_result",
          "data": {
            "text/plain": [
              "DatetimeIndex(['2019-06-07', '2019-06-05', '2019-06-04', '2019-06-03',\n",
              "               '2019-05-31'],\n",
              "              dtype='datetime64[ns]', freq=None)"
            ]
          },
          "metadata": {
            "tags": []
          },
          "execution_count": 5
        }
      ]
    },
    {
      "cell_type": "markdown",
      "metadata": {
        "id": "e36AuQxfTlDv"
      },
      "source": [
        "확인해보면 데이터 타입이 datetime64[ns]로 된 것을 확인할 수 있다.    \n",
        "\n",
        "여기서 중요한 점은 날짜의 구분자가 '-'가 아닐 경우 제대로된 데이터로 변환되지 않는다."
      ]
    },
    {
      "cell_type": "code",
      "metadata": {
        "colab": {
          "base_uri": "https://localhost:8080/"
        },
        "id": "dVy5koUjT1T8",
        "outputId": "40651f53-0cec-4135-b47a-ab926941c5d9"
      },
      "source": [
        "dates = [\"19/06/07\", \"19/06/05\", \"19/06/04\", \"19/06/03\", \"19/05/31\"]\n",
        "index = pd.to_datetime(dates)\n",
        "index"
      ],
      "execution_count": 6,
      "outputs": [
        {
          "output_type": "execute_result",
          "data": {
            "text/plain": [
              "DatetimeIndex(['2007-06-19', '2005-06-19', '2004-06-19', '2003-06-19',\n",
              "               '2031-05-19'],\n",
              "              dtype='datetime64[ns]', freq=None)"
            ]
          },
          "metadata": {
            "tags": []
          },
          "execution_count": 6
        }
      ]
    },
    {
      "cell_type": "markdown",
      "metadata": {
        "id": "UjXlFrgzT59V"
      },
      "source": [
        "위 결과를 살펴보면 데이터 타입은 datatime64[ns]가 되었지만 데이터가 잘못된 값으로 변경된 것을 확인할 수 있다. 이 문제를 해결하려면 format인자를 사용하여 변경해주면 된다."
      ]
    },
    {
      "cell_type": "code",
      "metadata": {
        "colab": {
          "base_uri": "https://localhost:8080/"
        },
        "id": "6TGVl_45UHR_",
        "outputId": "1cf85d1d-5175-4223-edff-973365ea5836"
      },
      "source": [
        "dates = [\"19/06/07\", \"19/06/05\", \"19/06/04\", \"19/06/03\", \"19/05/31\"]\n",
        "index = pd.to_datetime(dates, format='%y/%m/%d')\n",
        "index"
      ],
      "execution_count": 7,
      "outputs": [
        {
          "output_type": "execute_result",
          "data": {
            "text/plain": [
              "DatetimeIndex(['2019-06-07', '2019-06-05', '2019-06-04', '2019-06-03',\n",
              "               '2019-05-31'],\n",
              "              dtype='datetime64[ns]', freq=None)"
            ]
          },
          "metadata": {
            "tags": []
          },
          "execution_count": 7
        }
      ]
    },
    {
      "cell_type": "markdown",
      "metadata": {
        "id": "56akX2JJUPoD"
      },
      "source": [
        "format을 사용해주면 데이터 값이 제대로 변경된 것을 확인할 수 있다."
      ]
    },
    {
      "cell_type": "code",
      "metadata": {
        "colab": {
          "base_uri": "https://localhost:8080/"
        },
        "id": "wYKFxUodUbAL",
        "outputId": "2ae8fba3-97d6-49be-8225-568a6bae9133"
      },
      "source": [
        "data = [\n",
        "    [9450, 9490, 9160, 9220, 145794],\n",
        "    [9380, 9570, 9330, 9490, 57571],\n",
        "    [9220, 9400, 9100, 9380, 131427],\n",
        "    [9200, 9250, 9030, 9230, 66893],\n",
        "    [9350, 9600, 9070, 9200, 138861]\n",
        "]\n",
        "\n",
        "columns = [\"시가\", \"고가\", \"저가\", \"종가\", \"거래량\"]\n",
        "index = [\"2019-06-07\", \"2019-06-05\", \"2019-06-04\", \"2019-06-03\", \"2019-05-31\"]\n",
        "df = DataFrame(data=data, index=pd.to_datetime(index), columns=columns)\n",
        "print(df.index)"
      ],
      "execution_count": 8,
      "outputs": [
        {
          "output_type": "stream",
          "text": [
            "DatetimeIndex(['2019-06-07', '2019-06-05', '2019-06-04', '2019-06-03',\n",
            "               '2019-05-31'],\n",
            "              dtype='datetime64[ns]', freq=None)\n"
          ],
          "name": "stdout"
        }
      ]
    },
    {
      "cell_type": "markdown",
      "metadata": {
        "id": "J3m2LF_NUhIr"
      },
      "source": [
        "위 결과를 살펴보면 인덱스가 **Datetimeindex**로 변경된 것을 확인할 수 있다. 이렇게 변경해주었을 때의 장점은, df['2019-06']으로만 입력해주면 2019년 6월 데이터만 추출해준다. 문자열일 때는 해당 인덱스가 존재하지 않기 때문에 에러를 발생시킨다. 따라서 시계열 데이터를 다룰 때는 항상 인덱스를 문자열이 아니라 DatetimeIndex로 저장해야한다!"
      ]
    },
    {
      "cell_type": "markdown",
      "metadata": {
        "id": "uMgt8XZbU1O5"
      },
      "source": [
        "## 2.2. pykrx 모듈\n",
        "```pykrx``` 모듈을 사용하여 주식 종목에 대한 실제 일봉 데이터를 다룰 수 있다. 이 모듈은 한국 거래소에서 유가 증권 데이터를 스크래핑 후 데이터 프레임으로 값을 반환한다.     \n",
        "\n",
        "먼저 ```pip install pykrx```를 통해 해당 모듈을 다운로드한다."
      ]
    },
    {
      "cell_type": "code",
      "metadata": {
        "colab": {
          "base_uri": "https://localhost:8080/"
        },
        "id": "E0IlmMcHVvlT",
        "outputId": "51eb6d68-fcfb-47d8-e1b9-ec55fb5db4d4"
      },
      "source": [
        "!pip install pykrx"
      ],
      "execution_count": 11,
      "outputs": [
        {
          "output_type": "stream",
          "text": [
            "Collecting pykrx\n",
            "  Downloading pykrx-1.0.18-py3-none-any.whl (81 kB)\n",
            "\u001b[K     |████████████████████████████████| 81 kB 5.8 MB/s \n",
            "\u001b[?25hRequirement already satisfied: numpy in /usr/local/lib/python3.7/dist-packages (from pykrx) (1.19.5)\n",
            "Requirement already satisfied: requests in /usr/local/lib/python3.7/dist-packages (from pykrx) (2.23.0)\n",
            "Requirement already satisfied: xlrd in /usr/local/lib/python3.7/dist-packages (from pykrx) (1.1.0)\n",
            "Collecting datetime\n",
            "  Downloading DateTime-4.3-py2.py3-none-any.whl (60 kB)\n",
            "\u001b[K     |████████████████████████████████| 60 kB 5.5 MB/s \n",
            "\u001b[?25hRequirement already satisfied: pandas in /usr/local/lib/python3.7/dist-packages (from pykrx) (1.1.5)\n",
            "Collecting deprecated\n",
            "  Downloading Deprecated-1.2.12-py2.py3-none-any.whl (9.5 kB)\n",
            "Requirement already satisfied: pytz in /usr/local/lib/python3.7/dist-packages (from datetime->pykrx) (2018.9)\n",
            "Collecting zope.interface\n",
            "  Downloading zope.interface-5.4.0-cp37-cp37m-manylinux2010_x86_64.whl (251 kB)\n",
            "\u001b[K     |████████████████████████████████| 251 kB 23.1 MB/s \n",
            "\u001b[?25hRequirement already satisfied: wrapt<2,>=1.10 in /usr/local/lib/python3.7/dist-packages (from deprecated->pykrx) (1.12.1)\n",
            "Requirement already satisfied: python-dateutil>=2.7.3 in /usr/local/lib/python3.7/dist-packages (from pandas->pykrx) (2.8.1)\n",
            "Requirement already satisfied: six>=1.5 in /usr/local/lib/python3.7/dist-packages (from python-dateutil>=2.7.3->pandas->pykrx) (1.15.0)\n",
            "Requirement already satisfied: certifi>=2017.4.17 in /usr/local/lib/python3.7/dist-packages (from requests->pykrx) (2021.5.30)\n",
            "Requirement already satisfied: urllib3!=1.25.0,!=1.25.1,<1.26,>=1.21.1 in /usr/local/lib/python3.7/dist-packages (from requests->pykrx) (1.24.3)\n",
            "Requirement already satisfied: chardet<4,>=3.0.2 in /usr/local/lib/python3.7/dist-packages (from requests->pykrx) (3.0.4)\n",
            "Requirement already satisfied: idna<3,>=2.5 in /usr/local/lib/python3.7/dist-packages (from requests->pykrx) (2.10)\n",
            "Requirement already satisfied: setuptools in /usr/local/lib/python3.7/dist-packages (from zope.interface->datetime->pykrx) (57.2.0)\n",
            "Installing collected packages: zope.interface, deprecated, datetime, pykrx\n",
            "Successfully installed datetime-4.3 deprecated-1.2.12 pykrx-1.0.18 zope.interface-5.4.0\n"
          ],
          "name": "stdout"
        }
      ]
    },
    {
      "cell_type": "code",
      "metadata": {
        "id": "fpU0fPBUVLdH"
      },
      "source": [
        "from pykrx import stock\n",
        "\n",
        "df = stock.get_market_ohlcv_by_date('20190501', '20190531', '005930')"
      ],
      "execution_count": 12,
      "outputs": []
    },
    {
      "cell_type": "code",
      "metadata": {
        "colab": {
          "base_uri": "https://localhost:8080/",
          "height": 235
        },
        "id": "uRhqkms9V4gK",
        "outputId": "b8941cf8-8d46-452a-931a-fcc92bb61df1"
      },
      "source": [
        "df.head()"
      ],
      "execution_count": 13,
      "outputs": [
        {
          "output_type": "execute_result",
          "data": {
            "text/html": [
              "<div>\n",
              "<style scoped>\n",
              "    .dataframe tbody tr th:only-of-type {\n",
              "        vertical-align: middle;\n",
              "    }\n",
              "\n",
              "    .dataframe tbody tr th {\n",
              "        vertical-align: top;\n",
              "    }\n",
              "\n",
              "    .dataframe thead th {\n",
              "        text-align: right;\n",
              "    }\n",
              "</style>\n",
              "<table border=\"1\" class=\"dataframe\">\n",
              "  <thead>\n",
              "    <tr style=\"text-align: right;\">\n",
              "      <th></th>\n",
              "      <th>시가</th>\n",
              "      <th>고가</th>\n",
              "      <th>저가</th>\n",
              "      <th>종가</th>\n",
              "      <th>거래량</th>\n",
              "    </tr>\n",
              "    <tr>\n",
              "      <th>날짜</th>\n",
              "      <th></th>\n",
              "      <th></th>\n",
              "      <th></th>\n",
              "      <th></th>\n",
              "      <th></th>\n",
              "    </tr>\n",
              "  </thead>\n",
              "  <tbody>\n",
              "    <tr>\n",
              "      <th>2019-05-02</th>\n",
              "      <td>45500</td>\n",
              "      <td>46150</td>\n",
              "      <td>45400</td>\n",
              "      <td>45900</td>\n",
              "      <td>8625126</td>\n",
              "    </tr>\n",
              "    <tr>\n",
              "      <th>2019-05-03</th>\n",
              "      <td>45900</td>\n",
              "      <td>46050</td>\n",
              "      <td>45300</td>\n",
              "      <td>45300</td>\n",
              "      <td>6562916</td>\n",
              "    </tr>\n",
              "    <tr>\n",
              "      <th>2019-05-07</th>\n",
              "      <td>45250</td>\n",
              "      <td>45300</td>\n",
              "      <td>44400</td>\n",
              "      <td>44850</td>\n",
              "      <td>12014907</td>\n",
              "    </tr>\n",
              "    <tr>\n",
              "      <th>2019-05-08</th>\n",
              "      <td>44300</td>\n",
              "      <td>44850</td>\n",
              "      <td>44200</td>\n",
              "      <td>44250</td>\n",
              "      <td>10398754</td>\n",
              "    </tr>\n",
              "    <tr>\n",
              "      <th>2019-05-09</th>\n",
              "      <td>43900</td>\n",
              "      <td>44250</td>\n",
              "      <td>42450</td>\n",
              "      <td>42450</td>\n",
              "      <td>23029718</td>\n",
              "    </tr>\n",
              "  </tbody>\n",
              "</table>\n",
              "</div>"
            ],
            "text/plain": [
              "               시가     고가     저가     종가       거래량\n",
              "날짜                                              \n",
              "2019-05-02  45500  46150  45400  45900   8625126\n",
              "2019-05-03  45900  46050  45300  45300   6562916\n",
              "2019-05-07  45250  45300  44400  44850  12014907\n",
              "2019-05-08  44300  44850  44200  44250  10398754\n",
              "2019-05-09  43900  44250  42450  42450  23029718"
            ]
          },
          "metadata": {
            "tags": []
          },
          "execution_count": 13
        }
      ]
    },
    {
      "cell_type": "markdown",
      "metadata": {
        "id": "Z2fjczs6V6PR"
      },
      "source": [
        "이렇게 처음 5개의 로우가 화면에 출력된 것을 확인할 수 있다."
      ]
    },
    {
      "cell_type": "code",
      "metadata": {
        "colab": {
          "base_uri": "https://localhost:8080/",
          "height": 235
        },
        "id": "SQ8OcfqmWDgx",
        "outputId": "b78127b0-140d-4441-d5f3-9261f38635e8"
      },
      "source": [
        "df = stock.get_market_ohlcv_by_date('20190527', '20190531', '006800')\n",
        "df"
      ],
      "execution_count": 14,
      "outputs": [
        {
          "output_type": "execute_result",
          "data": {
            "text/html": [
              "<div>\n",
              "<style scoped>\n",
              "    .dataframe tbody tr th:only-of-type {\n",
              "        vertical-align: middle;\n",
              "    }\n",
              "\n",
              "    .dataframe tbody tr th {\n",
              "        vertical-align: top;\n",
              "    }\n",
              "\n",
              "    .dataframe thead th {\n",
              "        text-align: right;\n",
              "    }\n",
              "</style>\n",
              "<table border=\"1\" class=\"dataframe\">\n",
              "  <thead>\n",
              "    <tr style=\"text-align: right;\">\n",
              "      <th></th>\n",
              "      <th>시가</th>\n",
              "      <th>고가</th>\n",
              "      <th>저가</th>\n",
              "      <th>종가</th>\n",
              "      <th>거래량</th>\n",
              "    </tr>\n",
              "    <tr>\n",
              "      <th>날짜</th>\n",
              "      <th></th>\n",
              "      <th></th>\n",
              "      <th></th>\n",
              "      <th></th>\n",
              "      <th></th>\n",
              "    </tr>\n",
              "  </thead>\n",
              "  <tbody>\n",
              "    <tr>\n",
              "      <th>2019-05-27</th>\n",
              "      <td>7460</td>\n",
              "      <td>7490</td>\n",
              "      <td>7370</td>\n",
              "      <td>7460</td>\n",
              "      <td>723476</td>\n",
              "    </tr>\n",
              "    <tr>\n",
              "      <th>2019-05-28</th>\n",
              "      <td>7460</td>\n",
              "      <td>7580</td>\n",
              "      <td>7400</td>\n",
              "      <td>7510</td>\n",
              "      <td>2170327</td>\n",
              "    </tr>\n",
              "    <tr>\n",
              "      <th>2019-05-29</th>\n",
              "      <td>7490</td>\n",
              "      <td>7510</td>\n",
              "      <td>7340</td>\n",
              "      <td>7400</td>\n",
              "      <td>1552507</td>\n",
              "    </tr>\n",
              "    <tr>\n",
              "      <th>2019-05-30</th>\n",
              "      <td>7420</td>\n",
              "      <td>7550</td>\n",
              "      <td>7400</td>\n",
              "      <td>7530</td>\n",
              "      <td>1331640</td>\n",
              "    </tr>\n",
              "    <tr>\n",
              "      <th>2019-05-31</th>\n",
              "      <td>7500</td>\n",
              "      <td>7540</td>\n",
              "      <td>7440</td>\n",
              "      <td>7460</td>\n",
              "      <td>1370651</td>\n",
              "    </tr>\n",
              "  </tbody>\n",
              "</table>\n",
              "</div>"
            ],
            "text/plain": [
              "              시가    고가    저가    종가      거래량\n",
              "날짜                                         \n",
              "2019-05-27  7460  7490  7370  7460   723476\n",
              "2019-05-28  7460  7580  7400  7510  2170327\n",
              "2019-05-29  7490  7510  7340  7400  1552507\n",
              "2019-05-30  7420  7550  7400  7530  1331640\n",
              "2019-05-31  7500  7540  7440  7460  1370651"
            ]
          },
          "metadata": {
            "tags": []
          },
          "execution_count": 14
        }
      ]
    },
    {
      "cell_type": "markdown",
      "metadata": {
        "id": "TZmiOLuKWOqZ"
      },
      "source": [
        "위 결과는 미레에셋대우의 5월 27일부터 5월 31일 까지의 OHLCV이다.     \n",
        "이번에는 미래에셋대우의 2019-05-31 종가 데이터를 출력해보자. "
      ]
    },
    {
      "cell_type": "code",
      "metadata": {
        "colab": {
          "base_uri": "https://localhost:8080/"
        },
        "id": "8PQVzxAnWZmr",
        "outputId": "98e61f48-a620-4575-d8c1-cad75bdfc022"
      },
      "source": [
        "df.loc['20190531']['종가']\n",
        "df.iloc[4][3]\n",
        "df.loc['20190531', '종가']\n",
        "df.iloc[4, 3]\n",
        "\n",
        "# 세 값 모두 같은 값이 나온다."
      ],
      "execution_count": 17,
      "outputs": [
        {
          "output_type": "execute_result",
          "data": {
            "text/plain": [
              "7460"
            ]
          },
          "metadata": {
            "tags": []
          },
          "execution_count": 17
        }
      ]
    },
    {
      "cell_type": "markdown",
      "metadata": {
        "id": "71B4t6DeWq9T"
      },
      "source": [
        "이번에는 동일 거래일 동안 시가 대비 종가가 상승 마감한 날을 출력해본다. 불리언 값을 만들어서 사용한다."
      ]
    },
    {
      "cell_type": "code",
      "metadata": {
        "colab": {
          "base_uri": "https://localhost:8080/",
          "height": 142
        },
        "id": "rxdOaMw2Wwni",
        "outputId": "fcf846a0-4df9-4273-b3a1-52428a4ef618"
      },
      "source": [
        "cond = df['종가'] > df['시가']\n",
        "df[cond]"
      ],
      "execution_count": 18,
      "outputs": [
        {
          "output_type": "execute_result",
          "data": {
            "text/html": [
              "<div>\n",
              "<style scoped>\n",
              "    .dataframe tbody tr th:only-of-type {\n",
              "        vertical-align: middle;\n",
              "    }\n",
              "\n",
              "    .dataframe tbody tr th {\n",
              "        vertical-align: top;\n",
              "    }\n",
              "\n",
              "    .dataframe thead th {\n",
              "        text-align: right;\n",
              "    }\n",
              "</style>\n",
              "<table border=\"1\" class=\"dataframe\">\n",
              "  <thead>\n",
              "    <tr style=\"text-align: right;\">\n",
              "      <th></th>\n",
              "      <th>시가</th>\n",
              "      <th>고가</th>\n",
              "      <th>저가</th>\n",
              "      <th>종가</th>\n",
              "      <th>거래량</th>\n",
              "    </tr>\n",
              "    <tr>\n",
              "      <th>날짜</th>\n",
              "      <th></th>\n",
              "      <th></th>\n",
              "      <th></th>\n",
              "      <th></th>\n",
              "      <th></th>\n",
              "    </tr>\n",
              "  </thead>\n",
              "  <tbody>\n",
              "    <tr>\n",
              "      <th>2019-05-28</th>\n",
              "      <td>7460</td>\n",
              "      <td>7580</td>\n",
              "      <td>7400</td>\n",
              "      <td>7510</td>\n",
              "      <td>2170327</td>\n",
              "    </tr>\n",
              "    <tr>\n",
              "      <th>2019-05-30</th>\n",
              "      <td>7420</td>\n",
              "      <td>7550</td>\n",
              "      <td>7400</td>\n",
              "      <td>7530</td>\n",
              "      <td>1331640</td>\n",
              "    </tr>\n",
              "  </tbody>\n",
              "</table>\n",
              "</div>"
            ],
            "text/plain": [
              "              시가    고가    저가    종가      거래량\n",
              "날짜                                         \n",
              "2019-05-28  7460  7580  7400  7510  2170327\n",
              "2019-05-30  7420  7550  7400  7530  1331640"
            ]
          },
          "metadata": {
            "tags": []
          },
          "execution_count": 18
        }
      ]
    },
    {
      "cell_type": "markdown",
      "metadata": {
        "id": "wO0DuJ68W-En"
      },
      "source": [
        "```get_market_ohlcv_by_date()```는 수정 종가를 반영한 가격정보를 반환한다. 만약 수정 종가를 반영하지 않은 데이터를 얻기 위해서는 ```adjusted=False```를 해준다."
      ]
    },
    {
      "cell_type": "code",
      "metadata": {
        "colab": {
          "base_uri": "https://localhost:8080/",
          "height": 235
        },
        "id": "4Nj5mGXFXJt7",
        "outputId": "15d5d35a-87ae-4cc9-dc7f-fda9a2554639"
      },
      "source": [
        "df = stock. get_market_ohlcv_by_date(\"20180101\", \"20190531\", \"005930\", adjusted=False)\n",
        "df.head()"
      ],
      "execution_count": 21,
      "outputs": [
        {
          "output_type": "execute_result",
          "data": {
            "text/html": [
              "<div>\n",
              "<style scoped>\n",
              "    .dataframe tbody tr th:only-of-type {\n",
              "        vertical-align: middle;\n",
              "    }\n",
              "\n",
              "    .dataframe tbody tr th {\n",
              "        vertical-align: top;\n",
              "    }\n",
              "\n",
              "    .dataframe thead th {\n",
              "        text-align: right;\n",
              "    }\n",
              "</style>\n",
              "<table border=\"1\" class=\"dataframe\">\n",
              "  <thead>\n",
              "    <tr style=\"text-align: right;\">\n",
              "      <th></th>\n",
              "      <th>시가</th>\n",
              "      <th>고가</th>\n",
              "      <th>저가</th>\n",
              "      <th>종가</th>\n",
              "      <th>거래량</th>\n",
              "      <th>거래대금</th>\n",
              "      <th>등락률</th>\n",
              "    </tr>\n",
              "    <tr>\n",
              "      <th>날짜</th>\n",
              "      <th></th>\n",
              "      <th></th>\n",
              "      <th></th>\n",
              "      <th></th>\n",
              "      <th></th>\n",
              "      <th></th>\n",
              "      <th></th>\n",
              "    </tr>\n",
              "  </thead>\n",
              "  <tbody>\n",
              "    <tr>\n",
              "      <th>2018-01-02</th>\n",
              "      <td>2569000</td>\n",
              "      <td>2570000</td>\n",
              "      <td>2539000</td>\n",
              "      <td>2551000</td>\n",
              "      <td>169485</td>\n",
              "      <td>432677351468</td>\n",
              "      <td>0.12</td>\n",
              "    </tr>\n",
              "    <tr>\n",
              "      <th>2018-01-03</th>\n",
              "      <td>2627000</td>\n",
              "      <td>2628000</td>\n",
              "      <td>2571000</td>\n",
              "      <td>2581000</td>\n",
              "      <td>200270</td>\n",
              "      <td>518345810160</td>\n",
              "      <td>1.18</td>\n",
              "    </tr>\n",
              "    <tr>\n",
              "      <th>2018-01-04</th>\n",
              "      <td>2606000</td>\n",
              "      <td>2609000</td>\n",
              "      <td>2532000</td>\n",
              "      <td>2554000</td>\n",
              "      <td>233909</td>\n",
              "      <td>600531577700</td>\n",
              "      <td>-1.05</td>\n",
              "    </tr>\n",
              "    <tr>\n",
              "      <th>2018-01-05</th>\n",
              "      <td>2565000</td>\n",
              "      <td>2606000</td>\n",
              "      <td>2560000</td>\n",
              "      <td>2606000</td>\n",
              "      <td>189623</td>\n",
              "      <td>490792925116</td>\n",
              "      <td>2.04</td>\n",
              "    </tr>\n",
              "    <tr>\n",
              "      <th>2018-01-08</th>\n",
              "      <td>2620000</td>\n",
              "      <td>2626000</td>\n",
              "      <td>2575000</td>\n",
              "      <td>2601000</td>\n",
              "      <td>167673</td>\n",
              "      <td>435974098536</td>\n",
              "      <td>-0.19</td>\n",
              "    </tr>\n",
              "  </tbody>\n",
              "</table>\n",
              "</div>"
            ],
            "text/plain": [
              "                 시가       고가       저가       종가     거래량          거래대금   등락률\n",
              "날짜                                                                        \n",
              "2018-01-02  2569000  2570000  2539000  2551000  169485  432677351468  0.12\n",
              "2018-01-03  2627000  2628000  2571000  2581000  200270  518345810160  1.18\n",
              "2018-01-04  2606000  2609000  2532000  2554000  233909  600531577700 -1.05\n",
              "2018-01-05  2565000  2606000  2560000  2606000  189623  490792925116  2.04\n",
              "2018-01-08  2620000  2626000  2575000  2601000  167673  435974098536 -0.19"
            ]
          },
          "metadata": {
            "tags": []
          },
          "execution_count": 21
        }
      ]
    },
    {
      "cell_type": "markdown",
      "metadata": {
        "id": "ybQ3Tv7UXS06"
      },
      "source": [
        "## 2.3. 칼럼 시프트\n",
        "일별 시세 데이터 중 각 거래일의 거래량이 전날 거래량보다 증가한 경우를 찾는 경우를 생각해보자. ```shift()``` 메소드를 사용하면 원하는 수만큼 시프트 시킬 수 있다."
      ]
    },
    {
      "cell_type": "code",
      "metadata": {
        "colab": {
          "base_uri": "https://localhost:8080/",
          "height": 450
        },
        "id": "_NvjfprLXh4e",
        "outputId": "b974dd55-a02e-49a5-e8f2-86d4ea3ce13e"
      },
      "source": [
        "from pykrx import stock\n",
        "\n",
        "df = stock.get_market_ohlcv_by_date('20190101', '20190630', '005930')\n",
        "\n",
        "df['전날거래량'] = df['거래량'].shift(1)\n",
        "df"
      ],
      "execution_count": 26,
      "outputs": [
        {
          "output_type": "execute_result",
          "data": {
            "text/html": [
              "<div>\n",
              "<style scoped>\n",
              "    .dataframe tbody tr th:only-of-type {\n",
              "        vertical-align: middle;\n",
              "    }\n",
              "\n",
              "    .dataframe tbody tr th {\n",
              "        vertical-align: top;\n",
              "    }\n",
              "\n",
              "    .dataframe thead th {\n",
              "        text-align: right;\n",
              "    }\n",
              "</style>\n",
              "<table border=\"1\" class=\"dataframe\">\n",
              "  <thead>\n",
              "    <tr style=\"text-align: right;\">\n",
              "      <th></th>\n",
              "      <th>시가</th>\n",
              "      <th>고가</th>\n",
              "      <th>저가</th>\n",
              "      <th>종가</th>\n",
              "      <th>거래량</th>\n",
              "      <th>전날거래량</th>\n",
              "    </tr>\n",
              "    <tr>\n",
              "      <th>날짜</th>\n",
              "      <th></th>\n",
              "      <th></th>\n",
              "      <th></th>\n",
              "      <th></th>\n",
              "      <th></th>\n",
              "      <th></th>\n",
              "    </tr>\n",
              "  </thead>\n",
              "  <tbody>\n",
              "    <tr>\n",
              "      <th>2019-01-02</th>\n",
              "      <td>39400</td>\n",
              "      <td>39400</td>\n",
              "      <td>38550</td>\n",
              "      <td>38750</td>\n",
              "      <td>7847664</td>\n",
              "      <td>NaN</td>\n",
              "    </tr>\n",
              "    <tr>\n",
              "      <th>2019-01-03</th>\n",
              "      <td>38300</td>\n",
              "      <td>38550</td>\n",
              "      <td>37450</td>\n",
              "      <td>37600</td>\n",
              "      <td>12471493</td>\n",
              "      <td>7847664.0</td>\n",
              "    </tr>\n",
              "    <tr>\n",
              "      <th>2019-01-04</th>\n",
              "      <td>37450</td>\n",
              "      <td>37600</td>\n",
              "      <td>36850</td>\n",
              "      <td>37450</td>\n",
              "      <td>14108958</td>\n",
              "      <td>12471493.0</td>\n",
              "    </tr>\n",
              "    <tr>\n",
              "      <th>2019-01-07</th>\n",
              "      <td>38000</td>\n",
              "      <td>38900</td>\n",
              "      <td>37800</td>\n",
              "      <td>38750</td>\n",
              "      <td>12748997</td>\n",
              "      <td>14108958.0</td>\n",
              "    </tr>\n",
              "    <tr>\n",
              "      <th>2019-01-08</th>\n",
              "      <td>38000</td>\n",
              "      <td>39200</td>\n",
              "      <td>37950</td>\n",
              "      <td>38100</td>\n",
              "      <td>12756554</td>\n",
              "      <td>12748997.0</td>\n",
              "    </tr>\n",
              "    <tr>\n",
              "      <th>...</th>\n",
              "      <td>...</td>\n",
              "      <td>...</td>\n",
              "      <td>...</td>\n",
              "      <td>...</td>\n",
              "      <td>...</td>\n",
              "      <td>...</td>\n",
              "    </tr>\n",
              "    <tr>\n",
              "      <th>2019-06-24</th>\n",
              "      <td>45200</td>\n",
              "      <td>45800</td>\n",
              "      <td>45200</td>\n",
              "      <td>45500</td>\n",
              "      <td>6085066</td>\n",
              "      <td>9454913.0</td>\n",
              "    </tr>\n",
              "    <tr>\n",
              "      <th>2019-06-25</th>\n",
              "      <td>45200</td>\n",
              "      <td>45800</td>\n",
              "      <td>45200</td>\n",
              "      <td>45600</td>\n",
              "      <td>7076774</td>\n",
              "      <td>6085066.0</td>\n",
              "    </tr>\n",
              "    <tr>\n",
              "      <th>2019-06-26</th>\n",
              "      <td>45800</td>\n",
              "      <td>46000</td>\n",
              "      <td>45600</td>\n",
              "      <td>45700</td>\n",
              "      <td>9226097</td>\n",
              "      <td>7076774.0</td>\n",
              "    </tr>\n",
              "    <tr>\n",
              "      <th>2019-06-27</th>\n",
              "      <td>46000</td>\n",
              "      <td>46600</td>\n",
              "      <td>45750</td>\n",
              "      <td>46500</td>\n",
              "      <td>12603534</td>\n",
              "      <td>9226097.0</td>\n",
              "    </tr>\n",
              "    <tr>\n",
              "      <th>2019-06-28</th>\n",
              "      <td>47000</td>\n",
              "      <td>47000</td>\n",
              "      <td>46700</td>\n",
              "      <td>47000</td>\n",
              "      <td>12949231</td>\n",
              "      <td>12603534.0</td>\n",
              "    </tr>\n",
              "  </tbody>\n",
              "</table>\n",
              "<p>121 rows × 6 columns</p>\n",
              "</div>"
            ],
            "text/plain": [
              "               시가     고가     저가     종가       거래량       전날거래량\n",
              "날짜                                                          \n",
              "2019-01-02  39400  39400  38550  38750   7847664         NaN\n",
              "2019-01-03  38300  38550  37450  37600  12471493   7847664.0\n",
              "2019-01-04  37450  37600  36850  37450  14108958  12471493.0\n",
              "2019-01-07  38000  38900  37800  38750  12748997  14108958.0\n",
              "2019-01-08  38000  39200  37950  38100  12756554  12748997.0\n",
              "...           ...    ...    ...    ...       ...         ...\n",
              "2019-06-24  45200  45800  45200  45500   6085066   9454913.0\n",
              "2019-06-25  45200  45800  45200  45600   7076774   6085066.0\n",
              "2019-06-26  45800  46000  45600  45700   9226097   7076774.0\n",
              "2019-06-27  46000  46600  45750  46500  12603534   9226097.0\n",
              "2019-06-28  47000  47000  46700  47000  12949231  12603534.0\n",
              "\n",
              "[121 rows x 6 columns]"
            ]
          },
          "metadata": {
            "tags": []
          },
          "execution_count": 26
        }
      ]
    },
    {
      "cell_type": "markdown",
      "metadata": {
        "id": "dKBvs3jnX3TI"
      },
      "source": [
        "위 코드는 거래량 칼럼의 데이터를 모두 한 로우씩 밑으로 시프트 시킨 후 이를 '전날 거래량'이라는 이름으로 추가하는 코드다. "
      ]
    },
    {
      "cell_type": "code",
      "metadata": {
        "colab": {
          "base_uri": "https://localhost:8080/",
          "height": 1000
        },
        "id": "GGj8NoOYX_D4",
        "outputId": "6d7e81c6-d81b-44a1-9691-8a95e56d2d5c"
      },
      "source": [
        "cond = df['거래량'] > df['전날거래량']\n",
        "df[cond]"
      ],
      "execution_count": 27,
      "outputs": [
        {
          "output_type": "execute_result",
          "data": {
            "text/html": [
              "<div>\n",
              "<style scoped>\n",
              "    .dataframe tbody tr th:only-of-type {\n",
              "        vertical-align: middle;\n",
              "    }\n",
              "\n",
              "    .dataframe tbody tr th {\n",
              "        vertical-align: top;\n",
              "    }\n",
              "\n",
              "    .dataframe thead th {\n",
              "        text-align: right;\n",
              "    }\n",
              "</style>\n",
              "<table border=\"1\" class=\"dataframe\">\n",
              "  <thead>\n",
              "    <tr style=\"text-align: right;\">\n",
              "      <th></th>\n",
              "      <th>시가</th>\n",
              "      <th>고가</th>\n",
              "      <th>저가</th>\n",
              "      <th>종가</th>\n",
              "      <th>거래량</th>\n",
              "      <th>전날거래량</th>\n",
              "    </tr>\n",
              "    <tr>\n",
              "      <th>날짜</th>\n",
              "      <th></th>\n",
              "      <th></th>\n",
              "      <th></th>\n",
              "      <th></th>\n",
              "      <th></th>\n",
              "      <th></th>\n",
              "    </tr>\n",
              "  </thead>\n",
              "  <tbody>\n",
              "    <tr>\n",
              "      <th>2019-01-03</th>\n",
              "      <td>38300</td>\n",
              "      <td>38550</td>\n",
              "      <td>37450</td>\n",
              "      <td>37600</td>\n",
              "      <td>12471493</td>\n",
              "      <td>7847664.0</td>\n",
              "    </tr>\n",
              "    <tr>\n",
              "      <th>2019-01-04</th>\n",
              "      <td>37450</td>\n",
              "      <td>37600</td>\n",
              "      <td>36850</td>\n",
              "      <td>37450</td>\n",
              "      <td>14108958</td>\n",
              "      <td>12471493.0</td>\n",
              "    </tr>\n",
              "    <tr>\n",
              "      <th>2019-01-08</th>\n",
              "      <td>38000</td>\n",
              "      <td>39200</td>\n",
              "      <td>37950</td>\n",
              "      <td>38100</td>\n",
              "      <td>12756554</td>\n",
              "      <td>12748997.0</td>\n",
              "    </tr>\n",
              "    <tr>\n",
              "      <th>2019-01-09</th>\n",
              "      <td>38650</td>\n",
              "      <td>39600</td>\n",
              "      <td>38300</td>\n",
              "      <td>39600</td>\n",
              "      <td>17452708</td>\n",
              "      <td>12756554.0</td>\n",
              "    </tr>\n",
              "    <tr>\n",
              "      <th>2019-01-14</th>\n",
              "      <td>40450</td>\n",
              "      <td>40700</td>\n",
              "      <td>39850</td>\n",
              "      <td>40050</td>\n",
              "      <td>11984996</td>\n",
              "      <td>11661063.0</td>\n",
              "    </tr>\n",
              "    <tr>\n",
              "      <th>2019-01-17</th>\n",
              "      <td>41700</td>\n",
              "      <td>42100</td>\n",
              "      <td>41450</td>\n",
              "      <td>41950</td>\n",
              "      <td>11736903</td>\n",
              "      <td>8491595.0</td>\n",
              "    </tr>\n",
              "    <tr>\n",
              "      <th>2019-01-21</th>\n",
              "      <td>42700</td>\n",
              "      <td>42750</td>\n",
              "      <td>41900</td>\n",
              "      <td>42750</td>\n",
              "      <td>11355701</td>\n",
              "      <td>11029256.0</td>\n",
              "    </tr>\n",
              "    <tr>\n",
              "      <th>2019-01-23</th>\n",
              "      <td>41350</td>\n",
              "      <td>42250</td>\n",
              "      <td>41350</td>\n",
              "      <td>42000</td>\n",
              "      <td>11071079</td>\n",
              "      <td>9964356.0</td>\n",
              "    </tr>\n",
              "    <tr>\n",
              "      <th>2019-01-24</th>\n",
              "      <td>43050</td>\n",
              "      <td>43100</td>\n",
              "      <td>42350</td>\n",
              "      <td>43050</td>\n",
              "      <td>14747623</td>\n",
              "      <td>11071079.0</td>\n",
              "    </tr>\n",
              "    <tr>\n",
              "      <th>2019-01-25</th>\n",
              "      <td>44300</td>\n",
              "      <td>44750</td>\n",
              "      <td>43750</td>\n",
              "      <td>44750</td>\n",
              "      <td>22789395</td>\n",
              "      <td>14747623.0</td>\n",
              "    </tr>\n",
              "    <tr>\n",
              "      <th>2019-01-30</th>\n",
              "      <td>44800</td>\n",
              "      <td>46400</td>\n",
              "      <td>44800</td>\n",
              "      <td>46400</td>\n",
              "      <td>17505980</td>\n",
              "      <td>16215017.0</td>\n",
              "    </tr>\n",
              "    <tr>\n",
              "      <th>2019-01-31</th>\n",
              "      <td>46650</td>\n",
              "      <td>47050</td>\n",
              "      <td>46150</td>\n",
              "      <td>46150</td>\n",
              "      <td>21621145</td>\n",
              "      <td>17505980.0</td>\n",
              "    </tr>\n",
              "    <tr>\n",
              "      <th>2019-02-07</th>\n",
              "      <td>46800</td>\n",
              "      <td>47100</td>\n",
              "      <td>46200</td>\n",
              "      <td>46200</td>\n",
              "      <td>15872001</td>\n",
              "      <td>13832454.0</td>\n",
              "    </tr>\n",
              "    <tr>\n",
              "      <th>2019-02-12</th>\n",
              "      <td>44650</td>\n",
              "      <td>46250</td>\n",
              "      <td>44650</td>\n",
              "      <td>46050</td>\n",
              "      <td>13184367</td>\n",
              "      <td>11125044.0</td>\n",
              "    </tr>\n",
              "    <tr>\n",
              "      <th>2019-02-14</th>\n",
              "      <td>46600</td>\n",
              "      <td>47500</td>\n",
              "      <td>46150</td>\n",
              "      <td>47500</td>\n",
              "      <td>17259341</td>\n",
              "      <td>11299738.0</td>\n",
              "    </tr>\n",
              "    <tr>\n",
              "      <th>2019-02-20</th>\n",
              "      <td>46750</td>\n",
              "      <td>47100</td>\n",
              "      <td>46500</td>\n",
              "      <td>46900</td>\n",
              "      <td>11506720</td>\n",
              "      <td>6741395.0</td>\n",
              "    </tr>\n",
              "    <tr>\n",
              "      <th>2019-02-25</th>\n",
              "      <td>47400</td>\n",
              "      <td>47550</td>\n",
              "      <td>47050</td>\n",
              "      <td>47350</td>\n",
              "      <td>7484716</td>\n",
              "      <td>6895772.0</td>\n",
              "    </tr>\n",
              "    <tr>\n",
              "      <th>2019-02-26</th>\n",
              "      <td>47350</td>\n",
              "      <td>47450</td>\n",
              "      <td>46500</td>\n",
              "      <td>46750</td>\n",
              "      <td>7985547</td>\n",
              "      <td>7484716.0</td>\n",
              "    </tr>\n",
              "    <tr>\n",
              "      <th>2019-02-27</th>\n",
              "      <td>47000</td>\n",
              "      <td>47250</td>\n",
              "      <td>46750</td>\n",
              "      <td>46750</td>\n",
              "      <td>8045211</td>\n",
              "      <td>7985547.0</td>\n",
              "    </tr>\n",
              "    <tr>\n",
              "      <th>2019-02-28</th>\n",
              "      <td>46400</td>\n",
              "      <td>46500</td>\n",
              "      <td>45100</td>\n",
              "      <td>45100</td>\n",
              "      <td>23569321</td>\n",
              "      <td>8045211.0</td>\n",
              "    </tr>\n",
              "    <tr>\n",
              "      <th>2019-03-07</th>\n",
              "      <td>43400</td>\n",
              "      <td>44950</td>\n",
              "      <td>43400</td>\n",
              "      <td>44450</td>\n",
              "      <td>11049749</td>\n",
              "      <td>10202544.0</td>\n",
              "    </tr>\n",
              "    <tr>\n",
              "      <th>2019-03-11</th>\n",
              "      <td>44400</td>\n",
              "      <td>44450</td>\n",
              "      <td>43650</td>\n",
              "      <td>43650</td>\n",
              "      <td>10717408</td>\n",
              "      <td>7729069.0</td>\n",
              "    </tr>\n",
              "    <tr>\n",
              "      <th>2019-03-12</th>\n",
              "      <td>44300</td>\n",
              "      <td>44950</td>\n",
              "      <td>44150</td>\n",
              "      <td>44650</td>\n",
              "      <td>11431977</td>\n",
              "      <td>10717408.0</td>\n",
              "    </tr>\n",
              "    <tr>\n",
              "      <th>2019-03-14</th>\n",
              "      <td>43700</td>\n",
              "      <td>44300</td>\n",
              "      <td>43550</td>\n",
              "      <td>43850</td>\n",
              "      <td>18039161</td>\n",
              "      <td>8108343.0</td>\n",
              "    </tr>\n",
              "    <tr>\n",
              "      <th>2019-03-20</th>\n",
              "      <td>43800</td>\n",
              "      <td>44200</td>\n",
              "      <td>43100</td>\n",
              "      <td>44050</td>\n",
              "      <td>9846242</td>\n",
              "      <td>7609563.0</td>\n",
              "    </tr>\n",
              "    <tr>\n",
              "      <th>2019-03-21</th>\n",
              "      <td>44600</td>\n",
              "      <td>46250</td>\n",
              "      <td>44050</td>\n",
              "      <td>45850</td>\n",
              "      <td>21138016</td>\n",
              "      <td>9846242.0</td>\n",
              "    </tr>\n",
              "    <tr>\n",
              "      <th>2019-03-26</th>\n",
              "      <td>45500</td>\n",
              "      <td>45700</td>\n",
              "      <td>44900</td>\n",
              "      <td>45250</td>\n",
              "      <td>9729811</td>\n",
              "      <td>8699728.0</td>\n",
              "    </tr>\n",
              "    <tr>\n",
              "      <th>2019-03-29</th>\n",
              "      <td>44500</td>\n",
              "      <td>44900</td>\n",
              "      <td>44200</td>\n",
              "      <td>44650</td>\n",
              "      <td>11491713</td>\n",
              "      <td>6821306.0</td>\n",
              "    </tr>\n",
              "    <tr>\n",
              "      <th>2019-04-02</th>\n",
              "      <td>45550</td>\n",
              "      <td>46100</td>\n",
              "      <td>45350</td>\n",
              "      <td>45750</td>\n",
              "      <td>9480688</td>\n",
              "      <td>7362129.0</td>\n",
              "    </tr>\n",
              "    <tr>\n",
              "      <th>2019-04-03</th>\n",
              "      <td>46750</td>\n",
              "      <td>46750</td>\n",
              "      <td>45800</td>\n",
              "      <td>46600</td>\n",
              "      <td>12436570</td>\n",
              "      <td>9480688.0</td>\n",
              "    </tr>\n",
              "    <tr>\n",
              "      <th>2019-04-04</th>\n",
              "      <td>46150</td>\n",
              "      <td>47100</td>\n",
              "      <td>46150</td>\n",
              "      <td>46950</td>\n",
              "      <td>12650168</td>\n",
              "      <td>12436570.0</td>\n",
              "    </tr>\n",
              "    <tr>\n",
              "      <th>2019-04-10</th>\n",
              "      <td>46400</td>\n",
              "      <td>46700</td>\n",
              "      <td>46050</td>\n",
              "      <td>46700</td>\n",
              "      <td>11883995</td>\n",
              "      <td>6878761.0</td>\n",
              "    </tr>\n",
              "    <tr>\n",
              "      <th>2019-04-11</th>\n",
              "      <td>46700</td>\n",
              "      <td>46800</td>\n",
              "      <td>46150</td>\n",
              "      <td>46250</td>\n",
              "      <td>13697399</td>\n",
              "      <td>11883995.0</td>\n",
              "    </tr>\n",
              "    <tr>\n",
              "      <th>2019-04-15</th>\n",
              "      <td>47150</td>\n",
              "      <td>47500</td>\n",
              "      <td>47000</td>\n",
              "      <td>47050</td>\n",
              "      <td>8733019</td>\n",
              "      <td>7668936.0</td>\n",
              "    </tr>\n",
              "    <tr>\n",
              "      <th>2019-04-18</th>\n",
              "      <td>47200</td>\n",
              "      <td>47250</td>\n",
              "      <td>45500</td>\n",
              "      <td>45600</td>\n",
              "      <td>12808747</td>\n",
              "      <td>5513658.0</td>\n",
              "    </tr>\n",
              "    <tr>\n",
              "      <th>2019-04-23</th>\n",
              "      <td>45050</td>\n",
              "      <td>45500</td>\n",
              "      <td>45000</td>\n",
              "      <td>45200</td>\n",
              "      <td>6920566</td>\n",
              "      <td>6006957.0</td>\n",
              "    </tr>\n",
              "    <tr>\n",
              "      <th>2019-04-24</th>\n",
              "      <td>45400</td>\n",
              "      <td>45650</td>\n",
              "      <td>44150</td>\n",
              "      <td>44750</td>\n",
              "      <td>13299267</td>\n",
              "      <td>6920566.0</td>\n",
              "    </tr>\n",
              "    <tr>\n",
              "      <th>2019-04-30</th>\n",
              "      <td>46000</td>\n",
              "      <td>46300</td>\n",
              "      <td>45350</td>\n",
              "      <td>45850</td>\n",
              "      <td>11121273</td>\n",
              "      <td>8777517.0</td>\n",
              "    </tr>\n",
              "    <tr>\n",
              "      <th>2019-05-07</th>\n",
              "      <td>45250</td>\n",
              "      <td>45300</td>\n",
              "      <td>44400</td>\n",
              "      <td>44850</td>\n",
              "      <td>12014907</td>\n",
              "      <td>6562916.0</td>\n",
              "    </tr>\n",
              "    <tr>\n",
              "      <th>2019-05-09</th>\n",
              "      <td>43900</td>\n",
              "      <td>44250</td>\n",
              "      <td>42450</td>\n",
              "      <td>42450</td>\n",
              "      <td>23029718</td>\n",
              "      <td>10398754.0</td>\n",
              "    </tr>\n",
              "    <tr>\n",
              "      <th>2019-05-14</th>\n",
              "      <td>41300</td>\n",
              "      <td>43100</td>\n",
              "      <td>41300</td>\n",
              "      <td>42650</td>\n",
              "      <td>11563730</td>\n",
              "      <td>7635079.0</td>\n",
              "    </tr>\n",
              "    <tr>\n",
              "      <th>2019-05-16</th>\n",
              "      <td>42350</td>\n",
              "      <td>42400</td>\n",
              "      <td>41350</td>\n",
              "      <td>41550</td>\n",
              "      <td>13687828</td>\n",
              "      <td>7670185.0</td>\n",
              "    </tr>\n",
              "    <tr>\n",
              "      <th>2019-05-20</th>\n",
              "      <td>41650</td>\n",
              "      <td>42100</td>\n",
              "      <td>41550</td>\n",
              "      <td>42000</td>\n",
              "      <td>15752397</td>\n",
              "      <td>13357951.0</td>\n",
              "    </tr>\n",
              "    <tr>\n",
              "      <th>2019-05-21</th>\n",
              "      <td>42600</td>\n",
              "      <td>43950</td>\n",
              "      <td>42350</td>\n",
              "      <td>43150</td>\n",
              "      <td>18812133</td>\n",
              "      <td>15752397.0</td>\n",
              "    </tr>\n",
              "    <tr>\n",
              "      <th>2019-05-23</th>\n",
              "      <td>43900</td>\n",
              "      <td>44000</td>\n",
              "      <td>43250</td>\n",
              "      <td>43850</td>\n",
              "      <td>12259006</td>\n",
              "      <td>11033339.0</td>\n",
              "    </tr>\n",
              "    <tr>\n",
              "      <th>2019-05-24</th>\n",
              "      <td>43800</td>\n",
              "      <td>43800</td>\n",
              "      <td>42400</td>\n",
              "      <td>42700</td>\n",
              "      <td>13966305</td>\n",
              "      <td>12259006.0</td>\n",
              "    </tr>\n",
              "    <tr>\n",
              "      <th>2019-05-28</th>\n",
              "      <td>42550</td>\n",
              "      <td>42950</td>\n",
              "      <td>42150</td>\n",
              "      <td>42550</td>\n",
              "      <td>24506881</td>\n",
              "      <td>8066669.0</td>\n",
              "    </tr>\n",
              "    <tr>\n",
              "      <th>2019-06-03</th>\n",
              "      <td>42950</td>\n",
              "      <td>43900</td>\n",
              "      <td>42500</td>\n",
              "      <td>43800</td>\n",
              "      <td>15466580</td>\n",
              "      <td>11365999.0</td>\n",
              "    </tr>\n",
              "    <tr>\n",
              "      <th>2019-06-05</th>\n",
              "      <td>44050</td>\n",
              "      <td>44200</td>\n",
              "      <td>43700</td>\n",
              "      <td>43900</td>\n",
              "      <td>12464135</td>\n",
              "      <td>9913497.0</td>\n",
              "    </tr>\n",
              "    <tr>\n",
              "      <th>2019-06-12</th>\n",
              "      <td>44800</td>\n",
              "      <td>45050</td>\n",
              "      <td>44300</td>\n",
              "      <td>44600</td>\n",
              "      <td>8607439</td>\n",
              "      <td>6664872.0</td>\n",
              "    </tr>\n",
              "    <tr>\n",
              "      <th>2019-06-13</th>\n",
              "      <td>44200</td>\n",
              "      <td>44400</td>\n",
              "      <td>43400</td>\n",
              "      <td>43750</td>\n",
              "      <td>16906541</td>\n",
              "      <td>8607439.0</td>\n",
              "    </tr>\n",
              "    <tr>\n",
              "      <th>2019-06-17</th>\n",
              "      <td>43750</td>\n",
              "      <td>44050</td>\n",
              "      <td>43400</td>\n",
              "      <td>43900</td>\n",
              "      <td>11890424</td>\n",
              "      <td>9322873.0</td>\n",
              "    </tr>\n",
              "    <tr>\n",
              "      <th>2019-06-19</th>\n",
              "      <td>45450</td>\n",
              "      <td>45450</td>\n",
              "      <td>45000</td>\n",
              "      <td>45350</td>\n",
              "      <td>10417690</td>\n",
              "      <td>7994928.0</td>\n",
              "    </tr>\n",
              "    <tr>\n",
              "      <th>2019-06-21</th>\n",
              "      <td>45750</td>\n",
              "      <td>45800</td>\n",
              "      <td>45200</td>\n",
              "      <td>45700</td>\n",
              "      <td>9454913</td>\n",
              "      <td>7147785.0</td>\n",
              "    </tr>\n",
              "    <tr>\n",
              "      <th>2019-06-25</th>\n",
              "      <td>45200</td>\n",
              "      <td>45800</td>\n",
              "      <td>45200</td>\n",
              "      <td>45600</td>\n",
              "      <td>7076774</td>\n",
              "      <td>6085066.0</td>\n",
              "    </tr>\n",
              "    <tr>\n",
              "      <th>2019-06-26</th>\n",
              "      <td>45800</td>\n",
              "      <td>46000</td>\n",
              "      <td>45600</td>\n",
              "      <td>45700</td>\n",
              "      <td>9226097</td>\n",
              "      <td>7076774.0</td>\n",
              "    </tr>\n",
              "    <tr>\n",
              "      <th>2019-06-27</th>\n",
              "      <td>46000</td>\n",
              "      <td>46600</td>\n",
              "      <td>45750</td>\n",
              "      <td>46500</td>\n",
              "      <td>12603534</td>\n",
              "      <td>9226097.0</td>\n",
              "    </tr>\n",
              "    <tr>\n",
              "      <th>2019-06-28</th>\n",
              "      <td>47000</td>\n",
              "      <td>47000</td>\n",
              "      <td>46700</td>\n",
              "      <td>47000</td>\n",
              "      <td>12949231</td>\n",
              "      <td>12603534.0</td>\n",
              "    </tr>\n",
              "  </tbody>\n",
              "</table>\n",
              "</div>"
            ],
            "text/plain": [
              "               시가     고가     저가     종가       거래량       전날거래량\n",
              "날짜                                                          \n",
              "2019-01-03  38300  38550  37450  37600  12471493   7847664.0\n",
              "2019-01-04  37450  37600  36850  37450  14108958  12471493.0\n",
              "2019-01-08  38000  39200  37950  38100  12756554  12748997.0\n",
              "2019-01-09  38650  39600  38300  39600  17452708  12756554.0\n",
              "2019-01-14  40450  40700  39850  40050  11984996  11661063.0\n",
              "2019-01-17  41700  42100  41450  41950  11736903   8491595.0\n",
              "2019-01-21  42700  42750  41900  42750  11355701  11029256.0\n",
              "2019-01-23  41350  42250  41350  42000  11071079   9964356.0\n",
              "2019-01-24  43050  43100  42350  43050  14747623  11071079.0\n",
              "2019-01-25  44300  44750  43750  44750  22789395  14747623.0\n",
              "2019-01-30  44800  46400  44800  46400  17505980  16215017.0\n",
              "2019-01-31  46650  47050  46150  46150  21621145  17505980.0\n",
              "2019-02-07  46800  47100  46200  46200  15872001  13832454.0\n",
              "2019-02-12  44650  46250  44650  46050  13184367  11125044.0\n",
              "2019-02-14  46600  47500  46150  47500  17259341  11299738.0\n",
              "2019-02-20  46750  47100  46500  46900  11506720   6741395.0\n",
              "2019-02-25  47400  47550  47050  47350   7484716   6895772.0\n",
              "2019-02-26  47350  47450  46500  46750   7985547   7484716.0\n",
              "2019-02-27  47000  47250  46750  46750   8045211   7985547.0\n",
              "2019-02-28  46400  46500  45100  45100  23569321   8045211.0\n",
              "2019-03-07  43400  44950  43400  44450  11049749  10202544.0\n",
              "2019-03-11  44400  44450  43650  43650  10717408   7729069.0\n",
              "2019-03-12  44300  44950  44150  44650  11431977  10717408.0\n",
              "2019-03-14  43700  44300  43550  43850  18039161   8108343.0\n",
              "2019-03-20  43800  44200  43100  44050   9846242   7609563.0\n",
              "2019-03-21  44600  46250  44050  45850  21138016   9846242.0\n",
              "2019-03-26  45500  45700  44900  45250   9729811   8699728.0\n",
              "2019-03-29  44500  44900  44200  44650  11491713   6821306.0\n",
              "2019-04-02  45550  46100  45350  45750   9480688   7362129.0\n",
              "2019-04-03  46750  46750  45800  46600  12436570   9480688.0\n",
              "2019-04-04  46150  47100  46150  46950  12650168  12436570.0\n",
              "2019-04-10  46400  46700  46050  46700  11883995   6878761.0\n",
              "2019-04-11  46700  46800  46150  46250  13697399  11883995.0\n",
              "2019-04-15  47150  47500  47000  47050   8733019   7668936.0\n",
              "2019-04-18  47200  47250  45500  45600  12808747   5513658.0\n",
              "2019-04-23  45050  45500  45000  45200   6920566   6006957.0\n",
              "2019-04-24  45400  45650  44150  44750  13299267   6920566.0\n",
              "2019-04-30  46000  46300  45350  45850  11121273   8777517.0\n",
              "2019-05-07  45250  45300  44400  44850  12014907   6562916.0\n",
              "2019-05-09  43900  44250  42450  42450  23029718  10398754.0\n",
              "2019-05-14  41300  43100  41300  42650  11563730   7635079.0\n",
              "2019-05-16  42350  42400  41350  41550  13687828   7670185.0\n",
              "2019-05-20  41650  42100  41550  42000  15752397  13357951.0\n",
              "2019-05-21  42600  43950  42350  43150  18812133  15752397.0\n",
              "2019-05-23  43900  44000  43250  43850  12259006  11033339.0\n",
              "2019-05-24  43800  43800  42400  42700  13966305  12259006.0\n",
              "2019-05-28  42550  42950  42150  42550  24506881   8066669.0\n",
              "2019-06-03  42950  43900  42500  43800  15466580  11365999.0\n",
              "2019-06-05  44050  44200  43700  43900  12464135   9913497.0\n",
              "2019-06-12  44800  45050  44300  44600   8607439   6664872.0\n",
              "2019-06-13  44200  44400  43400  43750  16906541   8607439.0\n",
              "2019-06-17  43750  44050  43400  43900  11890424   9322873.0\n",
              "2019-06-19  45450  45450  45000  45350  10417690   7994928.0\n",
              "2019-06-21  45750  45800  45200  45700   9454913   7147785.0\n",
              "2019-06-25  45200  45800  45200  45600   7076774   6085066.0\n",
              "2019-06-26  45800  46000  45600  45700   9226097   7076774.0\n",
              "2019-06-27  46000  46600  45750  46500  12603534   9226097.0\n",
              "2019-06-28  47000  47000  46700  47000  12949231  12603534.0"
            ]
          },
          "metadata": {
            "tags": []
          },
          "execution_count": 27
        }
      ]
    },
    {
      "cell_type": "markdown",
      "metadata": {
        "id": "YX5GeyR_YFYo"
      },
      "source": [
        "위 코드는 불리언 조건을 만든 후에 거래량이 전날거래량보다 증가한 거래일을 출력하는 코드다.    \n",
        "\n",
        "그렇다면 전일 대비 거래량이 증가한 날이 며칠이나 되는지를 계산하는 방법은 무엇일까? ```len()``` 함수를 사용하면 된다."
      ]
    },
    {
      "cell_type": "code",
      "metadata": {
        "colab": {
          "base_uri": "https://localhost:8080/"
        },
        "id": "NrqglCfaYS0z",
        "outputId": "d388c383-f0c2-4998-aca7-82b3736f7196"
      },
      "source": [
        "print('상승일:', len(df[cond]))\n",
        "print('영업일:', len(df))"
      ],
      "execution_count": 28,
      "outputs": [
        {
          "output_type": "stream",
          "text": [
            "상승일: 58\n",
            "영업일: 121\n"
          ],
          "name": "stdout"
        }
      ]
    },
    {
      "cell_type": "markdown",
      "metadata": {
        "id": "ImXOwbuqYlGQ"
      },
      "source": [
        "이번에는 전일 종가대비 시초가가 상승 출발한 날을 구해보자. 종가를 shift(1)해서 비교할 수 있지만 이번에는 음수 shift를 이용해서 비교해보자. 다음날 시가가 비교하려는 종가가 같은 로우에 위치하기 때문에 쉽게 비교할 수 있다."
      ]
    },
    {
      "cell_type": "code",
      "metadata": {
        "colab": {
          "base_uri": "https://localhost:8080/"
        },
        "id": "i-y1xZlNYw1x",
        "outputId": "139eecec-82d3-4bab-b9d5-3ea4484d1237"
      },
      "source": [
        "cond = df['종가'] > df['시가'].shift(-1)\n",
        "print(len(df[cond]))"
      ],
      "execution_count": 29,
      "outputs": [
        {
          "output_type": "stream",
          "text": [
            "53\n"
          ],
          "name": "stdout"
        }
      ]
    },
    {
      "cell_type": "markdown",
      "metadata": {
        "id": "IgmWEYKjY5ep"
      },
      "source": [
        "전체 영업일 중 53일이 상승출발 하였다."
      ]
    },
    {
      "cell_type": "markdown",
      "metadata": {
        "id": "ubftqNrrY9E0"
      },
      "source": [
        "## 2.4. 이동 평균\n",
        "5일 주가 이동평균선은 각 거래일을 기준으로 계산한 5일 주가 이동평균을 차례로 연결하여 그래프로 표현한 것이다.    \n",
        "\n",
        "이동 평균을 계산하기 위해서는 각 거래일의 종가를 shift한 후, row 단위로 연산을 적용하면 된다. 판다스 시리즈 객체는 이동 평균 등을 쉽게 계산하기 위한 ```rolling()``` 메소드를 제공한다."
      ]
    },
    {
      "cell_type": "code",
      "metadata": {
        "colab": {
          "base_uri": "https://localhost:8080/",
          "height": 450
        },
        "id": "_LMsF3bwZVjM",
        "outputId": "dcc9bf23-05b0-4297-8a0a-7e3b3bc4abe7"
      },
      "source": [
        "df = stock.get_market_ohlcv_by_date('20180101', '20180531', '005930')\n",
        "df['5일이동평균'] = df['종가'].rolling(window=5).mean()\n",
        "df"
      ],
      "execution_count": 30,
      "outputs": [
        {
          "output_type": "execute_result",
          "data": {
            "text/html": [
              "<div>\n",
              "<style scoped>\n",
              "    .dataframe tbody tr th:only-of-type {\n",
              "        vertical-align: middle;\n",
              "    }\n",
              "\n",
              "    .dataframe tbody tr th {\n",
              "        vertical-align: top;\n",
              "    }\n",
              "\n",
              "    .dataframe thead th {\n",
              "        text-align: right;\n",
              "    }\n",
              "</style>\n",
              "<table border=\"1\" class=\"dataframe\">\n",
              "  <thead>\n",
              "    <tr style=\"text-align: right;\">\n",
              "      <th></th>\n",
              "      <th>시가</th>\n",
              "      <th>고가</th>\n",
              "      <th>저가</th>\n",
              "      <th>종가</th>\n",
              "      <th>거래량</th>\n",
              "      <th>5일이동평균</th>\n",
              "    </tr>\n",
              "    <tr>\n",
              "      <th>날짜</th>\n",
              "      <th></th>\n",
              "      <th></th>\n",
              "      <th></th>\n",
              "      <th></th>\n",
              "      <th></th>\n",
              "      <th></th>\n",
              "    </tr>\n",
              "  </thead>\n",
              "  <tbody>\n",
              "    <tr>\n",
              "      <th>2018-01-02</th>\n",
              "      <td>51380</td>\n",
              "      <td>51400</td>\n",
              "      <td>50780</td>\n",
              "      <td>51020</td>\n",
              "      <td>169485</td>\n",
              "      <td>NaN</td>\n",
              "    </tr>\n",
              "    <tr>\n",
              "      <th>2018-01-03</th>\n",
              "      <td>52540</td>\n",
              "      <td>52560</td>\n",
              "      <td>51420</td>\n",
              "      <td>51620</td>\n",
              "      <td>200270</td>\n",
              "      <td>NaN</td>\n",
              "    </tr>\n",
              "    <tr>\n",
              "      <th>2018-01-04</th>\n",
              "      <td>52120</td>\n",
              "      <td>52180</td>\n",
              "      <td>50640</td>\n",
              "      <td>51080</td>\n",
              "      <td>233909</td>\n",
              "      <td>NaN</td>\n",
              "    </tr>\n",
              "    <tr>\n",
              "      <th>2018-01-05</th>\n",
              "      <td>51300</td>\n",
              "      <td>52120</td>\n",
              "      <td>51200</td>\n",
              "      <td>52120</td>\n",
              "      <td>189623</td>\n",
              "      <td>NaN</td>\n",
              "    </tr>\n",
              "    <tr>\n",
              "      <th>2018-01-08</th>\n",
              "      <td>52400</td>\n",
              "      <td>52520</td>\n",
              "      <td>51500</td>\n",
              "      <td>52020</td>\n",
              "      <td>167673</td>\n",
              "      <td>51572.0</td>\n",
              "    </tr>\n",
              "    <tr>\n",
              "      <th>...</th>\n",
              "      <td>...</td>\n",
              "      <td>...</td>\n",
              "      <td>...</td>\n",
              "      <td>...</td>\n",
              "      <td>...</td>\n",
              "      <td>...</td>\n",
              "    </tr>\n",
              "    <tr>\n",
              "      <th>2018-05-25</th>\n",
              "      <td>51000</td>\n",
              "      <td>52800</td>\n",
              "      <td>50800</td>\n",
              "      <td>52700</td>\n",
              "      <td>15207266</td>\n",
              "      <td>51080.0</td>\n",
              "    </tr>\n",
              "    <tr>\n",
              "      <th>2018-05-28</th>\n",
              "      <td>52500</td>\n",
              "      <td>53000</td>\n",
              "      <td>52000</td>\n",
              "      <td>52300</td>\n",
              "      <td>9787820</td>\n",
              "      <td>51640.0</td>\n",
              "    </tr>\n",
              "    <tr>\n",
              "      <th>2018-05-29</th>\n",
              "      <td>52200</td>\n",
              "      <td>52500</td>\n",
              "      <td>51300</td>\n",
              "      <td>51300</td>\n",
              "      <td>8480437</td>\n",
              "      <td>51900.0</td>\n",
              "    </tr>\n",
              "    <tr>\n",
              "      <th>2018-05-30</th>\n",
              "      <td>51300</td>\n",
              "      <td>51500</td>\n",
              "      <td>49100</td>\n",
              "      <td>49500</td>\n",
              "      <td>20498098</td>\n",
              "      <td>51440.0</td>\n",
              "    </tr>\n",
              "    <tr>\n",
              "      <th>2018-05-31</th>\n",
              "      <td>50400</td>\n",
              "      <td>50800</td>\n",
              "      <td>49850</td>\n",
              "      <td>50700</td>\n",
              "      <td>63491109</td>\n",
              "      <td>51300.0</td>\n",
              "    </tr>\n",
              "  </tbody>\n",
              "</table>\n",
              "<p>102 rows × 6 columns</p>\n",
              "</div>"
            ],
            "text/plain": [
              "               시가     고가     저가     종가       거래량   5일이동평균\n",
              "날짜                                                       \n",
              "2018-01-02  51380  51400  50780  51020    169485      NaN\n",
              "2018-01-03  52540  52560  51420  51620    200270      NaN\n",
              "2018-01-04  52120  52180  50640  51080    233909      NaN\n",
              "2018-01-05  51300  52120  51200  52120    189623      NaN\n",
              "2018-01-08  52400  52520  51500  52020    167673  51572.0\n",
              "...           ...    ...    ...    ...       ...      ...\n",
              "2018-05-25  51000  52800  50800  52700  15207266  51080.0\n",
              "2018-05-28  52500  53000  52000  52300   9787820  51640.0\n",
              "2018-05-29  52200  52500  51300  51300   8480437  51900.0\n",
              "2018-05-30  51300  51500  49100  49500  20498098  51440.0\n",
              "2018-05-31  50400  50800  49850  50700  63491109  51300.0\n",
              "\n",
              "[102 rows x 6 columns]"
            ]
          },
          "metadata": {
            "tags": []
          },
          "execution_count": 30
        }
      ]
    },
    {
      "cell_type": "markdown",
      "metadata": {
        "id": "Mtip81tUZlJV"
      },
      "source": [
        "값을 확인해보면 1월 5일가지는 데이터가 없기 때문에 5일 이동 평균값이 존재하지 않고(NaN), 그 후부터는 이동평균들이 정상적으로 출력된 것을 확인할 수 있다.    \n",
        "\n",
        "주어진 기간동안 시가가 5일 이동평균선을 돌파한 횟수를 세어보자. 당일 종가까지 포함해서 계산한 5일 이동평균을 다음날의 시가와 비교해야 한다. "
      ]
    },
    {
      "cell_type": "code",
      "metadata": {
        "colab": {
          "base_uri": "https://localhost:8080/"
        },
        "id": "5JvrZ6B_Z13y",
        "outputId": "2450854e-cce4-4651-9e13-1bbb2f6ec237"
      },
      "source": [
        "cond = df['5일이동평균'].shift(1) < df['시가']\n",
        "print(\"상승일:\", len(df[cond]))\n",
        "print(\"영업일:\", len(df))"
      ],
      "execution_count": 32,
      "outputs": [
        {
          "output_type": "stream",
          "text": [
            "상승일: 42\n",
            "영업일: 102\n"
          ],
          "name": "stdout"
        }
      ]
    }
  ]
}