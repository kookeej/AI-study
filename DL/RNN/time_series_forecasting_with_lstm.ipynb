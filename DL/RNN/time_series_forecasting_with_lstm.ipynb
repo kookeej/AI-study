{
  "nbformat": 4,
  "nbformat_minor": 0,
  "metadata": {
    "colab": {
      "name": "time_series_forecasting_with_lstm.ipynb",
      "provenance": [],
      "authorship_tag": "ABX9TyPK7JF+G6d+9G1hyV9EQPIY",
      "include_colab_link": true
    },
    "kernelspec": {
      "name": "python3",
      "display_name": "Python 3"
    },
    "language_info": {
      "name": "python"
    }
  },
  "cells": [
    {
      "cell_type": "markdown",
      "metadata": {
        "id": "view-in-github",
        "colab_type": "text"
      },
      "source": [
        "<a href=\"https://colab.research.google.com/github/kookeej/AI-study/blob/main/RNN/time_series_forecasting_with_lstm.ipynb\" target=\"_parent\"><img src=\"https://colab.research.google.com/assets/colab-badge.svg\" alt=\"Open In Colab\"/></a>"
      ]
    },
    {
      "cell_type": "markdown",
      "metadata": {
        "id": "vChDJ13h5RhV"
      },
      "source": [
        "Time Series Forecasting with LSTM\n",
        "===\n",
        "*reference: https://www.youtube.com/watch?v=RC7oiddQlEg*\n"
      ]
    },
    {
      "cell_type": "markdown",
      "metadata": {
        "id": "elTCJLa26zXH"
      },
      "source": [
        "> ### 시계열이 일반 회귀 문제와 다른 점은 무엇일까?\n",
        ">1. `시간 의존적`: 예측값이 독립적이라는 선형 회귀 모델의 기본 가정이 적용되지 않는다.\n",
        ">2. `계절성 추세`: 특정 기간에 따른 변형   \n",
        "\n",
        ">### RNN의 문제점\n",
        ">1. Gradient vanishing\n",
        ">2. Gradient exploding\n",
        "\n",
        ">### 해결 방법\n",
        ">1. LSTM\n",
        ">2. GRU\n",
        ">3. BERT"
      ]
    },
    {
      "cell_type": "code",
      "metadata": {
        "id": "pxOKqtz85eSW"
      },
      "source": [
        "import torch\n",
        "import torch.nn as nn\n",
        "\n",
        "import seaborn as sns\n",
        "import numpy as np\n",
        "import pandas as pd\n",
        "import matplotlib.pyplot as plt\n",
        "%matplotlib inline"
      ],
      "execution_count": 4,
      "outputs": []
    },
    {
      "cell_type": "code",
      "metadata": {
        "colab": {
          "base_uri": "https://localhost:8080/"
        },
        "id": "KM1XJQmT8Ejv",
        "outputId": "b54e8f98-89e6-4af0-e1c9-810b5b03aa18"
      },
      "source": [
        "# seaborn library에 있는 모든 데이터셋의 이름을 출력\n",
        "sns.get_dataset_names()"
      ],
      "execution_count": 5,
      "outputs": [
        {
          "output_type": "execute_result",
          "data": {
            "text/plain": [
              "['anagrams',\n",
              " 'anscombe',\n",
              " 'attention',\n",
              " 'brain_networks',\n",
              " 'car_crashes',\n",
              " 'diamonds',\n",
              " 'dots',\n",
              " 'exercise',\n",
              " 'flights',\n",
              " 'fmri',\n",
              " 'gammas',\n",
              " 'geyser',\n",
              " 'iris',\n",
              " 'mpg',\n",
              " 'penguins',\n",
              " 'planets',\n",
              " 'tips',\n",
              " 'titanic']"
            ]
          },
          "metadata": {
            "tags": []
          },
          "execution_count": 5
        }
      ]
    },
    {
      "cell_type": "code",
      "metadata": {
        "colab": {
          "base_uri": "https://localhost:8080/",
          "height": 205
        },
        "id": "939EDUOh8SEP",
        "outputId": "61ac4866-bfcf-4944-f3db-77b25b78ca58"
      },
      "source": [
        "# 항공 데이터셋 load\n",
        "flight_data = sns.load_dataset(\"flights\")\n",
        "flight_data.head()"
      ],
      "execution_count": 6,
      "outputs": [
        {
          "output_type": "execute_result",
          "data": {
            "text/html": [
              "<div>\n",
              "<style scoped>\n",
              "    .dataframe tbody tr th:only-of-type {\n",
              "        vertical-align: middle;\n",
              "    }\n",
              "\n",
              "    .dataframe tbody tr th {\n",
              "        vertical-align: top;\n",
              "    }\n",
              "\n",
              "    .dataframe thead th {\n",
              "        text-align: right;\n",
              "    }\n",
              "</style>\n",
              "<table border=\"1\" class=\"dataframe\">\n",
              "  <thead>\n",
              "    <tr style=\"text-align: right;\">\n",
              "      <th></th>\n",
              "      <th>year</th>\n",
              "      <th>month</th>\n",
              "      <th>passengers</th>\n",
              "    </tr>\n",
              "  </thead>\n",
              "  <tbody>\n",
              "    <tr>\n",
              "      <th>0</th>\n",
              "      <td>1949</td>\n",
              "      <td>Jan</td>\n",
              "      <td>112</td>\n",
              "    </tr>\n",
              "    <tr>\n",
              "      <th>1</th>\n",
              "      <td>1949</td>\n",
              "      <td>Feb</td>\n",
              "      <td>118</td>\n",
              "    </tr>\n",
              "    <tr>\n",
              "      <th>2</th>\n",
              "      <td>1949</td>\n",
              "      <td>Mar</td>\n",
              "      <td>132</td>\n",
              "    </tr>\n",
              "    <tr>\n",
              "      <th>3</th>\n",
              "      <td>1949</td>\n",
              "      <td>Apr</td>\n",
              "      <td>129</td>\n",
              "    </tr>\n",
              "    <tr>\n",
              "      <th>4</th>\n",
              "      <td>1949</td>\n",
              "      <td>May</td>\n",
              "      <td>121</td>\n",
              "    </tr>\n",
              "  </tbody>\n",
              "</table>\n",
              "</div>"
            ],
            "text/plain": [
              "   year month  passengers\n",
              "0  1949   Jan         112\n",
              "1  1949   Feb         118\n",
              "2  1949   Mar         132\n",
              "3  1949   Apr         129\n",
              "4  1949   May         121"
            ]
          },
          "metadata": {
            "tags": []
          },
          "execution_count": 6
        }
      ]
    },
    {
      "cell_type": "markdown",
      "metadata": {
        "id": "w2xY4TtV8fTc"
      },
      "source": [
        "3개의 feature가 존재한다."
      ]
    },
    {
      "cell_type": "code",
      "metadata": {
        "colab": {
          "base_uri": "https://localhost:8080/"
        },
        "id": "aJwuT5n78ic6",
        "outputId": "e2407f61-7feb-4385-df09-7b918d1e7f91"
      },
      "source": [
        "flight_data.shape"
      ],
      "execution_count": 7,
      "outputs": [
        {
          "output_type": "execute_result",
          "data": {
            "text/plain": [
              "(144, 3)"
            ]
          },
          "metadata": {
            "tags": []
          },
          "execution_count": 7
        }
      ]
    },
    {
      "cell_type": "markdown",
      "metadata": {
        "id": "ROZ8vsoA8pht"
      },
      "source": [
        "144개의 데이터가 존재하고 3개의 feature를 가진다. 즉, 144개월간의 기록이 있다.    \n",
        "우리는 여기서 132개월을 lstm 학습에 사용하고 남은 12개월 데이터로 성능을 평가한다."
      ]
    },
    {
      "cell_type": "code",
      "metadata": {
        "id": "UWL2_Zo39DJC"
      },
      "source": [
        "fig_size = plt.rcParams['figure.figsize'] = (15, 5)       # rcParams를 통해 차트 그림 기본설정을 할 수 있다.\n",
        "# fig_size[0] = 15\n",
        "# fig_size[1] = 5\n",
        "plt.rcParams['figure.figsize'] = fig_size"
      ],
      "execution_count": 11,
      "outputs": []
    },
    {
      "cell_type": "markdown",
      "metadata": {
        "id": "adj384vu9pI2"
      },
      "source": [
        "rcParams에서 자주 사용하는 값들은 아래와 같다.    \n",
        "\n",
        "|속성|설명|\n",
        "|:----:|------------|\n",
        "|**figure.figsize**|그림(figure)의 크기. (width, height)의 인치 단위|\n",
        "|**lines.linewidth**|선의 두께|\n",
        "|**lines.color**|선의 색깔|\n",
        "|**axes.grid**|차트 내 grid 표시 여부|"
      ]
    },
    {
      "cell_type": "code",
      "metadata": {
        "colab": {
          "base_uri": "https://localhost:8080/",
          "height": 367
        },
        "id": "j3br05Mi9TzJ",
        "outputId": "9f83e998-b061-4b78-c4fd-f21c42e6db55"
      },
      "source": [
        "plt.title('Month vs Passenger')\n",
        "plt.ylabel('Total Passenger')\n",
        "plt.xlabel('Months')\n",
        "plt.grid(True)\n",
        "plt.autoscale(axis='x', tight=True)\n",
        "plt.plot(flight_data['passengers'])"
      ],
      "execution_count": 13,
      "outputs": [
        {
          "output_type": "execute_result",
          "data": {
            "text/plain": [
              "[<matplotlib.lines.Line2D at 0x7facf00369d0>]"
            ]
          },
          "metadata": {
            "tags": []
          },
          "execution_count": 13
        },
        {
          "output_type": "display_data",
          "data": {
            "image/png": "[encoded data removed]",
            "text/plain": [
              "<Figure size 1080x360 with 1 Axes>"
            ]
          },
          "metadata": {
            "tags": [],
            "needs_background": "light"
          }
        }
      ]
    },
    {
      "cell_type": "code",
      "metadata": {
        "colab": {
          "base_uri": "https://localhost:8080/"
        },
        "id": "cSh4wl70-nRQ",
        "outputId": "2d928c28-6ccb-4f93-889e-133558e85f60"
      },
      "source": [
        "flight_data.columns"
      ],
      "execution_count": 20,
      "outputs": [
        {
          "output_type": "execute_result",
          "data": {
            "text/plain": [
              "Index(['year', 'month', 'passengers'], dtype='object')"
            ]
          },
          "metadata": {
            "tags": []
          },
          "execution_count": 20
        }
      ]
    },
    {
      "cell_type": "code",
      "metadata": {
        "id": "iMcjXEQPCmEe"
      },
      "source": [
        "# 승객의 열 유형을 부동 소수점으로 변경(원래는 int64)\n",
        "all_data = flight_data['passengers'].values.astype(float)"
      ],
      "execution_count": 16,
      "outputs": []
    },
    {
      "cell_type": "code",
      "metadata": {
        "colab": {
          "base_uri": "https://localhost:8080/"
        },
        "id": "MnJybiqwDXu2",
        "outputId": "d3aa165a-8253-4f96-a749-d860b79b9b3c"
      },
      "source": [
        "print(all_data)"
      ],
      "execution_count": 22,
      "outputs": [
        {
          "output_type": "stream",
          "text": [
            "[112. 118. 132. 129. 121. 135. 148. 148. 136. 119. 104. 118. 115. 126.\n",
            " 141. 135. 125. 149. 170. 170. 158. 133. 114. 140. 145. 150. 178. 163.\n",
            " 172. 178. 199. 199. 184. 162. 146. 166. 171. 180. 193. 181. 183. 218.\n",
            " 230. 242. 209. 191. 172. 194. 196. 196. 236. 235. 229. 243. 264. 272.\n",
            " 237. 211. 180. 201. 204. 188. 235. 227. 234. 264. 302. 293. 259. 229.\n",
            " 203. 229. 242. 233. 267. 269. 270. 315. 364. 347. 312. 274. 237. 278.\n",
            " 284. 277. 317. 313. 318. 374. 413. 405. 355. 306. 271. 306. 315. 301.\n",
            " 356. 348. 355. 422. 465. 467. 404. 347. 305. 336. 340. 318. 362. 348.\n",
            " 363. 435. 491. 505. 404. 359. 310. 337. 360. 342. 406. 396. 420. 472.\n",
            " 548. 559. 463. 407. 362. 405. 417. 391. 419. 461. 472. 535. 622. 606.\n",
            " 508. 461. 390. 432.]\n"
          ],
          "name": "stdout"
        }
      ]
    },
    {
      "cell_type": "markdown",
      "metadata": {
        "id": "NaHOs0xWDiVm"
      },
      "source": [
        "이제 데이터셋을 train/test set으로 나눈다. 모델은 lstm 알고리즘을 사용한다. "
      ]
    },
    {
      "cell_type": "code",
      "metadata": {
        "id": "ygIabb1eDqp5"
      },
      "source": [
        "from sklearn.model_selection import train_test_split\n",
        "\n",
        "train_data, test_data = train_test_split(all_data, test_size=1/12, shuffle=False)"
      ],
      "execution_count": 47,
      "outputs": []
    },
    {
      "cell_type": "code",
      "metadata": {
        "colab": {
          "base_uri": "https://localhost:8080/"
        },
        "id": "K1-OHHLzFVzP",
        "outputId": "2d0261d9-f27f-419d-8766-729e022224a5"
      },
      "source": [
        "print(len(train_data))\n",
        "print(len(test_data))"
      ],
      "execution_count": 48,
      "outputs": [
        {
          "output_type": "stream",
          "text": [
            "132\n",
            "12\n"
          ],
          "name": "stdout"
        }
      ]
    },
    {
      "cell_type": "code",
      "metadata": {
        "colab": {
          "base_uri": "https://localhost:8080/"
        },
        "id": "Nc9Hiv5HFgdl",
        "outputId": "437723a1-5260-403f-c0b3-b45bcd392bf2"
      },
      "source": [
        "print(test_data)"
      ],
      "execution_count": 49,
      "outputs": [
        {
          "output_type": "stream",
          "text": [
            "[417. 391. 419. 461. 472. 535. 622. 606. 508. 461. 390. 432.]\n"
          ],
          "name": "stdout"
        }
      ]
    },
    {
      "cell_type": "markdown",
      "metadata": {
        "id": "vF-wrIEpF180"
      },
      "source": [
        "현재 데이터셋은 정규화되어있지 않다. 초기 항공 승객은 후기 승객수보다 매우 적다. 따라서 시계열 예측을 위해 데이터를 정규화하는 것은 매우 중요하다."
      ]
    },
    {
      "cell_type": "code",
      "metadata": {
        "id": "e95bNqNgF5o8"
      },
      "source": [
        "from sklearn.preprocessing import MinMaxScaler\n",
        "\n",
        "scaler = MinMaxScaler(feature_range=(-1, 1))        # -1과 1사이로 정규화\n",
        "train_data_normalized = scaler.fit_transform(train_data.reshape(-1, 1))"
      ],
      "execution_count": 50,
      "outputs": []
    },
    {
      "cell_type": "code",
      "metadata": {
        "colab": {
          "base_uri": "https://localhost:8080/"
        },
        "id": "uBR6Nw-bGZsl",
        "outputId": "55e15c5a-86cd-46ed-f01a-737f1075f3b7"
      },
      "source": [
        "print(train_data_normalized[:5])\n",
        "print(train_data_normalized[-5:])"
      ],
      "execution_count": 51,
      "outputs": [
        {
          "output_type": "stream",
          "text": [
            "[[-0.96483516]\n",
            " [-0.93846154]\n",
            " [-0.87692308]\n",
            " [-0.89010989]\n",
            " [-0.92527473]]\n",
            "[[1.        ]\n",
            " [0.57802198]\n",
            " [0.33186813]\n",
            " [0.13406593]\n",
            " [0.32307692]]\n"
          ],
          "name": "stdout"
        }
      ]
    },
    {
      "cell_type": "markdown",
      "metadata": {
        "id": "esbWXYsGGrEq"
      },
      "source": [
        "결과를 확인해보면 -1에서 1사이 값으로 정규화가 진행되었음을 확인할 수 있다. 이 정규화는 오직 train set에만 적용된다.    \n",
        "만약 test set을 정규화시키면 일부 정부가 train set으로 유출될 가능성이 있다. (?????????왠지 모름)"
      ]
    },
    {
      "cell_type": "markdown",
      "metadata": {
        "id": "cVY2sYz6HLeO"
      },
      "source": [
        "이번에는 데이터셋을 텐서로 변환한다. "
      ]
    },
    {
      "cell_type": "code",
      "metadata": {
        "id": "oL1tLT11HK0O"
      },
      "source": [
        "train_data_normalized = torch.FloatTensor(train_data_normalized).view(-1)"
      ],
      "execution_count": 52,
      "outputs": []
    },
    {
      "cell_type": "code",
      "metadata": {
        "id": "qn-1snxeHhHh"
      },
      "source": [
        "train_window = 12"
      ],
      "execution_count": 53,
      "outputs": []
    },
    {
      "cell_type": "code",
      "metadata": {
        "id": "cgF8NbhZIFSN"
      },
      "source": [
        "# in-out 순서 생성\n",
        "def create_inout_sequence(input_data, tw):\n",
        "    inout_seq = []\n",
        "    L = len(input_data)\n",
        "    for i in range(L-tw):\n",
        "        train_seq = input_data[i:i+tw]      # train set 1-132까지의 데이터 하나\n",
        "        train_label = input_data[i+tw:i+tw+1]   # test set 133-144까지의 데이터 하나\n",
        "        inout_seq.append((train_seq, train_label))\n",
        "    return inout_seq"
      ],
      "execution_count": 54,
      "outputs": []
    },
    {
      "cell_type": "code",
      "metadata": {
        "id": "F6ROU5qKIgQt"
      },
      "source": [
        "train_inout_seq = create_inout_sequence(train_data_normalized, train_window)"
      ],
      "execution_count": 55,
      "outputs": []
    },
    {
      "cell_type": "code",
      "metadata": {
        "colab": {
          "base_uri": "https://localhost:8080/"
        },
        "id": "6MmBJxEiIl5t",
        "outputId": "348eb089-150a-4450-f038-6ed2f99fb6d4"
      },
      "source": [
        "train_inout_seq[:5]"
      ],
      "execution_count": 56,
      "outputs": [
        {
          "output_type": "execute_result",
          "data": {
            "text/plain": [
              "[(tensor([-0.9648, -0.9385, -0.8769, -0.8901, -0.9253, -0.8637, -0.8066, -0.8066,\n",
              "          -0.8593, -0.9341, -1.0000, -0.9385]), tensor([-0.9516])),\n",
              " (tensor([-0.9385, -0.8769, -0.8901, -0.9253, -0.8637, -0.8066, -0.8066, -0.8593,\n",
              "          -0.9341, -1.0000, -0.9385, -0.9516]),\n",
              "  tensor([-0.9033])),\n",
              " (tensor([-0.8769, -0.8901, -0.9253, -0.8637, -0.8066, -0.8066, -0.8593, -0.9341,\n",
              "          -1.0000, -0.9385, -0.9516, -0.9033]), tensor([-0.8374])),\n",
              " (tensor([-0.8901, -0.9253, -0.8637, -0.8066, -0.8066, -0.8593, -0.9341, -1.0000,\n",
              "          -0.9385, -0.9516, -0.9033, -0.8374]), tensor([-0.8637])),\n",
              " (tensor([-0.9253, -0.8637, -0.8066, -0.8066, -0.8593, -0.9341, -1.0000, -0.9385,\n",
              "          -0.9516, -0.9033, -0.8374, -0.8637]), tensor([-0.9077]))]"
            ]
          },
          "metadata": {
            "tags": []
          },
          "execution_count": 56
        }
      ]
    },
    {
      "cell_type": "markdown",
      "metadata": {
        "id": "nor24sKrI6Yc"
      },
      "source": [
        "이제 LSTM 모델을 설계한다."
      ]
    },
    {
      "cell_type": "code",
      "metadata": {
        "id": "qG-aLpu5I93E"
      },
      "source": [
        "class LSTM(nn.Module):\n",
        "    def __init__(self, input_size=1, hidden_size=100, output_size=1):\n",
        "        super().__init__()\n",
        "        self.hidden_size = hidden_size\n",
        "        self.lstm = nn.LSTM(input_size, hidden_size)\n",
        "        self.linear = nn.Linear(hidden_size, output_size)\n",
        "        self.hidden_cell = (torch.zeros(1, 1, self.hidden_size),\n",
        "                            torch.zeros(1, 1, self.hidden_size))\n",
        "        # super().__init__()\n",
        "        # self.input_size = input_size\n",
        "        # self.hidden_size = hidden_size\n",
        "\n",
        "        # self.lstm = nn.LSTM(\n",
        "        #     input_size = input_size,\n",
        "        #     hidden_size = hidden_size,\n",
        "        #     num_layers = 4,\n",
        "        #     bidirectional = True\n",
        "        # )\n",
        "        # self.layers = nn.Sequential(\n",
        "        #     nn.ReLU(),\n",
        "        #     nn.Linear(input_size*2, hidden_size)\n",
        "        # )\n",
        "\n",
        "        \n",
        "    def forward(self, input_seq):\n",
        "        lstm_out, self.hidden_cell = self.lstm(input_seq.view(len(input_seq), 1, -1), self.hidden_cell)\n",
        "        prediction = self.linear(lstm_out.view(len(input_seq), -1))\n",
        "        return prediction[-1]\n",
        "        # y, _ = self.lstm(input_seq.view(len(input_seq), 1, -1))\n",
        "        # y = self.layers(y)\n",
        "        # return y"
      ],
      "execution_count": 81,
      "outputs": []
    },
    {
      "cell_type": "code",
      "metadata": {
        "id": "qNFsAqEOJ_K1"
      },
      "source": [
        "# LSTM 객체 생성\n",
        "model = LSTM()\n",
        "loss_function = nn.MSELoss()\n",
        "optimizer = torch.optim.Adam(model.parameters(), lr=0.001)"
      ],
      "execution_count": 82,
      "outputs": []
    },
    {
      "cell_type": "code",
      "metadata": {
        "colab": {
          "base_uri": "https://localhost:8080/"
        },
        "id": "UaSvYMy1Kj2F",
        "outputId": "bea1f9ab-e160-404e-845c-e23b21b31ac9"
      },
      "source": [
        "print(model)"
      ],
      "execution_count": 83,
      "outputs": [
        {
          "output_type": "stream",
          "text": [
            "LSTM(\n",
            "  (lstm): LSTM(1, 100)\n",
            "  (linear): Linear(in_features=100, out_features=1, bias=True)\n",
            ")\n"
          ],
          "name": "stdout"
        }
      ]
    },
    {
      "cell_type": "code",
      "metadata": {
        "colab": {
          "base_uri": "https://localhost:8080/"
        },
        "id": "9-FvorYHKqVH",
        "outputId": "c5d8b7b9-7e63-4ffb-c893-8bf4faf37a45"
      },
      "source": [
        "# 모델 학습\n",
        "epochs = 150\n",
        "\n",
        "for i in range(epochs):\n",
        "    for seq, labels in train_inout_seq:\n",
        "        optimizer.zero_grad()\n",
        "        model.hidden_cell = (torch.zeros(1, 1, model.hidden_size),\n",
        "                            torch.zeros(1, 1, model.hidden_size))\n",
        "        \n",
        "        y_pred = model(seq)\n",
        "\n",
        "        single_loss = loss_function(y_pred, labels)\n",
        "        single_loss.backward()\n",
        "        optimizer.step()\n",
        "\n",
        "    if i % 25 == 1:\n",
        "        print(f'epoch: {i:3} loss: {single_loss.item():10.8f}')\n",
        "print(f'epoch: {i:3} loss: {single_loss.item():10.10f}')"
      ],
      "execution_count": 84,
      "outputs": [
        {
          "output_type": "stream",
          "text": [
            "epoch:   1 loss: 0.00970320\n",
            "epoch:  26 loss: 0.00871714\n",
            "epoch:  51 loss: 0.01069154\n",
            "epoch:  76 loss: 0.00008625\n",
            "epoch: 101 loss: 0.00705828\n",
            "epoch: 126 loss: 0.00356397\n",
            "epoch: 149 loss: 0.0276421960\n"
          ],
          "name": "stdout"
        }
      ]
    },
    {
      "cell_type": "code",
      "metadata": {
        "colab": {
          "base_uri": "https://localhost:8080/"
        },
        "id": "w_m-8eTELim6",
        "outputId": "648c925e-6a0c-42a9-e359-d85d3d2734ed"
      },
      "source": [
        "fut_pred = 12           # 미래 예측\n",
        "test_inputs = train_data_normalized[-train_window:].tolist()\n",
        "print(test_inputs)"
      ],
      "execution_count": 85,
      "outputs": [
        {
          "output_type": "stream",
          "text": [
            "[0.12527473270893097, 0.04615384712815285, 0.3274725377559662, 0.2835164964199066, 0.3890109956264496, 0.6175824403762817, 0.9516483545303345, 1.0, 0.5780220031738281, 0.33186814188957214, 0.13406594097614288, 0.32307693362236023]\n"
          ],
          "name": "stdout"
        }
      ]
    },
    {
      "cell_type": "code",
      "metadata": {
        "id": "35FvHuJyMJwU"
      },
      "source": [
        "# 검증\n",
        "model.eval()\n",
        "\n",
        "for i in range(fut_pred):\n",
        "    seq = torch.FloatTensor(test_inputs[-train_window:])\n",
        "    with torch.no_grad():\n",
        "        model.hidden = (torch.zeros(1, 1, model.hidden_size),\n",
        "                        torch.zeros(1, 1, model.hidden_size))\n",
        "        test_inputs.append(model(seq).item())"
      ],
      "execution_count": 86,
      "outputs": []
    },
    {
      "cell_type": "code",
      "metadata": {
        "colab": {
          "base_uri": "https://localhost:8080/"
        },
        "id": "oz6QN0VQMw0P",
        "outputId": "5a5c3c25-5e19-4581-bb73-52b9a6cba71f"
      },
      "source": [
        "# 정규화된 값이 나온다.\n",
        "test_inputs[fut_pred:]"
      ],
      "execution_count": 87,
      "outputs": [
        {
          "output_type": "execute_result",
          "data": {
            "text/plain": [
              "[0.4825625717639923,\n",
              " 0.3660377562046051,\n",
              " 0.28855961561203003,\n",
              " 0.5140975117683411,\n",
              " 0.462953120470047,\n",
              " 0.6697899699211121,\n",
              " 0.5724673867225647,\n",
              " 0.9048423171043396,\n",
              " 0.48223257064819336,\n",
              " 0.9979586005210876,\n",
              " 0.5485185384750366,\n",
              " 1.0791429281234741]"
            ]
          },
          "metadata": {
            "tags": []
          },
          "execution_count": 87
        }
      ]
    },
    {
      "cell_type": "code",
      "metadata": {
        "colab": {
          "base_uri": "https://localhost:8080/"
        },
        "id": "in-xsVU7NBhj",
        "outputId": "6441a50e-811e-4292-8ebf-ce2424f1541c"
      },
      "source": [
        "# 실제값으로 변경해본다.\n",
        "actual_predictions = scaler.inverse_transform(np.array(test_inputs[train_window:]).reshape(-1, 1))\n",
        "print(actual_predictions)"
      ],
      "execution_count": 88,
      "outputs": [
        {
          "output_type": "stream",
          "text": [
            "[[441.28298508]\n",
            " [414.77358954]\n",
            " [397.14731255]\n",
            " [448.45718393]\n",
            " [436.82183491]\n",
            " [483.87721816]\n",
            " [461.73633048]\n",
            " [537.35162714]\n",
            " [441.20790982]\n",
            " [558.53558162]\n",
            " [456.2879675 ]\n",
            " [577.00501615]]\n"
          ],
          "name": "stdout"
        }
      ]
    },
    {
      "cell_type": "code",
      "metadata": {
        "colab": {
          "base_uri": "https://localhost:8080/"
        },
        "id": "6BeYwr4SNRou",
        "outputId": "98890aa6-ff2e-447a-e17c-6934c17ac87b"
      },
      "source": [
        "# 실제 변수에 대해 예측\n",
        "x = np.arange(132, 144, 1)\n",
        "print(x)"
      ],
      "execution_count": 89,
      "outputs": [
        {
          "output_type": "stream",
          "text": [
            "[132 133 134 135 136 137 138 139 140 141 142 143]\n"
          ],
          "name": "stdout"
        }
      ]
    },
    {
      "cell_type": "code",
      "metadata": {
        "colab": {
          "base_uri": "https://localhost:8080/",
          "height": 336
        },
        "id": "ySDvyHkhNXZp",
        "outputId": "f4f6f299-45eb-4d86-aa1d-08f9fd187db7"
      },
      "source": [
        "plt.title('Month vs Passenger')\n",
        "plt.ylabel('Total Passengers')\n",
        "plt.grid(True)\n",
        "plt.autoscale(axis='x', tight=True)\n",
        "plt.plot(flight_data['passengers'])\n",
        "plt.plot(x, actual_predictions)\n",
        "plt.show()"
      ],
      "execution_count": 90,
      "outputs": [
        {
          "output_type": "display_data",
          "data": {
            "image/png": "[encoded data removed]",
            "text/plain": [
              "<Figure size 1080x360 with 1 Axes>"
            ]
          },
          "metadata": {
            "tags": [],
            "needs_background": "light"
          }
        }
      ]
    },
    {
      "cell_type": "markdown",
      "metadata": {
        "id": "1nRE1t7zNsDD"
      },
      "source": [
        "주황색 선에 해당하는 값이 lstm 예측값이다.    \n",
        "\n",
        "아주 정확하진 않지만 위쪽에 위치하는 것을 확인할 수 있다.     \n",
        "\n",
        "정확도를 높이기 위해서는 레이어에 더 많은 수의 뉴런을 넣고 더 많은 epoch에서 학습을 시도할 수 있다."
      ]
    },
    {
      "cell_type": "code",
      "metadata": {
        "colab": {
          "base_uri": "https://localhost:8080/",
          "height": 336
        },
        "id": "SjT04OQpN_X7",
        "outputId": "50e6bc0c-93b9-444f-bdeb-a0b3476e9489"
      },
      "source": [
        "# 12개월동안의 출력\n",
        "plt.title('Month vs Passenger')\n",
        "plt.ylabel('Total Passengers')\n",
        "plt.grid(True)\n",
        "plt.autoscale(axis='x', tight=True)\n",
        "plt.plot(flight_data['passengers'][-train_window:])\n",
        "plt.plot(x, actual_predictions)\n",
        "plt.show()"
      ],
      "execution_count": 91,
      "outputs": [
        {
          "output_type": "display_data",
          "data": {
            "image/png": "[encoded data removed]",
            "text/plain": [
              "<Figure size 1080x360 with 1 Axes>"
            ]
          },
          "metadata": {
            "tags": [],
            "needs_background": "light"
          }
        }
      ]
    },
    {
      "cell_type": "markdown",
      "metadata": {
        "id": "l0Sn1PffOYdV"
      },
      "source": [
        "예측 잘 못한 것 같음"
      ]
    }
  ]
}
